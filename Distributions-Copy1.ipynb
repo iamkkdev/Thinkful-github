{
 "cells": [
  {
   "cell_type": "code",
   "execution_count": 2,
   "metadata": {},
   "outputs": [],
   "source": [
    "#importing \n",
    "import numpy as np\n",
    "import pandas as pd\n",
    "import matplotlib.pyplot as plt\n",
    "%matplotlib inline"
   ]
  },
  {
   "cell_type": "code",
   "execution_count": 41,
   "metadata": {},
   "outputs": [
    {
     "data": {
      "text/plain": [
       "<matplotlib.lines.Line2D at 0x11c17da90>"
      ]
     },
     "execution_count": 41,
     "metadata": {},
     "output_type": "execute_result"
    },
    {
     "data": {
      "image/png": "[encoded data removed]",
      "text/plain": [
       "<Figure size 432x288 with 1 Axes>"
      ]
     },
     "metadata": {
      "needs_background": "light"
     },
     "output_type": "display_data"
    }
   ],
   "source": [
    "#Generate a random variable with 100 datapoints using the code distributionvar \n",
    "#= np.random.distributionname([arguments], 100), replacing distributionvar with an \n",
    "#appropriate variable name and distributionname with the name of the distribution you’ve chosen, \n",
    "#and filling in the empty space in the parentheses with your chosen values for the appropriate parameters. \n",
    "#If you feel uncertain about how to do this, go back to the “Other Distributions” assignment \n",
    "#for examples of code to use as a starting point.\n",
    "rand_normal = np.random.normal(50, 100, 100)\n",
    "rand_pois = np.random.poisson(1, 100)\n",
    "rand_bern = np.random.binomial(1, 0.5, 100)\n",
    "rand_binom = np.random.binomial(20, 0.5, 100)\n",
    "rand_gamma = np.random.gamma(5,1, 100)\n",
    "plt.hist(rand_normal, bins = 20, color = 'g')\n",
    "plt.axvline(rand_normal.mean(), color = 'b', linestyle = 'solid', linewidth = 2)\n",
    "plt.axvline(rand_normal.mean()+rand_normal.std(), color = 'b', linestyle = 'dashed', linewidth =2)\n",
    "plt.axvline(rand_normal.mean()-rand_normal.std(), color = 'b', linestyle = 'dashed', linewidth =2)\n",
    "\n"
   ]
  },
  {
   "cell_type": "code",
   "execution_count": 44,
   "metadata": {},
   "outputs": [
    {
     "data": {
      "text/plain": [
       "42.73638388173085"
      ]
     },
     "execution_count": 44,
     "metadata": {},
     "output_type": "execute_result"
    }
   ],
   "source": [
    "#Mean of rand_normal\n",
    "rand_normal.mean()"
   ]
  },
  {
   "cell_type": "code",
   "execution_count": 45,
   "metadata": {},
   "outputs": [
    {
     "data": {
      "text/plain": [
       "94.26429201978897"
      ]
     },
     "execution_count": 45,
     "metadata": {},
     "output_type": "execute_result"
    }
   ],
   "source": [
    "#std dev of rand_normal\n",
    "rand_normal.std()"
   ]
  },
  {
   "cell_type": "code",
   "execution_count": 47,
   "metadata": {},
   "outputs": [
    {
     "data": {
      "text/plain": [
       "365.509190952997"
      ]
     },
     "execution_count": 47,
     "metadata": {},
     "output_type": "execute_result"
    }
   ],
   "source": [
    "rand_normal.max()"
   ]
  },
  {
   "cell_type": "code",
   "execution_count": 48,
   "metadata": {},
   "outputs": [
    {
     "data": {
      "text/plain": [
       "-194.53586995745243"
      ]
     },
     "execution_count": 48,
     "metadata": {},
     "output_type": "execute_result"
    }
   ],
   "source": [
    "rand_normal.min()"
   ]
  },
  {
   "cell_type": "code",
   "execution_count": 49,
   "metadata": {},
   "outputs": [],
   "source": [
    "##Because it is a normal distribution, it appears that the 68% of values \n",
    "#lie between 1 std dev and 95% between 2 std dev"
   ]
  },
  {
   "cell_type": "code",
   "execution_count": 52,
   "metadata": {},
   "outputs": [],
   "source": [
    "#Generate two normally-distributed variables, one with a mean of 5 and standard deviation of 0.5, \n",
    "#and the other with a mean of 10 and a standard deviation of 1.\n",
    "rand1 = np.random.normal(5, 0.5, 100)\n",
    "rand2 = np.random.normal(10, 1, 100)\n",
    "rand3 = rand1+rand2"
   ]
  },
  {
   "cell_type": "code",
   "execution_count": 61,
   "metadata": {},
   "outputs": [
    {
     "data": {
      "text/plain": [
       "<matplotlib.lines.Line2D at 0x11ccb70b8>"
      ]
     },
     "execution_count": 61,
     "metadata": {},
     "output_type": "execute_result"
    },
    {
     "data": {
      "image/png": "[encoded data removed]",
      "text/plain": [
       "<Figure size 432x288 with 1 Axes>"
      ]
     },
     "metadata": {
      "needs_background": "light"
     },
     "output_type": "display_data"
    }
   ],
   "source": [
    "#Graph the third variable using a histogram.\n",
    "plt.hist(rand3, bins = 20, color = 'r')\n",
    "#Compute the mean and standard deviation and plot them as vertical lines on the histogram.\n",
    "plt.axvline(rand3.mean(), color = 'b')\n",
    "plt.axvline(rand3.mean()+rand3.std(),linestyle = 'dashed')\n",
    "plt.axvline(rand3.mean()-rand3.std(),linestyle = 'dashed')"
   ]
  },
  {
   "cell_type": "code",
   "execution_count": null,
   "metadata": {},
   "outputs": [],
   "source": []
  },
  {
   "cell_type": "code",
   "execution_count": null,
   "metadata": {},
   "outputs": [],
   "source": []
  },
  {
   "cell_type": "code",
   "execution_count": null,
   "metadata": {},
   "outputs": [],
   "source": []
  }
 ],
 "metadata": {
  "kernelspec": {
   "display_name": "Python 3",
   "language": "python",
   "name": "python3"
  },
  "language_info": {
   "codemirror_mode": {
    "name": "ipython",
    "version": 3
   },
   "file_extension": ".py",
   "mimetype": "text/x-python",
   "name": "python",
   "nbconvert_exporter": "python",
   "pygments_lexer": "ipython3",
   "version": "3.7.3"
  }
 },
 "nbformat": 4,
 "nbformat_minor": 2
}
