{
 "cells": [
  {
   "cell_type": "code",
   "execution_count": 1,
   "metadata": {},
   "outputs": [],
   "source": [
    "import numpy as np\n",
    "import pandas as pd\n",
    "from sklearn.linear_model import LinearRegression\n",
    "from sklearn.model_selection import train_test_split\n",
    "from sklearn.metrics import mean_absolute_error\n",
    "from statsmodels.tools.eval_measures import mse, rmse\n",
    "import seaborn as sns\n",
    "import matplotlib.pyplot as plt\n",
    "%matplotlib inline\n",
    "import warnings\n",
    "warnings.filterwarnings('ignore')"
   ]
  },
  {
   "cell_type": "markdown",
   "metadata": {},
   "source": [
    "https://www.kaggle.com/arindam235/startup-investments-crunchbase"
   ]
  },
  {
   "cell_type": "code",
   "execution_count": 2,
   "metadata": {},
   "outputs": [
    {
     "data": {
      "text/html": [
       "<div>\n",
       "<style scoped>\n",
       "    .dataframe tbody tr th:only-of-type {\n",
       "        vertical-align: middle;\n",
       "    }\n",
       "\n",
       "    .dataframe tbody tr th {\n",
       "        vertical-align: top;\n",
       "    }\n",
       "\n",
       "    .dataframe thead th {\n",
       "        text-align: right;\n",
       "    }\n",
       "</style>\n",
       "<table border=\"1\" class=\"dataframe\">\n",
       "  <thead>\n",
       "    <tr style=\"text-align: right;\">\n",
       "      <th></th>\n",
       "      <th>permalink</th>\n",
       "      <th>name</th>\n",
       "      <th>homepage_url</th>\n",
       "      <th>category_list</th>\n",
       "      <th>market</th>\n",
       "      <th>funding_total_usd</th>\n",
       "      <th>status</th>\n",
       "      <th>country_code</th>\n",
       "      <th>state_code</th>\n",
       "      <th>region</th>\n",
       "      <th>...</th>\n",
       "      <th>secondary_market</th>\n",
       "      <th>product_crowdfunding</th>\n",
       "      <th>round_A</th>\n",
       "      <th>round_B</th>\n",
       "      <th>round_C</th>\n",
       "      <th>round_D</th>\n",
       "      <th>round_E</th>\n",
       "      <th>round_F</th>\n",
       "      <th>round_G</th>\n",
       "      <th>round_H</th>\n",
       "    </tr>\n",
       "  </thead>\n",
       "  <tbody>\n",
       "    <tr>\n",
       "      <th>0</th>\n",
       "      <td>/organization/waywire</td>\n",
       "      <td>#waywire</td>\n",
       "      <td>http://www.waywire.com</td>\n",
       "      <td>|Entertainment|Politics|Social Media|News|</td>\n",
       "      <td>News</td>\n",
       "      <td>17,50,000</td>\n",
       "      <td>acquired</td>\n",
       "      <td>USA</td>\n",
       "      <td>NY</td>\n",
       "      <td>New York City</td>\n",
       "      <td>...</td>\n",
       "      <td>0.0</td>\n",
       "      <td>0.0</td>\n",
       "      <td>0.0</td>\n",
       "      <td>0.0</td>\n",
       "      <td>0.0</td>\n",
       "      <td>0.0</td>\n",
       "      <td>0.0</td>\n",
       "      <td>0.0</td>\n",
       "      <td>0.0</td>\n",
       "      <td>0.0</td>\n",
       "    </tr>\n",
       "    <tr>\n",
       "      <th>1</th>\n",
       "      <td>/organization/tv-communications</td>\n",
       "      <td>&amp;TV Communications</td>\n",
       "      <td>http://enjoyandtv.com</td>\n",
       "      <td>|Games|</td>\n",
       "      <td>Games</td>\n",
       "      <td>40,00,000</td>\n",
       "      <td>operating</td>\n",
       "      <td>USA</td>\n",
       "      <td>CA</td>\n",
       "      <td>Los Angeles</td>\n",
       "      <td>...</td>\n",
       "      <td>0.0</td>\n",
       "      <td>0.0</td>\n",
       "      <td>0.0</td>\n",
       "      <td>0.0</td>\n",
       "      <td>0.0</td>\n",
       "      <td>0.0</td>\n",
       "      <td>0.0</td>\n",
       "      <td>0.0</td>\n",
       "      <td>0.0</td>\n",
       "      <td>0.0</td>\n",
       "    </tr>\n",
       "    <tr>\n",
       "      <th>2</th>\n",
       "      <td>/organization/rock-your-paper</td>\n",
       "      <td>'Rock' Your Paper</td>\n",
       "      <td>http://www.rockyourpaper.org</td>\n",
       "      <td>|Publishing|Education|</td>\n",
       "      <td>Publishing</td>\n",
       "      <td>40,000</td>\n",
       "      <td>operating</td>\n",
       "      <td>EST</td>\n",
       "      <td>NaN</td>\n",
       "      <td>Tallinn</td>\n",
       "      <td>...</td>\n",
       "      <td>0.0</td>\n",
       "      <td>0.0</td>\n",
       "      <td>0.0</td>\n",
       "      <td>0.0</td>\n",
       "      <td>0.0</td>\n",
       "      <td>0.0</td>\n",
       "      <td>0.0</td>\n",
       "      <td>0.0</td>\n",
       "      <td>0.0</td>\n",
       "      <td>0.0</td>\n",
       "    </tr>\n",
       "    <tr>\n",
       "      <th>3</th>\n",
       "      <td>/organization/in-touch-network</td>\n",
       "      <td>(In)Touch Network</td>\n",
       "      <td>http://www.InTouchNetwork.com</td>\n",
       "      <td>|Electronics|Guides|Coffee|Restaurants|Music|i...</td>\n",
       "      <td>Electronics</td>\n",
       "      <td>15,00,000</td>\n",
       "      <td>operating</td>\n",
       "      <td>GBR</td>\n",
       "      <td>NaN</td>\n",
       "      <td>London</td>\n",
       "      <td>...</td>\n",
       "      <td>0.0</td>\n",
       "      <td>0.0</td>\n",
       "      <td>0.0</td>\n",
       "      <td>0.0</td>\n",
       "      <td>0.0</td>\n",
       "      <td>0.0</td>\n",
       "      <td>0.0</td>\n",
       "      <td>0.0</td>\n",
       "      <td>0.0</td>\n",
       "      <td>0.0</td>\n",
       "    </tr>\n",
       "    <tr>\n",
       "      <th>4</th>\n",
       "      <td>/organization/r-ranch-and-mine</td>\n",
       "      <td>-R- Ranch and Mine</td>\n",
       "      <td>NaN</td>\n",
       "      <td>|Tourism|Entertainment|Games|</td>\n",
       "      <td>Tourism</td>\n",
       "      <td>60,000</td>\n",
       "      <td>operating</td>\n",
       "      <td>USA</td>\n",
       "      <td>TX</td>\n",
       "      <td>Dallas</td>\n",
       "      <td>...</td>\n",
       "      <td>0.0</td>\n",
       "      <td>0.0</td>\n",
       "      <td>0.0</td>\n",
       "      <td>0.0</td>\n",
       "      <td>0.0</td>\n",
       "      <td>0.0</td>\n",
       "      <td>0.0</td>\n",
       "      <td>0.0</td>\n",
       "      <td>0.0</td>\n",
       "      <td>0.0</td>\n",
       "    </tr>\n",
       "  </tbody>\n",
       "</table>\n",
       "<p>5 rows × 39 columns</p>\n",
       "</div>"
      ],
      "text/plain": [
       "                         permalink                name  \\\n",
       "0            /organization/waywire            #waywire   \n",
       "1  /organization/tv-communications  &TV Communications   \n",
       "2    /organization/rock-your-paper   'Rock' Your Paper   \n",
       "3   /organization/in-touch-network   (In)Touch Network   \n",
       "4   /organization/r-ranch-and-mine  -R- Ranch and Mine   \n",
       "\n",
       "                    homepage_url  \\\n",
       "0         http://www.waywire.com   \n",
       "1          http://enjoyandtv.com   \n",
       "2   http://www.rockyourpaper.org   \n",
       "3  http://www.InTouchNetwork.com   \n",
       "4                            NaN   \n",
       "\n",
       "                                       category_list        market   \\\n",
       "0         |Entertainment|Politics|Social Media|News|          News    \n",
       "1                                            |Games|         Games    \n",
       "2                             |Publishing|Education|    Publishing    \n",
       "3  |Electronics|Guides|Coffee|Restaurants|Music|i...   Electronics    \n",
       "4                      |Tourism|Entertainment|Games|       Tourism    \n",
       "\n",
       "   funding_total_usd      status country_code state_code         region  ...  \\\n",
       "0          17,50,000    acquired          USA         NY  New York City  ...   \n",
       "1          40,00,000   operating          USA         CA    Los Angeles  ...   \n",
       "2             40,000   operating          EST        NaN        Tallinn  ...   \n",
       "3          15,00,000   operating          GBR        NaN         London  ...   \n",
       "4             60,000   operating          USA         TX         Dallas  ...   \n",
       "\n",
       "  secondary_market  product_crowdfunding round_A round_B round_C  round_D  \\\n",
       "0              0.0                   0.0     0.0     0.0     0.0      0.0   \n",
       "1              0.0                   0.0     0.0     0.0     0.0      0.0   \n",
       "2              0.0                   0.0     0.0     0.0     0.0      0.0   \n",
       "3              0.0                   0.0     0.0     0.0     0.0      0.0   \n",
       "4              0.0                   0.0     0.0     0.0     0.0      0.0   \n",
       "\n",
       "  round_E round_F  round_G  round_H  \n",
       "0     0.0     0.0      0.0      0.0  \n",
       "1     0.0     0.0      0.0      0.0  \n",
       "2     0.0     0.0      0.0      0.0  \n",
       "3     0.0     0.0      0.0      0.0  \n",
       "4     0.0     0.0      0.0      0.0  \n",
       "\n",
       "[5 rows x 39 columns]"
      ]
     },
     "execution_count": 2,
     "metadata": {},
     "output_type": "execute_result"
    }
   ],
   "source": [
    "investments_df = pd.read_csv(\"investments_VC.csv\", encoding ='latin1')\n",
    "investments_df.head()"
   ]
  },
  {
   "cell_type": "code",
   "execution_count": 3,
   "metadata": {},
   "outputs": [
    {
     "name": "stdout",
     "output_type": "stream",
     "text": [
      "<class 'pandas.core.frame.DataFrame'>\n",
      "RangeIndex: 54294 entries, 0 to 54293\n",
      "Data columns (total 39 columns):\n",
      "permalink               49438 non-null object\n",
      "name                    49437 non-null object\n",
      "homepage_url            45989 non-null object\n",
      "category_list           45477 non-null object\n",
      " market                 45470 non-null object\n",
      " funding_total_usd      49438 non-null object\n",
      "status                  48124 non-null object\n",
      "country_code            44165 non-null object\n",
      "state_code              30161 non-null object\n",
      "region                  44165 non-null object\n",
      "city                    43322 non-null object\n",
      "funding_rounds          49438 non-null float64\n",
      "founded_at              38554 non-null object\n",
      "founded_month           38482 non-null object\n",
      "founded_quarter         38482 non-null object\n",
      "founded_year            38482 non-null float64\n",
      "first_funding_at        49438 non-null object\n",
      "last_funding_at         49438 non-null object\n",
      "seed                    49438 non-null float64\n",
      "venture                 49438 non-null float64\n",
      "equity_crowdfunding     49438 non-null float64\n",
      "undisclosed             49438 non-null float64\n",
      "convertible_note        49438 non-null float64\n",
      "debt_financing          49438 non-null float64\n",
      "angel                   49438 non-null float64\n",
      "grant                   49438 non-null float64\n",
      "private_equity          49438 non-null float64\n",
      "post_ipo_equity         49438 non-null float64\n",
      "post_ipo_debt           49438 non-null float64\n",
      "secondary_market        49438 non-null float64\n",
      "product_crowdfunding    49438 non-null float64\n",
      "round_A                 49438 non-null float64\n",
      "round_B                 49438 non-null float64\n",
      "round_C                 49438 non-null float64\n",
      "round_D                 49438 non-null float64\n",
      "round_E                 49438 non-null float64\n",
      "round_F                 49438 non-null float64\n",
      "round_G                 49438 non-null float64\n",
      "round_H                 49438 non-null float64\n",
      "dtypes: float64(23), object(16)\n",
      "memory usage: 16.2+ MB\n"
     ]
    }
   ],
   "source": [
    "investments_df.info()"
   ]
  },
  {
   "cell_type": "code",
   "execution_count": 4,
   "metadata": {},
   "outputs": [
    {
     "data": {
      "text/plain": [
       "permalink                8.943898\n",
       "name                     8.945740\n",
       "homepage_url            15.296350\n",
       "category_list           16.239363\n",
       " market                 16.252256\n",
       " funding_total_usd       8.943898\n",
       "status                  11.364055\n",
       "country_code            18.655837\n",
       "state_code              44.448742\n",
       "region                  18.655837\n",
       "city                    20.208494\n",
       "funding_rounds           8.943898\n",
       "founded_at              28.990312\n",
       "founded_month           29.122923\n",
       "founded_quarter         29.122923\n",
       "founded_year            29.122923\n",
       "first_funding_at         8.943898\n",
       "last_funding_at          8.943898\n",
       "seed                     8.943898\n",
       "venture                  8.943898\n",
       "equity_crowdfunding      8.943898\n",
       "undisclosed              8.943898\n",
       "convertible_note         8.943898\n",
       "debt_financing           8.943898\n",
       "angel                    8.943898\n",
       "grant                    8.943898\n",
       "private_equity           8.943898\n",
       "post_ipo_equity          8.943898\n",
       "post_ipo_debt            8.943898\n",
       "secondary_market         8.943898\n",
       "product_crowdfunding     8.943898\n",
       "round_A                  8.943898\n",
       "round_B                  8.943898\n",
       "round_C                  8.943898\n",
       "round_D                  8.943898\n",
       "round_E                  8.943898\n",
       "round_F                  8.943898\n",
       "round_G                  8.943898\n",
       "round_H                  8.943898\n",
       "dtype: float64"
      ]
     },
     "execution_count": 4,
     "metadata": {},
     "output_type": "execute_result"
    }
   ],
   "source": [
    "investments_df.isnull().sum()*100/investments_df.isnull().count()"
   ]
  },
  {
   "cell_type": "code",
   "execution_count": 5,
   "metadata": {},
   "outputs": [],
   "source": [
    "investments_df['funding_total_usd']  = investments_df[' funding_total_usd ']"
   ]
  },
  {
   "cell_type": "code",
   "execution_count": 6,
   "metadata": {},
   "outputs": [],
   "source": [
    "investments_df.drop(' funding_total_usd ', axis = 1, inplace = True)"
   ]
  },
  {
   "cell_type": "code",
   "execution_count": 7,
   "metadata": {},
   "outputs": [],
   "source": [
    "investments_df['market'] = investments_df[' market ']\n",
    "investments_df.drop(' market ', axis = 1, inplace = True)"
   ]
  },
  {
   "cell_type": "code",
   "execution_count": 8,
   "metadata": {},
   "outputs": [
    {
     "name": "stdout",
     "output_type": "stream",
     "text": [
      "<class 'pandas.core.frame.DataFrame'>\n",
      "RangeIndex: 54294 entries, 0 to 54293\n",
      "Data columns (total 39 columns):\n",
      "permalink               49438 non-null object\n",
      "name                    49437 non-null object\n",
      "homepage_url            45989 non-null object\n",
      "category_list           45477 non-null object\n",
      "status                  48124 non-null object\n",
      "country_code            44165 non-null object\n",
      "state_code              30161 non-null object\n",
      "region                  44165 non-null object\n",
      "city                    43322 non-null object\n",
      "funding_rounds          49438 non-null float64\n",
      "founded_at              38554 non-null object\n",
      "founded_month           38482 non-null object\n",
      "founded_quarter         38482 non-null object\n",
      "founded_year            38482 non-null float64\n",
      "first_funding_at        49438 non-null object\n",
      "last_funding_at         49438 non-null object\n",
      "seed                    49438 non-null float64\n",
      "venture                 49438 non-null float64\n",
      "equity_crowdfunding     49438 non-null float64\n",
      "undisclosed             49438 non-null float64\n",
      "convertible_note        49438 non-null float64\n",
      "debt_financing          49438 non-null float64\n",
      "angel                   49438 non-null float64\n",
      "grant                   49438 non-null float64\n",
      "private_equity          49438 non-null float64\n",
      "post_ipo_equity         49438 non-null float64\n",
      "post_ipo_debt           49438 non-null float64\n",
      "secondary_market        49438 non-null float64\n",
      "product_crowdfunding    49438 non-null float64\n",
      "round_A                 49438 non-null float64\n",
      "round_B                 49438 non-null float64\n",
      "round_C                 49438 non-null float64\n",
      "round_D                 49438 non-null float64\n",
      "round_E                 49438 non-null float64\n",
      "round_F                 49438 non-null float64\n",
      "round_G                 49438 non-null float64\n",
      "round_H                 49438 non-null float64\n",
      "funding_total_usd       49438 non-null object\n",
      "market                  45470 non-null object\n",
      "dtypes: float64(23), object(16)\n",
      "memory usage: 16.2+ MB\n"
     ]
    }
   ],
   "source": [
    "investments_df.info()"
   ]
  },
  {
   "cell_type": "markdown",
   "metadata": {},
   "source": [
    "### It appears that the 4856 rows at the bottom of the dataset are missing, dropping all those rows that have missing values"
   ]
  },
  {
   "cell_type": "code",
   "execution_count": 9,
   "metadata": {},
   "outputs": [],
   "source": [
    "investments_df1 = investments_df.copy()"
   ]
  },
  {
   "cell_type": "code",
   "execution_count": 10,
   "metadata": {},
   "outputs": [],
   "source": [
    "investments_df.drop([49439,54293], axis =0, inplace = True)"
   ]
  },
  {
   "cell_type": "code",
   "execution_count": 11,
   "metadata": {},
   "outputs": [
    {
     "data": {
      "text/plain": [
       "4856"
      ]
     },
     "execution_count": 11,
     "metadata": {},
     "output_type": "execute_result"
    }
   ],
   "source": [
    "54294-49438"
   ]
  },
  {
   "cell_type": "code",
   "execution_count": 12,
   "metadata": {},
   "outputs": [],
   "source": [
    "in_df = investments_df.iloc[49439:54293]"
   ]
  },
  {
   "cell_type": "code",
   "execution_count": 13,
   "metadata": {},
   "outputs": [],
   "source": [
    "## creating a dataset by removing the missing values at the bottom of the dataset\n",
    "in_df1 = investments_df.copy()\n",
    "investments_df = in_df1.iloc[0:49438]"
   ]
  },
  {
   "cell_type": "code",
   "execution_count": 14,
   "metadata": {},
   "outputs": [
    {
     "data": {
      "text/plain": [
       "permalink                0.000000\n",
       "name                     0.002023\n",
       "homepage_url             6.976415\n",
       "category_list            8.012056\n",
       "status                   2.657875\n",
       "country_code            10.665885\n",
       "state_code              38.992273\n",
       "region                  10.665885\n",
       "city                    12.371051\n",
       "funding_rounds           0.000000\n",
       "founded_at              22.015454\n",
       "founded_month           22.161091\n",
       "founded_quarter         22.161091\n",
       "founded_year            22.161091\n",
       "first_funding_at         0.000000\n",
       "last_funding_at          0.000000\n",
       "seed                     0.000000\n",
       "venture                  0.000000\n",
       "equity_crowdfunding      0.000000\n",
       "undisclosed              0.000000\n",
       "convertible_note         0.000000\n",
       "debt_financing           0.000000\n",
       "angel                    0.000000\n",
       "grant                    0.000000\n",
       "private_equity           0.000000\n",
       "post_ipo_equity          0.000000\n",
       "post_ipo_debt            0.000000\n",
       "secondary_market         0.000000\n",
       "product_crowdfunding     0.000000\n",
       "round_A                  0.000000\n",
       "round_B                  0.000000\n",
       "round_C                  0.000000\n",
       "round_D                  0.000000\n",
       "round_E                  0.000000\n",
       "round_F                  0.000000\n",
       "round_G                  0.000000\n",
       "round_H                  0.000000\n",
       "funding_total_usd        0.000000\n",
       "market                   8.026215\n",
       "dtype: float64"
      ]
     },
     "execution_count": 14,
     "metadata": {},
     "output_type": "execute_result"
    }
   ],
   "source": [
    "investments_df.isnull().sum()*100/investments_df.isnull().count()"
   ]
  },
  {
   "cell_type": "code",
   "execution_count": 15,
   "metadata": {},
   "outputs": [
    {
     "data": {
      "text/plain": [
       "0.0           40435\n",
       "5000000.0       525\n",
       "3000000.0       378\n",
       "2000000.0       372\n",
       "10000000.0      324\n",
       "              ...  \n",
       "2498400.0         1\n",
       "755700.0          1\n",
       "6570000.0         1\n",
       "1904761.0         1\n",
       "4969429.0         1\n",
       "Name: round_A, Length: 2035, dtype: int64"
      ]
     },
     "execution_count": 15,
     "metadata": {},
     "output_type": "execute_result"
    }
   ],
   "source": [
    "investments_df['round_A'].value_counts()"
   ]
  },
  {
   "cell_type": "code",
   "execution_count": 16,
   "metadata": {},
   "outputs": [
    {
     "data": {
      "text/plain": [
       "operating    41829\n",
       "acquired      3692\n",
       "closed        2603\n",
       "Name: status, dtype: int64"
      ]
     },
     "execution_count": 16,
     "metadata": {},
     "output_type": "execute_result"
    }
   ],
   "source": [
    "investments_df['status'].value_counts()"
   ]
  },
  {
   "cell_type": "code",
   "execution_count": 17,
   "metadata": {},
   "outputs": [],
   "source": [
    "investments_df['funding_total_usd'] = investments_df['funding_total_usd'].str.replace(',', '')\n",
    "investments_df['funding_total_usd'] = investments_df['funding_total_usd'].str.replace('-', 'Nan')\n",
    "investments_df['funding_total_usd'] = investments_df['funding_total_usd'].astype('float')"
   ]
  },
  {
   "cell_type": "code",
   "execution_count": 18,
   "metadata": {},
   "outputs": [],
   "source": [
    "numeric_data = investments_df.select_dtypes(include = ['float', 'int'])\n",
    "categorical_data = investments_df.select_dtypes(include =['object'])\n",
    "numeric_data.drop('founded_year', axis =1, inplace = True)\n",
    "numeric_data.head()\n",
    "numeric_corr = numeric_data.corr()"
   ]
  },
  {
   "cell_type": "code",
   "execution_count": 19,
   "metadata": {},
   "outputs": [
    {
     "data": {
      "text/plain": [
       "(array([ 0.5,  1.5,  2.5,  3.5,  4.5,  5.5,  6.5,  7.5,  8.5,  9.5, 10.5,\n",
       "        11.5, 12.5, 13.5, 14.5, 15.5, 16.5, 17.5, 18.5, 19.5, 20.5, 21.5,\n",
       "        22.5]), <a list of 23 Text yticklabel objects>)"
      ]
     },
     "execution_count": 19,
     "metadata": {},
     "output_type": "execute_result"
    },
    {
     "data": {
      "image/png": "[encoded data removed]",
      "text/plain": [
       "<Figure size 2880x2880 with 2 Axes>"
      ]
     },
     "metadata": {
      "needs_background": "light"
     },
     "output_type": "display_data"
    }
   ],
   "source": [
    "plt.figure(figsize = (40,40))\n",
    "sns.heatmap(numeric_corr, square = True, annot = True, linewidths = 0.5)\n",
    "plt.title(\"Correlation Matrix Startup Data\", fontsize = 30)\n",
    "plt.xticks(fontsize = 16)\n",
    "plt.yticks(fontsize = 16)"
   ]
  },
  {
   "cell_type": "code",
   "execution_count": 20,
   "metadata": {},
   "outputs": [
    {
     "data": {
      "text/plain": [
       "1.0     32039\n",
       "2.0      9219\n",
       "3.0      4026\n",
       "4.0      1997\n",
       "5.0      1001\n",
       "6.0       560\n",
       "7.0       252\n",
       "8.0       152\n",
       "9.0        84\n",
       "10.0       43\n",
       "11.0       35\n",
       "12.0       12\n",
       "13.0        8\n",
       "15.0        4\n",
       "14.0        4\n",
       "16.0        1\n",
       "18.0        1\n",
       "Name: funding_rounds, dtype: int64"
      ]
     },
     "execution_count": 20,
     "metadata": {},
     "output_type": "execute_result"
    }
   ],
   "source": [
    "numeric_data['funding_rounds'].value_counts()"
   ]
  },
  {
   "cell_type": "code",
   "execution_count": 21,
   "metadata": {},
   "outputs": [
    {
     "data": {
      "text/plain": [
       "23"
      ]
     },
     "execution_count": 21,
     "metadata": {},
     "output_type": "execute_result"
    }
   ],
   "source": [
    "col_list = list(numeric_data.columns)\n",
    "len(col_list)"
   ]
  },
  {
   "cell_type": "code",
   "execution_count": 22,
   "metadata": {},
   "outputs": [
    {
     "data": {
      "image/png": "[encoded data removed]",
      "text/plain": [
       "<Figure size 1080x1440 with 23 Axes>"
      ]
     },
     "metadata": {
      "needs_background": "light"
     },
     "output_type": "display_data"
    }
   ],
   "source": [
    "plt.figure(figsize = (15,20))\n",
    "for index, col in enumerate(col_list):\n",
    "    plt.subplot(6,4, index+1)\n",
    "    plt.boxplot(numeric_data[col])\n",
    "    plt.xlabel(col, fontsize = 8)\n",
    "plt.tight_layout()"
   ]
  },
  {
   "cell_type": "code",
   "execution_count": 23,
   "metadata": {},
   "outputs": [
    {
     "data": {
      "image/png": "[encoded data removed]",
      "text/plain": [
       "<Figure size 1080x1440 with 23 Axes>"
      ]
     },
     "metadata": {
      "needs_background": "light"
     },
     "output_type": "display_data"
    }
   ],
   "source": [
    "plt.figure(figsize = (15,20))\n",
    "for index, col in enumerate(col_list):\n",
    "    plt.subplot(6,4, index+1)\n",
    "    plt.hist(numeric_data[col])\n",
    "    plt.xlabel(col, fontsize = 15)\n",
    "plt.tight_layout()"
   ]
  },
  {
   "cell_type": "code",
   "execution_count": 24,
   "metadata": {},
   "outputs": [
    {
     "data": {
      "text/plain": [
       "operating    41829\n",
       "acquired      3692\n",
       "closed        2603\n",
       "Name: status, dtype: int64"
      ]
     },
     "execution_count": 24,
     "metadata": {},
     "output_type": "execute_result"
    }
   ],
   "source": [
    "investments_df['status'].value_counts()"
   ]
  },
  {
   "cell_type": "code",
   "execution_count": 25,
   "metadata": {},
   "outputs": [
    {
     "data": {
      "text/plain": [
       "(array([3.2039e+04, 0.0000e+00, 9.2190e+03, 4.0260e+03, 1.9970e+03,\n",
       "        1.0010e+03, 8.1200e+02, 2.7900e+02, 5.5000e+01, 1.0000e+01]),\n",
       " array([0.        , 0.28903718, 0.57807435, 0.86711153, 1.1561487 ,\n",
       "        1.44518588, 1.73422305, 2.02326023, 2.31229741, 2.60133458,\n",
       "        2.89037176]),\n",
       " <a list of 10 Patch objects>)"
      ]
     },
     "execution_count": 25,
     "metadata": {},
     "output_type": "execute_result"
    },
    {
     "data": {
      "image/png": "[encoded data removed]",
      "text/plain": [
       "<Figure size 432x288 with 1 Axes>"
      ]
     },
     "metadata": {
      "needs_background": "light"
     },
     "output_type": "display_data"
    }
   ],
   "source": [
    "plt.hist(np.log(investments_df['funding_rounds']))"
   ]
  },
  {
   "cell_type": "code",
   "execution_count": 26,
   "metadata": {},
   "outputs": [
    {
     "data": {
      "text/plain": [
       "1.0     32039\n",
       "2.0      9219\n",
       "3.0      4026\n",
       "4.0      1997\n",
       "5.0      1001\n",
       "6.0       560\n",
       "7.0       252\n",
       "8.0       152\n",
       "9.0        84\n",
       "10.0       43\n",
       "11.0       35\n",
       "12.0       12\n",
       "13.0        8\n",
       "15.0        4\n",
       "14.0        4\n",
       "16.0        1\n",
       "18.0        1\n",
       "Name: funding_rounds, dtype: int64"
      ]
     },
     "execution_count": 26,
     "metadata": {},
     "output_type": "execute_result"
    }
   ],
   "source": [
    "investments_df['funding_rounds'].value_counts()"
   ]
  },
  {
   "cell_type": "code",
   "execution_count": 27,
   "metadata": {},
   "outputs": [
    {
     "data": {
      "text/html": [
       "<div>\n",
       "<style scoped>\n",
       "    .dataframe tbody tr th:only-of-type {\n",
       "        vertical-align: middle;\n",
       "    }\n",
       "\n",
       "    .dataframe tbody tr th {\n",
       "        vertical-align: top;\n",
       "    }\n",
       "\n",
       "    .dataframe thead th {\n",
       "        text-align: right;\n",
       "    }\n",
       "</style>\n",
       "<table border=\"1\" class=\"dataframe\">\n",
       "  <thead>\n",
       "    <tr style=\"text-align: right;\">\n",
       "      <th></th>\n",
       "      <th>permalink</th>\n",
       "      <th>name</th>\n",
       "      <th>homepage_url</th>\n",
       "      <th>category_list</th>\n",
       "      <th>status</th>\n",
       "      <th>country_code</th>\n",
       "      <th>state_code</th>\n",
       "      <th>region</th>\n",
       "      <th>city</th>\n",
       "      <th>funding_rounds</th>\n",
       "      <th>...</th>\n",
       "      <th>round_A</th>\n",
       "      <th>round_B</th>\n",
       "      <th>round_C</th>\n",
       "      <th>round_D</th>\n",
       "      <th>round_E</th>\n",
       "      <th>round_F</th>\n",
       "      <th>round_G</th>\n",
       "      <th>round_H</th>\n",
       "      <th>funding_total_usd</th>\n",
       "      <th>market</th>\n",
       "    </tr>\n",
       "  </thead>\n",
       "  <tbody>\n",
       "    <tr>\n",
       "      <th>0</th>\n",
       "      <td>/organization/waywire</td>\n",
       "      <td>#waywire</td>\n",
       "      <td>http://www.waywire.com</td>\n",
       "      <td>|Entertainment|Politics|Social Media|News|</td>\n",
       "      <td>acquired</td>\n",
       "      <td>USA</td>\n",
       "      <td>NY</td>\n",
       "      <td>New York City</td>\n",
       "      <td>New York</td>\n",
       "      <td>1.0</td>\n",
       "      <td>...</td>\n",
       "      <td>0.0</td>\n",
       "      <td>0.0</td>\n",
       "      <td>0.0</td>\n",
       "      <td>0.0</td>\n",
       "      <td>0.0</td>\n",
       "      <td>0.0</td>\n",
       "      <td>0.0</td>\n",
       "      <td>0.0</td>\n",
       "      <td>1750000.0</td>\n",
       "      <td>News</td>\n",
       "    </tr>\n",
       "    <tr>\n",
       "      <th>1</th>\n",
       "      <td>/organization/tv-communications</td>\n",
       "      <td>&amp;TV Communications</td>\n",
       "      <td>http://enjoyandtv.com</td>\n",
       "      <td>|Games|</td>\n",
       "      <td>operating</td>\n",
       "      <td>USA</td>\n",
       "      <td>CA</td>\n",
       "      <td>Los Angeles</td>\n",
       "      <td>Los Angeles</td>\n",
       "      <td>2.0</td>\n",
       "      <td>...</td>\n",
       "      <td>0.0</td>\n",
       "      <td>0.0</td>\n",
       "      <td>0.0</td>\n",
       "      <td>0.0</td>\n",
       "      <td>0.0</td>\n",
       "      <td>0.0</td>\n",
       "      <td>0.0</td>\n",
       "      <td>0.0</td>\n",
       "      <td>4000000.0</td>\n",
       "      <td>Games</td>\n",
       "    </tr>\n",
       "    <tr>\n",
       "      <th>2</th>\n",
       "      <td>/organization/rock-your-paper</td>\n",
       "      <td>'Rock' Your Paper</td>\n",
       "      <td>http://www.rockyourpaper.org</td>\n",
       "      <td>|Publishing|Education|</td>\n",
       "      <td>operating</td>\n",
       "      <td>EST</td>\n",
       "      <td>NaN</td>\n",
       "      <td>Tallinn</td>\n",
       "      <td>Tallinn</td>\n",
       "      <td>1.0</td>\n",
       "      <td>...</td>\n",
       "      <td>0.0</td>\n",
       "      <td>0.0</td>\n",
       "      <td>0.0</td>\n",
       "      <td>0.0</td>\n",
       "      <td>0.0</td>\n",
       "      <td>0.0</td>\n",
       "      <td>0.0</td>\n",
       "      <td>0.0</td>\n",
       "      <td>40000.0</td>\n",
       "      <td>Publishing</td>\n",
       "    </tr>\n",
       "    <tr>\n",
       "      <th>3</th>\n",
       "      <td>/organization/in-touch-network</td>\n",
       "      <td>(In)Touch Network</td>\n",
       "      <td>http://www.InTouchNetwork.com</td>\n",
       "      <td>|Electronics|Guides|Coffee|Restaurants|Music|i...</td>\n",
       "      <td>operating</td>\n",
       "      <td>GBR</td>\n",
       "      <td>NaN</td>\n",
       "      <td>London</td>\n",
       "      <td>London</td>\n",
       "      <td>1.0</td>\n",
       "      <td>...</td>\n",
       "      <td>0.0</td>\n",
       "      <td>0.0</td>\n",
       "      <td>0.0</td>\n",
       "      <td>0.0</td>\n",
       "      <td>0.0</td>\n",
       "      <td>0.0</td>\n",
       "      <td>0.0</td>\n",
       "      <td>0.0</td>\n",
       "      <td>1500000.0</td>\n",
       "      <td>Electronics</td>\n",
       "    </tr>\n",
       "    <tr>\n",
       "      <th>4</th>\n",
       "      <td>/organization/r-ranch-and-mine</td>\n",
       "      <td>-R- Ranch and Mine</td>\n",
       "      <td>NaN</td>\n",
       "      <td>|Tourism|Entertainment|Games|</td>\n",
       "      <td>operating</td>\n",
       "      <td>USA</td>\n",
       "      <td>TX</td>\n",
       "      <td>Dallas</td>\n",
       "      <td>Fort Worth</td>\n",
       "      <td>2.0</td>\n",
       "      <td>...</td>\n",
       "      <td>0.0</td>\n",
       "      <td>0.0</td>\n",
       "      <td>0.0</td>\n",
       "      <td>0.0</td>\n",
       "      <td>0.0</td>\n",
       "      <td>0.0</td>\n",
       "      <td>0.0</td>\n",
       "      <td>0.0</td>\n",
       "      <td>60000.0</td>\n",
       "      <td>Tourism</td>\n",
       "    </tr>\n",
       "  </tbody>\n",
       "</table>\n",
       "<p>5 rows × 39 columns</p>\n",
       "</div>"
      ],
      "text/plain": [
       "                         permalink                name  \\\n",
       "0            /organization/waywire            #waywire   \n",
       "1  /organization/tv-communications  &TV Communications   \n",
       "2    /organization/rock-your-paper   'Rock' Your Paper   \n",
       "3   /organization/in-touch-network   (In)Touch Network   \n",
       "4   /organization/r-ranch-and-mine  -R- Ranch and Mine   \n",
       "\n",
       "                    homepage_url  \\\n",
       "0         http://www.waywire.com   \n",
       "1          http://enjoyandtv.com   \n",
       "2   http://www.rockyourpaper.org   \n",
       "3  http://www.InTouchNetwork.com   \n",
       "4                            NaN   \n",
       "\n",
       "                                       category_list     status country_code  \\\n",
       "0         |Entertainment|Politics|Social Media|News|   acquired          USA   \n",
       "1                                            |Games|  operating          USA   \n",
       "2                             |Publishing|Education|  operating          EST   \n",
       "3  |Electronics|Guides|Coffee|Restaurants|Music|i...  operating          GBR   \n",
       "4                      |Tourism|Entertainment|Games|  operating          USA   \n",
       "\n",
       "  state_code         region         city  funding_rounds  ... round_A round_B  \\\n",
       "0         NY  New York City     New York             1.0  ...     0.0     0.0   \n",
       "1         CA    Los Angeles  Los Angeles             2.0  ...     0.0     0.0   \n",
       "2        NaN        Tallinn      Tallinn             1.0  ...     0.0     0.0   \n",
       "3        NaN         London       London             1.0  ...     0.0     0.0   \n",
       "4         TX         Dallas   Fort Worth             2.0  ...     0.0     0.0   \n",
       "\n",
       "  round_C  round_D round_E round_F  round_G  round_H  funding_total_usd  \\\n",
       "0     0.0      0.0     0.0     0.0      0.0      0.0          1750000.0   \n",
       "1     0.0      0.0     0.0     0.0      0.0      0.0          4000000.0   \n",
       "2     0.0      0.0     0.0     0.0      0.0      0.0            40000.0   \n",
       "3     0.0      0.0     0.0     0.0      0.0      0.0          1500000.0   \n",
       "4     0.0      0.0     0.0     0.0      0.0      0.0            60000.0   \n",
       "\n",
       "          market  \n",
       "0          News   \n",
       "1         Games   \n",
       "2    Publishing   \n",
       "3   Electronics   \n",
       "4       Tourism   \n",
       "\n",
       "[5 rows x 39 columns]"
      ]
     },
     "execution_count": 27,
     "metadata": {},
     "output_type": "execute_result"
    }
   ],
   "source": [
    "investments_df.head()"
   ]
  },
  {
   "cell_type": "code",
   "execution_count": 28,
   "metadata": {},
   "outputs": [
    {
     "data": {
      "text/plain": [
       "217321.4965815769"
      ]
     },
     "execution_count": 28,
     "metadata": {},
     "output_type": "execute_result"
    }
   ],
   "source": [
    "investments_df['seed'].mean()"
   ]
  },
  {
   "cell_type": "markdown",
   "metadata": {},
   "source": [
    "### SEED:  In the Funding Life Cycle, once an idea has surpassed the concept stage the next stage of a new venture is known as the “Seed Stage”. During this early stage, entrepreneurs approach investors including friends, family, and angel investors to find financial support for their concept or product."
   ]
  },
  {
   "cell_type": "code",
   "execution_count": 29,
   "metadata": {},
   "outputs": [
    {
     "data": {
      "text/html": [
       "<div>\n",
       "<style scoped>\n",
       "    .dataframe tbody tr th:only-of-type {\n",
       "        vertical-align: middle;\n",
       "    }\n",
       "\n",
       "    .dataframe tbody tr th {\n",
       "        vertical-align: top;\n",
       "    }\n",
       "\n",
       "    .dataframe thead th {\n",
       "        text-align: right;\n",
       "    }\n",
       "</style>\n",
       "<table border=\"1\" class=\"dataframe\">\n",
       "  <thead>\n",
       "    <tr style=\"text-align: right;\">\n",
       "      <th></th>\n",
       "      <th>permalink</th>\n",
       "      <th>name</th>\n",
       "      <th>homepage_url</th>\n",
       "      <th>category_list</th>\n",
       "      <th>status</th>\n",
       "      <th>country_code</th>\n",
       "      <th>state_code</th>\n",
       "      <th>region</th>\n",
       "      <th>city</th>\n",
       "      <th>funding_rounds</th>\n",
       "      <th>...</th>\n",
       "      <th>round_A</th>\n",
       "      <th>round_B</th>\n",
       "      <th>round_C</th>\n",
       "      <th>round_D</th>\n",
       "      <th>round_E</th>\n",
       "      <th>round_F</th>\n",
       "      <th>round_G</th>\n",
       "      <th>round_H</th>\n",
       "      <th>funding_total_usd</th>\n",
       "      <th>market</th>\n",
       "    </tr>\n",
       "  </thead>\n",
       "  <tbody>\n",
       "    <tr>\n",
       "      <th>0</th>\n",
       "      <td>/organization/waywire</td>\n",
       "      <td>#waywire</td>\n",
       "      <td>http://www.waywire.com</td>\n",
       "      <td>|Entertainment|Politics|Social Media|News|</td>\n",
       "      <td>acquired</td>\n",
       "      <td>USA</td>\n",
       "      <td>NY</td>\n",
       "      <td>New York City</td>\n",
       "      <td>New York</td>\n",
       "      <td>1.0</td>\n",
       "      <td>...</td>\n",
       "      <td>0.0</td>\n",
       "      <td>0.0</td>\n",
       "      <td>0.0</td>\n",
       "      <td>0.0</td>\n",
       "      <td>0.0</td>\n",
       "      <td>0.0</td>\n",
       "      <td>0.0</td>\n",
       "      <td>0.0</td>\n",
       "      <td>1750000.0</td>\n",
       "      <td>News</td>\n",
       "    </tr>\n",
       "    <tr>\n",
       "      <th>1</th>\n",
       "      <td>/organization/tv-communications</td>\n",
       "      <td>&amp;TV Communications</td>\n",
       "      <td>http://enjoyandtv.com</td>\n",
       "      <td>|Games|</td>\n",
       "      <td>operating</td>\n",
       "      <td>USA</td>\n",
       "      <td>CA</td>\n",
       "      <td>Los Angeles</td>\n",
       "      <td>Los Angeles</td>\n",
       "      <td>2.0</td>\n",
       "      <td>...</td>\n",
       "      <td>0.0</td>\n",
       "      <td>0.0</td>\n",
       "      <td>0.0</td>\n",
       "      <td>0.0</td>\n",
       "      <td>0.0</td>\n",
       "      <td>0.0</td>\n",
       "      <td>0.0</td>\n",
       "      <td>0.0</td>\n",
       "      <td>4000000.0</td>\n",
       "      <td>Games</td>\n",
       "    </tr>\n",
       "    <tr>\n",
       "      <th>2</th>\n",
       "      <td>/organization/rock-your-paper</td>\n",
       "      <td>'Rock' Your Paper</td>\n",
       "      <td>http://www.rockyourpaper.org</td>\n",
       "      <td>|Publishing|Education|</td>\n",
       "      <td>operating</td>\n",
       "      <td>EST</td>\n",
       "      <td>NaN</td>\n",
       "      <td>Tallinn</td>\n",
       "      <td>Tallinn</td>\n",
       "      <td>1.0</td>\n",
       "      <td>...</td>\n",
       "      <td>0.0</td>\n",
       "      <td>0.0</td>\n",
       "      <td>0.0</td>\n",
       "      <td>0.0</td>\n",
       "      <td>0.0</td>\n",
       "      <td>0.0</td>\n",
       "      <td>0.0</td>\n",
       "      <td>0.0</td>\n",
       "      <td>40000.0</td>\n",
       "      <td>Publishing</td>\n",
       "    </tr>\n",
       "    <tr>\n",
       "      <th>3</th>\n",
       "      <td>/organization/in-touch-network</td>\n",
       "      <td>(In)Touch Network</td>\n",
       "      <td>http://www.InTouchNetwork.com</td>\n",
       "      <td>|Electronics|Guides|Coffee|Restaurants|Music|i...</td>\n",
       "      <td>operating</td>\n",
       "      <td>GBR</td>\n",
       "      <td>NaN</td>\n",
       "      <td>London</td>\n",
       "      <td>London</td>\n",
       "      <td>1.0</td>\n",
       "      <td>...</td>\n",
       "      <td>0.0</td>\n",
       "      <td>0.0</td>\n",
       "      <td>0.0</td>\n",
       "      <td>0.0</td>\n",
       "      <td>0.0</td>\n",
       "      <td>0.0</td>\n",
       "      <td>0.0</td>\n",
       "      <td>0.0</td>\n",
       "      <td>1500000.0</td>\n",
       "      <td>Electronics</td>\n",
       "    </tr>\n",
       "    <tr>\n",
       "      <th>4</th>\n",
       "      <td>/organization/r-ranch-and-mine</td>\n",
       "      <td>-R- Ranch and Mine</td>\n",
       "      <td>NaN</td>\n",
       "      <td>|Tourism|Entertainment|Games|</td>\n",
       "      <td>operating</td>\n",
       "      <td>USA</td>\n",
       "      <td>TX</td>\n",
       "      <td>Dallas</td>\n",
       "      <td>Fort Worth</td>\n",
       "      <td>2.0</td>\n",
       "      <td>...</td>\n",
       "      <td>0.0</td>\n",
       "      <td>0.0</td>\n",
       "      <td>0.0</td>\n",
       "      <td>0.0</td>\n",
       "      <td>0.0</td>\n",
       "      <td>0.0</td>\n",
       "      <td>0.0</td>\n",
       "      <td>0.0</td>\n",
       "      <td>60000.0</td>\n",
       "      <td>Tourism</td>\n",
       "    </tr>\n",
       "  </tbody>\n",
       "</table>\n",
       "<p>5 rows × 39 columns</p>\n",
       "</div>"
      ],
      "text/plain": [
       "                         permalink                name  \\\n",
       "0            /organization/waywire            #waywire   \n",
       "1  /organization/tv-communications  &TV Communications   \n",
       "2    /organization/rock-your-paper   'Rock' Your Paper   \n",
       "3   /organization/in-touch-network   (In)Touch Network   \n",
       "4   /organization/r-ranch-and-mine  -R- Ranch and Mine   \n",
       "\n",
       "                    homepage_url  \\\n",
       "0         http://www.waywire.com   \n",
       "1          http://enjoyandtv.com   \n",
       "2   http://www.rockyourpaper.org   \n",
       "3  http://www.InTouchNetwork.com   \n",
       "4                            NaN   \n",
       "\n",
       "                                       category_list     status country_code  \\\n",
       "0         |Entertainment|Politics|Social Media|News|   acquired          USA   \n",
       "1                                            |Games|  operating          USA   \n",
       "2                             |Publishing|Education|  operating          EST   \n",
       "3  |Electronics|Guides|Coffee|Restaurants|Music|i...  operating          GBR   \n",
       "4                      |Tourism|Entertainment|Games|  operating          USA   \n",
       "\n",
       "  state_code         region         city  funding_rounds  ... round_A round_B  \\\n",
       "0         NY  New York City     New York             1.0  ...     0.0     0.0   \n",
       "1         CA    Los Angeles  Los Angeles             2.0  ...     0.0     0.0   \n",
       "2        NaN        Tallinn      Tallinn             1.0  ...     0.0     0.0   \n",
       "3        NaN         London       London             1.0  ...     0.0     0.0   \n",
       "4         TX         Dallas   Fort Worth             2.0  ...     0.0     0.0   \n",
       "\n",
       "  round_C  round_D round_E round_F  round_G  round_H  funding_total_usd  \\\n",
       "0     0.0      0.0     0.0     0.0      0.0      0.0          1750000.0   \n",
       "1     0.0      0.0     0.0     0.0      0.0      0.0          4000000.0   \n",
       "2     0.0      0.0     0.0     0.0      0.0      0.0            40000.0   \n",
       "3     0.0      0.0     0.0     0.0      0.0      0.0          1500000.0   \n",
       "4     0.0      0.0     0.0     0.0      0.0      0.0            60000.0   \n",
       "\n",
       "          market  \n",
       "0          News   \n",
       "1         Games   \n",
       "2    Publishing   \n",
       "3   Electronics   \n",
       "4       Tourism   \n",
       "\n",
       "[5 rows x 39 columns]"
      ]
     },
     "execution_count": 29,
     "metadata": {},
     "output_type": "execute_result"
    }
   ],
   "source": [
    "investments_df.head()"
   ]
  },
  {
   "cell_type": "code",
   "execution_count": 30,
   "metadata": {},
   "outputs": [
    {
     "data": {
      "text/plain": [
       "1314"
      ]
     },
     "execution_count": 30,
     "metadata": {},
     "output_type": "execute_result"
    }
   ],
   "source": [
    "investments_df['status'].isnull().sum()"
   ]
  },
  {
   "cell_type": "code",
   "execution_count": 31,
   "metadata": {},
   "outputs": [
    {
     "data": {
      "text/plain": [
       "permalink               0\n",
       "name                    1\n",
       "homepage_url         3449\n",
       "category_list        3961\n",
       "status               1314\n",
       "country_code         5273\n",
       "state_code          19277\n",
       "region               5273\n",
       "city                 6116\n",
       "founded_at          10884\n",
       "founded_month       10956\n",
       "founded_quarter     10956\n",
       "first_funding_at        0\n",
       "last_funding_at         0\n",
       "market               3968\n",
       "dtype: int64"
      ]
     },
     "execution_count": 31,
     "metadata": {},
     "output_type": "execute_result"
    }
   ],
   "source": [
    "categorical_data.isnull().sum()"
   ]
  },
  {
   "cell_type": "markdown",
   "metadata": {},
   "source": [
    "### Founded_year, founded_month, founded_at , first_funding_at, last_funding_at, founded_quarter are dates. we have 6 columns with dates"
   ]
  },
  {
   "cell_type": "code",
   "execution_count": 32,
   "metadata": {},
   "outputs": [
    {
     "data": {
      "text/html": [
       "<div>\n",
       "<style scoped>\n",
       "    .dataframe tbody tr th:only-of-type {\n",
       "        vertical-align: middle;\n",
       "    }\n",
       "\n",
       "    .dataframe tbody tr th {\n",
       "        vertical-align: top;\n",
       "    }\n",
       "\n",
       "    .dataframe thead th {\n",
       "        text-align: right;\n",
       "    }\n",
       "</style>\n",
       "<table border=\"1\" class=\"dataframe\">\n",
       "  <thead>\n",
       "    <tr style=\"text-align: right;\">\n",
       "      <th></th>\n",
       "      <th>permalink</th>\n",
       "      <th>name</th>\n",
       "      <th>homepage_url</th>\n",
       "      <th>category_list</th>\n",
       "      <th>status</th>\n",
       "      <th>country_code</th>\n",
       "      <th>state_code</th>\n",
       "      <th>region</th>\n",
       "      <th>city</th>\n",
       "      <th>founded_at</th>\n",
       "      <th>founded_month</th>\n",
       "      <th>founded_quarter</th>\n",
       "      <th>first_funding_at</th>\n",
       "      <th>last_funding_at</th>\n",
       "      <th>market</th>\n",
       "    </tr>\n",
       "  </thead>\n",
       "  <tbody>\n",
       "    <tr>\n",
       "      <th>0</th>\n",
       "      <td>/organization/waywire</td>\n",
       "      <td>#waywire</td>\n",
       "      <td>http://www.waywire.com</td>\n",
       "      <td>|Entertainment|Politics|Social Media|News|</td>\n",
       "      <td>acquired</td>\n",
       "      <td>USA</td>\n",
       "      <td>NY</td>\n",
       "      <td>New York City</td>\n",
       "      <td>New York</td>\n",
       "      <td>2012-06-01</td>\n",
       "      <td>2012-06</td>\n",
       "      <td>2012-Q2</td>\n",
       "      <td>2012-06-30</td>\n",
       "      <td>2012-06-30</td>\n",
       "      <td>News</td>\n",
       "    </tr>\n",
       "    <tr>\n",
       "      <th>1</th>\n",
       "      <td>/organization/tv-communications</td>\n",
       "      <td>&amp;TV Communications</td>\n",
       "      <td>http://enjoyandtv.com</td>\n",
       "      <td>|Games|</td>\n",
       "      <td>operating</td>\n",
       "      <td>USA</td>\n",
       "      <td>CA</td>\n",
       "      <td>Los Angeles</td>\n",
       "      <td>Los Angeles</td>\n",
       "      <td>NaN</td>\n",
       "      <td>NaN</td>\n",
       "      <td>NaN</td>\n",
       "      <td>2010-06-04</td>\n",
       "      <td>2010-09-23</td>\n",
       "      <td>Games</td>\n",
       "    </tr>\n",
       "    <tr>\n",
       "      <th>2</th>\n",
       "      <td>/organization/rock-your-paper</td>\n",
       "      <td>'Rock' Your Paper</td>\n",
       "      <td>http://www.rockyourpaper.org</td>\n",
       "      <td>|Publishing|Education|</td>\n",
       "      <td>operating</td>\n",
       "      <td>EST</td>\n",
       "      <td>NaN</td>\n",
       "      <td>Tallinn</td>\n",
       "      <td>Tallinn</td>\n",
       "      <td>2012-10-26</td>\n",
       "      <td>2012-10</td>\n",
       "      <td>2012-Q4</td>\n",
       "      <td>2012-08-09</td>\n",
       "      <td>2012-08-09</td>\n",
       "      <td>Publishing</td>\n",
       "    </tr>\n",
       "    <tr>\n",
       "      <th>3</th>\n",
       "      <td>/organization/in-touch-network</td>\n",
       "      <td>(In)Touch Network</td>\n",
       "      <td>http://www.InTouchNetwork.com</td>\n",
       "      <td>|Electronics|Guides|Coffee|Restaurants|Music|i...</td>\n",
       "      <td>operating</td>\n",
       "      <td>GBR</td>\n",
       "      <td>NaN</td>\n",
       "      <td>London</td>\n",
       "      <td>London</td>\n",
       "      <td>2011-04-01</td>\n",
       "      <td>2011-04</td>\n",
       "      <td>2011-Q2</td>\n",
       "      <td>2011-04-01</td>\n",
       "      <td>2011-04-01</td>\n",
       "      <td>Electronics</td>\n",
       "    </tr>\n",
       "    <tr>\n",
       "      <th>4</th>\n",
       "      <td>/organization/r-ranch-and-mine</td>\n",
       "      <td>-R- Ranch and Mine</td>\n",
       "      <td>NaN</td>\n",
       "      <td>|Tourism|Entertainment|Games|</td>\n",
       "      <td>operating</td>\n",
       "      <td>USA</td>\n",
       "      <td>TX</td>\n",
       "      <td>Dallas</td>\n",
       "      <td>Fort Worth</td>\n",
       "      <td>2014-01-01</td>\n",
       "      <td>2014-01</td>\n",
       "      <td>2014-Q1</td>\n",
       "      <td>2014-08-17</td>\n",
       "      <td>2014-09-26</td>\n",
       "      <td>Tourism</td>\n",
       "    </tr>\n",
       "  </tbody>\n",
       "</table>\n",
       "</div>"
      ],
      "text/plain": [
       "                         permalink                name  \\\n",
       "0            /organization/waywire            #waywire   \n",
       "1  /organization/tv-communications  &TV Communications   \n",
       "2    /organization/rock-your-paper   'Rock' Your Paper   \n",
       "3   /organization/in-touch-network   (In)Touch Network   \n",
       "4   /organization/r-ranch-and-mine  -R- Ranch and Mine   \n",
       "\n",
       "                    homepage_url  \\\n",
       "0         http://www.waywire.com   \n",
       "1          http://enjoyandtv.com   \n",
       "2   http://www.rockyourpaper.org   \n",
       "3  http://www.InTouchNetwork.com   \n",
       "4                            NaN   \n",
       "\n",
       "                                       category_list     status country_code  \\\n",
       "0         |Entertainment|Politics|Social Media|News|   acquired          USA   \n",
       "1                                            |Games|  operating          USA   \n",
       "2                             |Publishing|Education|  operating          EST   \n",
       "3  |Electronics|Guides|Coffee|Restaurants|Music|i...  operating          GBR   \n",
       "4                      |Tourism|Entertainment|Games|  operating          USA   \n",
       "\n",
       "  state_code         region         city  founded_at founded_month  \\\n",
       "0         NY  New York City     New York  2012-06-01       2012-06   \n",
       "1         CA    Los Angeles  Los Angeles         NaN           NaN   \n",
       "2        NaN        Tallinn      Tallinn  2012-10-26       2012-10   \n",
       "3        NaN         London       London  2011-04-01       2011-04   \n",
       "4         TX         Dallas   Fort Worth  2014-01-01       2014-01   \n",
       "\n",
       "  founded_quarter first_funding_at last_funding_at         market  \n",
       "0         2012-Q2       2012-06-30      2012-06-30          News   \n",
       "1             NaN       2010-06-04      2010-09-23         Games   \n",
       "2         2012-Q4       2012-08-09      2012-08-09    Publishing   \n",
       "3         2011-Q2       2011-04-01      2011-04-01   Electronics   \n",
       "4         2014-Q1       2014-08-17      2014-09-26       Tourism   "
      ]
     },
     "execution_count": 32,
     "metadata": {},
     "output_type": "execute_result"
    }
   ],
   "source": [
    "categorical_data.head()"
   ]
  },
  {
   "cell_type": "code",
   "execution_count": 33,
   "metadata": {},
   "outputs": [],
   "source": [
    "investments_df.state_code =  investments_df[investments_df.loc[:, 'country_code']  == 'GBR']['state_code'].replace(np.nan, 'GBR')"
   ]
  },
  {
   "cell_type": "code",
   "execution_count": 34,
   "metadata": {},
   "outputs": [
    {
     "data": {
      "text/html": [
       "<div>\n",
       "<style scoped>\n",
       "    .dataframe tbody tr th:only-of-type {\n",
       "        vertical-align: middle;\n",
       "    }\n",
       "\n",
       "    .dataframe tbody tr th {\n",
       "        vertical-align: top;\n",
       "    }\n",
       "\n",
       "    .dataframe thead th {\n",
       "        text-align: right;\n",
       "    }\n",
       "</style>\n",
       "<table border=\"1\" class=\"dataframe\">\n",
       "  <thead>\n",
       "    <tr style=\"text-align: right;\">\n",
       "      <th></th>\n",
       "      <th>permalink</th>\n",
       "      <th>name</th>\n",
       "      <th>homepage_url</th>\n",
       "      <th>category_list</th>\n",
       "      <th>status</th>\n",
       "      <th>country_code</th>\n",
       "      <th>state_code</th>\n",
       "      <th>region</th>\n",
       "      <th>city</th>\n",
       "      <th>funding_rounds</th>\n",
       "      <th>...</th>\n",
       "      <th>round_A</th>\n",
       "      <th>round_B</th>\n",
       "      <th>round_C</th>\n",
       "      <th>round_D</th>\n",
       "      <th>round_E</th>\n",
       "      <th>round_F</th>\n",
       "      <th>round_G</th>\n",
       "      <th>round_H</th>\n",
       "      <th>funding_total_usd</th>\n",
       "      <th>market</th>\n",
       "    </tr>\n",
       "  </thead>\n",
       "  <tbody>\n",
       "    <tr>\n",
       "      <th>0</th>\n",
       "      <td>/organization/waywire</td>\n",
       "      <td>#waywire</td>\n",
       "      <td>http://www.waywire.com</td>\n",
       "      <td>|Entertainment|Politics|Social Media|News|</td>\n",
       "      <td>acquired</td>\n",
       "      <td>USA</td>\n",
       "      <td>NaN</td>\n",
       "      <td>New York City</td>\n",
       "      <td>New York</td>\n",
       "      <td>1.0</td>\n",
       "      <td>...</td>\n",
       "      <td>0.0</td>\n",
       "      <td>0.0</td>\n",
       "      <td>0.0</td>\n",
       "      <td>0.0</td>\n",
       "      <td>0.0</td>\n",
       "      <td>0.0</td>\n",
       "      <td>0.0</td>\n",
       "      <td>0.0</td>\n",
       "      <td>1750000.0</td>\n",
       "      <td>News</td>\n",
       "    </tr>\n",
       "    <tr>\n",
       "      <th>1</th>\n",
       "      <td>/organization/tv-communications</td>\n",
       "      <td>&amp;TV Communications</td>\n",
       "      <td>http://enjoyandtv.com</td>\n",
       "      <td>|Games|</td>\n",
       "      <td>operating</td>\n",
       "      <td>USA</td>\n",
       "      <td>NaN</td>\n",
       "      <td>Los Angeles</td>\n",
       "      <td>Los Angeles</td>\n",
       "      <td>2.0</td>\n",
       "      <td>...</td>\n",
       "      <td>0.0</td>\n",
       "      <td>0.0</td>\n",
       "      <td>0.0</td>\n",
       "      <td>0.0</td>\n",
       "      <td>0.0</td>\n",
       "      <td>0.0</td>\n",
       "      <td>0.0</td>\n",
       "      <td>0.0</td>\n",
       "      <td>4000000.0</td>\n",
       "      <td>Games</td>\n",
       "    </tr>\n",
       "    <tr>\n",
       "      <th>2</th>\n",
       "      <td>/organization/rock-your-paper</td>\n",
       "      <td>'Rock' Your Paper</td>\n",
       "      <td>http://www.rockyourpaper.org</td>\n",
       "      <td>|Publishing|Education|</td>\n",
       "      <td>operating</td>\n",
       "      <td>EST</td>\n",
       "      <td>NaN</td>\n",
       "      <td>Tallinn</td>\n",
       "      <td>Tallinn</td>\n",
       "      <td>1.0</td>\n",
       "      <td>...</td>\n",
       "      <td>0.0</td>\n",
       "      <td>0.0</td>\n",
       "      <td>0.0</td>\n",
       "      <td>0.0</td>\n",
       "      <td>0.0</td>\n",
       "      <td>0.0</td>\n",
       "      <td>0.0</td>\n",
       "      <td>0.0</td>\n",
       "      <td>40000.0</td>\n",
       "      <td>Publishing</td>\n",
       "    </tr>\n",
       "    <tr>\n",
       "      <th>3</th>\n",
       "      <td>/organization/in-touch-network</td>\n",
       "      <td>(In)Touch Network</td>\n",
       "      <td>http://www.InTouchNetwork.com</td>\n",
       "      <td>|Electronics|Guides|Coffee|Restaurants|Music|i...</td>\n",
       "      <td>operating</td>\n",
       "      <td>GBR</td>\n",
       "      <td>GBR</td>\n",
       "      <td>London</td>\n",
       "      <td>London</td>\n",
       "      <td>1.0</td>\n",
       "      <td>...</td>\n",
       "      <td>0.0</td>\n",
       "      <td>0.0</td>\n",
       "      <td>0.0</td>\n",
       "      <td>0.0</td>\n",
       "      <td>0.0</td>\n",
       "      <td>0.0</td>\n",
       "      <td>0.0</td>\n",
       "      <td>0.0</td>\n",
       "      <td>1500000.0</td>\n",
       "      <td>Electronics</td>\n",
       "    </tr>\n",
       "    <tr>\n",
       "      <th>4</th>\n",
       "      <td>/organization/r-ranch-and-mine</td>\n",
       "      <td>-R- Ranch and Mine</td>\n",
       "      <td>NaN</td>\n",
       "      <td>|Tourism|Entertainment|Games|</td>\n",
       "      <td>operating</td>\n",
       "      <td>USA</td>\n",
       "      <td>NaN</td>\n",
       "      <td>Dallas</td>\n",
       "      <td>Fort Worth</td>\n",
       "      <td>2.0</td>\n",
       "      <td>...</td>\n",
       "      <td>0.0</td>\n",
       "      <td>0.0</td>\n",
       "      <td>0.0</td>\n",
       "      <td>0.0</td>\n",
       "      <td>0.0</td>\n",
       "      <td>0.0</td>\n",
       "      <td>0.0</td>\n",
       "      <td>0.0</td>\n",
       "      <td>60000.0</td>\n",
       "      <td>Tourism</td>\n",
       "    </tr>\n",
       "  </tbody>\n",
       "</table>\n",
       "<p>5 rows × 39 columns</p>\n",
       "</div>"
      ],
      "text/plain": [
       "                         permalink                name  \\\n",
       "0            /organization/waywire            #waywire   \n",
       "1  /organization/tv-communications  &TV Communications   \n",
       "2    /organization/rock-your-paper   'Rock' Your Paper   \n",
       "3   /organization/in-touch-network   (In)Touch Network   \n",
       "4   /organization/r-ranch-and-mine  -R- Ranch and Mine   \n",
       "\n",
       "                    homepage_url  \\\n",
       "0         http://www.waywire.com   \n",
       "1          http://enjoyandtv.com   \n",
       "2   http://www.rockyourpaper.org   \n",
       "3  http://www.InTouchNetwork.com   \n",
       "4                            NaN   \n",
       "\n",
       "                                       category_list     status country_code  \\\n",
       "0         |Entertainment|Politics|Social Media|News|   acquired          USA   \n",
       "1                                            |Games|  operating          USA   \n",
       "2                             |Publishing|Education|  operating          EST   \n",
       "3  |Electronics|Guides|Coffee|Restaurants|Music|i...  operating          GBR   \n",
       "4                      |Tourism|Entertainment|Games|  operating          USA   \n",
       "\n",
       "  state_code         region         city  funding_rounds  ... round_A round_B  \\\n",
       "0        NaN  New York City     New York             1.0  ...     0.0     0.0   \n",
       "1        NaN    Los Angeles  Los Angeles             2.0  ...     0.0     0.0   \n",
       "2        NaN        Tallinn      Tallinn             1.0  ...     0.0     0.0   \n",
       "3        GBR         London       London             1.0  ...     0.0     0.0   \n",
       "4        NaN         Dallas   Fort Worth             2.0  ...     0.0     0.0   \n",
       "\n",
       "  round_C  round_D round_E round_F  round_G  round_H  funding_total_usd  \\\n",
       "0     0.0      0.0     0.0     0.0      0.0      0.0          1750000.0   \n",
       "1     0.0      0.0     0.0     0.0      0.0      0.0          4000000.0   \n",
       "2     0.0      0.0     0.0     0.0      0.0      0.0            40000.0   \n",
       "3     0.0      0.0     0.0     0.0      0.0      0.0          1500000.0   \n",
       "4     0.0      0.0     0.0     0.0      0.0      0.0            60000.0   \n",
       "\n",
       "          market  \n",
       "0          News   \n",
       "1         Games   \n",
       "2    Publishing   \n",
       "3   Electronics   \n",
       "4       Tourism   \n",
       "\n",
       "[5 rows x 39 columns]"
      ]
     },
     "execution_count": 34,
     "metadata": {},
     "output_type": "execute_result"
    }
   ],
   "source": [
    "investments_df.head()"
   ]
  },
  {
   "cell_type": "code",
   "execution_count": 35,
   "metadata": {},
   "outputs": [
    {
     "data": {
      "text/plain": [
       "0               0.0\n",
       "1         4000000.0\n",
       "2               0.0\n",
       "3               0.0\n",
       "4               0.0\n",
       "            ...    \n",
       "49433           0.0\n",
       "49434     1587301.0\n",
       "49435           0.0\n",
       "49436           0.0\n",
       "49437    28000000.0\n",
       "Name: venture, Length: 49438, dtype: float64"
      ]
     },
     "execution_count": 35,
     "metadata": {},
     "output_type": "execute_result"
    }
   ],
   "source": [
    "investments_df['venture']"
   ]
  },
  {
   "cell_type": "code",
   "execution_count": 36,
   "metadata": {},
   "outputs": [
    {
     "data": {
      "text/plain": [
       "operating    41829\n",
       "acquired      3692\n",
       "closed        2603\n",
       "Name: status, dtype: int64"
      ]
     },
     "execution_count": 36,
     "metadata": {},
     "output_type": "execute_result"
    }
   ],
   "source": [
    "investments_df['status'].value_counts()"
   ]
  },
  {
   "cell_type": "code",
   "execution_count": 37,
   "metadata": {},
   "outputs": [
    {
     "data": {
      "text/plain": [
       "1902.0"
      ]
     },
     "execution_count": 37,
     "metadata": {},
     "output_type": "execute_result"
    }
   ],
   "source": [
    "investments_df['founded_year'].min()"
   ]
  },
  {
   "cell_type": "code",
   "execution_count": 38,
   "metadata": {},
   "outputs": [
    {
     "data": {
      "text/plain": [
       "USA    28793\n",
       "GBR     2642\n",
       "CAN     1405\n",
       "CHN     1239\n",
       "DEU      968\n",
       "       ...  \n",
       "MAF        1\n",
       "UZB        1\n",
       "ALB        1\n",
       "TTO        1\n",
       "CIV        1\n",
       "Name: country_code, Length: 115, dtype: int64"
      ]
     },
     "execution_count": 38,
     "metadata": {},
     "output_type": "execute_result"
    }
   ],
   "source": [
    "categorical_data['country_code'].value_counts()"
   ]
  },
  {
   "cell_type": "code",
   "execution_count": 39,
   "metadata": {},
   "outputs": [
    {
     "data": {
      "text/plain": [
       "16675"
      ]
     },
     "execution_count": 39,
     "metadata": {},
     "output_type": "execute_result"
    }
   ],
   "source": [
    "categorical_data['category_list'].nunique()"
   ]
  },
  {
   "cell_type": "code",
   "execution_count": 56,
   "metadata": {},
   "outputs": [],
   "source": [
    "## Dropping missing values in status column\n",
    "investments_df.dropna(subset = ['status'], inplace = True)"
   ]
  },
  {
   "cell_type": "code",
   "execution_count": 57,
   "metadata": {},
   "outputs": [],
   "source": [
    "## Founded_year, founded_month, founded_at , first_funding_at, last_funding_at, founded_quarter are dates. \n",
    "##we have 6 columns with dates"
   ]
  },
  {
   "cell_type": "code",
   "execution_count": 58,
   "metadata": {},
   "outputs": [],
   "source": [
    "## Dropping the variables that have time for now\n",
    "investments_df.drop(['founded_year', 'founded_month', 'founded_at', 'last_funding_at', 'founded_quarter'],\n",
    "                   inplace = True, axis = 1)"
   ]
  },
  {
   "cell_type": "code",
   "execution_count": 104,
   "metadata": {},
   "outputs": [
    {
     "name": "stdout",
     "output_type": "stream",
     "text": [
      "<class 'pandas.core.frame.DataFrame'>\n",
      "Int64Index: 48124 entries, 0 to 49437\n",
      "Data columns (total 24 columns):\n",
      "funding_rounds          48124 non-null float64\n",
      "seed                    48124 non-null float64\n",
      "venture                 48124 non-null float64\n",
      "equity_crowdfunding     48124 non-null float64\n",
      "undisclosed             48124 non-null float64\n",
      "convertible_note        48124 non-null float64\n",
      "debt_financing          48124 non-null float64\n",
      "angel                   48124 non-null float64\n",
      "grant                   48124 non-null float64\n",
      "private_equity          48124 non-null float64\n",
      "post_ipo_equity         48124 non-null float64\n",
      "post_ipo_debt           48124 non-null float64\n",
      "secondary_market        48124 non-null float64\n",
      "product_crowdfunding    48124 non-null float64\n",
      "round_A                 48124 non-null float64\n",
      "round_B                 48124 non-null float64\n",
      "round_C                 48124 non-null float64\n",
      "round_D                 48124 non-null float64\n",
      "round_E                 48124 non-null float64\n",
      "round_F                 48124 non-null float64\n",
      "round_G                 48124 non-null float64\n",
      "round_H                 48124 non-null float64\n",
      "funding_total_usd       39802 non-null float64\n",
      "target_status           48124 non-null int64\n",
      "dtypes: float64(23), int64(1)\n",
      "memory usage: 9.2 MB\n"
     ]
    }
   ],
   "source": [
    "numeric_data.info()"
   ]
  },
  {
   "cell_type": "code",
   "execution_count": 113,
   "metadata": {},
   "outputs": [
    {
     "data": {
      "text/plain": [
       "0"
      ]
     },
     "execution_count": 113,
     "metadata": {},
     "output_type": "execute_result"
    }
   ],
   "source": [
    "investments_df['funding_total_usd'].fillna(investments_df['funding_total_usd'].mean(), inplace = True)\n",
    "investments_df['funding_total_usd'].isnull().sum()"
   ]
  },
  {
   "cell_type": "code",
   "execution_count": 114,
   "metadata": {},
   "outputs": [],
   "source": [
    "from sklearn.linear_model import LogisticRegression\n",
    "from sklearn.model_selection import train_test_split\n",
    "from sklearn.preprocessing import LabelEncoder\n",
    "le = LabelEncoder()\n",
    "target = le.fit_transform(investments_df['status'])"
   ]
  },
  {
   "cell_type": "code",
   "execution_count": 115,
   "metadata": {},
   "outputs": [
    {
     "data": {
      "text/plain": [
       "48124"
      ]
     },
     "execution_count": 115,
     "metadata": {},
     "output_type": "execute_result"
    }
   ],
   "source": [
    "len(target)"
   ]
  },
  {
   "cell_type": "code",
   "execution_count": 116,
   "metadata": {},
   "outputs": [],
   "source": [
    "numeric_data = investments_df.select_dtypes(include = ['float', 'int'])"
   ]
  },
  {
   "cell_type": "code",
   "execution_count": 117,
   "metadata": {},
   "outputs": [
    {
     "data": {
      "text/plain": [
       "2    41829\n",
       "0     3692\n",
       "1     2603\n",
       "Name: target_status, dtype: int64"
      ]
     },
     "execution_count": 117,
     "metadata": {},
     "output_type": "execute_result"
    }
   ],
   "source": [
    "numeric_data['target_status'].value_counts()"
   ]
  },
  {
   "cell_type": "code",
   "execution_count": 118,
   "metadata": {},
   "outputs": [],
   "source": [
    "# Dealing with imbalanced dataset\n",
    "# First shuffle the dataset\n",
    "shuffled_df = numeric_data.sample(frac=1,random_state=4)\n",
    "# Put all the \"closed\" class which is '1' in a separate dataset.\n",
    "closed_df = shuffled_df.loc[shuffled_df['target_status'] == 1]\n",
    "acquired_df = shuffled_df.loc[shuffled_df['target_status'] == 0].sample(n = 3000, random_state = 42)\n",
    "#Randomly select 4000 observations from the operating (majority class)\n",
    "operating_df = shuffled_df.loc[shuffled_df['target_status'] == 2].sample(n=3000,random_state=42)"
   ]
  },
  {
   "cell_type": "code",
   "execution_count": 119,
   "metadata": {},
   "outputs": [
    {
     "data": {
      "image/png": "[encoded data removed]",
      "text/plain": [
       "<Figure size 576x576 with 1 Axes>"
      ]
     },
     "metadata": {
      "needs_background": "light"
     },
     "output_type": "display_data"
    }
   ],
   "source": [
    "# Concatenate above 3 dataframes again\n",
    "normalized_df = pd.concat([closed_df, acquired_df, operating_df])\n",
    "#plot the dataset after the undersampling\n",
    "plt.figure(figsize=(8, 8))\n",
    "sns.countplot('target_status', data=normalized_df)\n",
    "plt.title('Balanced Classes')\n",
    "plt.show()"
   ]
  },
  {
   "cell_type": "code",
   "execution_count": 124,
   "metadata": {},
   "outputs": [],
   "source": [
    "X = normalized_df.loc[:, normalized_df.columns != 'target_status']\n",
    "y = normalized_df[['target_status']]"
   ]
  },
  {
   "cell_type": "code",
   "execution_count": 125,
   "metadata": {},
   "outputs": [],
   "source": [
    "X_train, X_test, y_train, y_test = train_test_split(X, y, test_size = 0.3, random_state = 42)"
   ]
  },
  {
   "cell_type": "code",
   "execution_count": 126,
   "metadata": {},
   "outputs": [
    {
     "data": {
      "text/plain": [
       "0.4242541650523053"
      ]
     },
     "execution_count": 126,
     "metadata": {},
     "output_type": "execute_result"
    }
   ],
   "source": [
    "lr = LogisticRegression(solver='lbfgs', penalty ='none', max_iter = 1000, random_state = 42)\n",
    "lr.fit(X_train, y_train)\n",
    "\n",
    "lr.score(X_test, y_test)"
   ]
  },
  {
   "cell_type": "code",
   "execution_count": 128,
   "metadata": {},
   "outputs": [
    {
     "data": {
      "text/plain": [
       "array([0.46341463, 0.44831591, 0.45760743, 0.41744186, 0.42325581,\n",
       "       0.45      , 0.4255814 , 0.44418605, 0.44186047, 0.4244186 ])"
      ]
     },
     "execution_count": 128,
     "metadata": {},
     "output_type": "execute_result"
    }
   ],
   "source": [
    "from sklearn import ensemble\n",
    "from sklearn.model_selection import cross_val_score\n",
    "\n",
    "rfc = ensemble.RandomForestClassifier()\n",
    "cross_val_score(rfc, X, y, cv=10)"
   ]
  },
  {
   "cell_type": "markdown",
   "metadata": {},
   "source": [
    "### Our Model Failed using both Logistic Regression and RandomForestClassifier. We may have to apply logarithmic transformation to numeric_data  and perform the analysis"
   ]
  },
  {
   "cell_type": "code",
   "execution_count": 138,
   "metadata": {},
   "outputs": [
    {
     "data": {
      "text/html": [
       "<div>\n",
       "<style scoped>\n",
       "    .dataframe tbody tr th:only-of-type {\n",
       "        vertical-align: middle;\n",
       "    }\n",
       "\n",
       "    .dataframe tbody tr th {\n",
       "        vertical-align: top;\n",
       "    }\n",
       "\n",
       "    .dataframe thead th {\n",
       "        text-align: right;\n",
       "    }\n",
       "</style>\n",
       "<table border=\"1\" class=\"dataframe\">\n",
       "  <thead>\n",
       "    <tr style=\"text-align: right;\">\n",
       "      <th></th>\n",
       "      <th>funding_rounds</th>\n",
       "      <th>seed</th>\n",
       "      <th>venture</th>\n",
       "      <th>equity_crowdfunding</th>\n",
       "      <th>undisclosed</th>\n",
       "      <th>convertible_note</th>\n",
       "      <th>debt_financing</th>\n",
       "      <th>angel</th>\n",
       "      <th>grant</th>\n",
       "      <th>private_equity</th>\n",
       "      <th>...</th>\n",
       "      <th>round_A</th>\n",
       "      <th>round_B</th>\n",
       "      <th>round_C</th>\n",
       "      <th>round_D</th>\n",
       "      <th>round_E</th>\n",
       "      <th>round_F</th>\n",
       "      <th>round_G</th>\n",
       "      <th>round_H</th>\n",
       "      <th>funding_total_usd</th>\n",
       "      <th>target_status</th>\n",
       "    </tr>\n",
       "  </thead>\n",
       "  <tbody>\n",
       "    <tr>\n",
       "      <th>count</th>\n",
       "      <td>48124.000000</td>\n",
       "      <td>4.812400e+04</td>\n",
       "      <td>4.812400e+04</td>\n",
       "      <td>4.812400e+04</td>\n",
       "      <td>4.812400e+04</td>\n",
       "      <td>4.812400e+04</td>\n",
       "      <td>4.812400e+04</td>\n",
       "      <td>4.812400e+04</td>\n",
       "      <td>4.812400e+04</td>\n",
       "      <td>4.812400e+04</td>\n",
       "      <td>...</td>\n",
       "      <td>4.812400e+04</td>\n",
       "      <td>4.812400e+04</td>\n",
       "      <td>4.812400e+04</td>\n",
       "      <td>4.812400e+04</td>\n",
       "      <td>4.812400e+04</td>\n",
       "      <td>4.812400e+04</td>\n",
       "      <td>4.812400e+04</td>\n",
       "      <td>4.812400e+04</td>\n",
       "      <td>4.812400e+04</td>\n",
       "      <td>48124.000000</td>\n",
       "    </tr>\n",
       "    <tr>\n",
       "      <th>mean</th>\n",
       "      <td>1.700586</td>\n",
       "      <td>2.191042e+05</td>\n",
       "      <td>7.598091e+06</td>\n",
       "      <td>6.255879e+03</td>\n",
       "      <td>1.273428e+05</td>\n",
       "      <td>2.353346e+04</td>\n",
       "      <td>1.909246e+06</td>\n",
       "      <td>6.605675e+04</td>\n",
       "      <td>1.626366e+05</td>\n",
       "      <td>2.083347e+06</td>\n",
       "      <td>...</td>\n",
       "      <td>1.257983e+06</td>\n",
       "      <td>1.512301e+06</td>\n",
       "      <td>1.229792e+06</td>\n",
       "      <td>7.545214e+05</td>\n",
       "      <td>3.499801e+05</td>\n",
       "      <td>1.741948e+05</td>\n",
       "      <td>5.924533e+04</td>\n",
       "      <td>1.462056e+04</td>\n",
       "      <td>1.599667e+07</td>\n",
       "      <td>1.792474</td>\n",
       "    </tr>\n",
       "    <tr>\n",
       "      <th>std</th>\n",
       "      <td>1.298296</td>\n",
       "      <td>1.068580e+06</td>\n",
       "      <td>2.877746e+07</td>\n",
       "      <td>2.024335e+05</td>\n",
       "      <td>2.971224e+06</td>\n",
       "      <td>1.450830e+06</td>\n",
       "      <td>1.400643e+08</td>\n",
       "      <td>6.645587e+05</td>\n",
       "      <td>5.664512e+06</td>\n",
       "      <td>3.199324e+07</td>\n",
       "      <td>...</td>\n",
       "      <td>5.577529e+06</td>\n",
       "      <td>7.544910e+06</td>\n",
       "      <td>8.086419e+06</td>\n",
       "      <td>9.944356e+06</td>\n",
       "      <td>5.472720e+06</td>\n",
       "      <td>6.362813e+06</td>\n",
       "      <td>5.323528e+06</td>\n",
       "      <td>2.753707e+06</td>\n",
       "      <td>1.553741e+08</td>\n",
       "      <td>0.563829</td>\n",
       "    </tr>\n",
       "    <tr>\n",
       "      <th>min</th>\n",
       "      <td>1.000000</td>\n",
       "      <td>0.000000e+00</td>\n",
       "      <td>0.000000e+00</td>\n",
       "      <td>0.000000e+00</td>\n",
       "      <td>0.000000e+00</td>\n",
       "      <td>0.000000e+00</td>\n",
       "      <td>0.000000e+00</td>\n",
       "      <td>0.000000e+00</td>\n",
       "      <td>0.000000e+00</td>\n",
       "      <td>0.000000e+00</td>\n",
       "      <td>...</td>\n",
       "      <td>0.000000e+00</td>\n",
       "      <td>0.000000e+00</td>\n",
       "      <td>0.000000e+00</td>\n",
       "      <td>0.000000e+00</td>\n",
       "      <td>0.000000e+00</td>\n",
       "      <td>0.000000e+00</td>\n",
       "      <td>0.000000e+00</td>\n",
       "      <td>0.000000e+00</td>\n",
       "      <td>1.000000e+00</td>\n",
       "      <td>0.000000</td>\n",
       "    </tr>\n",
       "    <tr>\n",
       "      <th>25%</th>\n",
       "      <td>1.000000</td>\n",
       "      <td>0.000000e+00</td>\n",
       "      <td>0.000000e+00</td>\n",
       "      <td>0.000000e+00</td>\n",
       "      <td>0.000000e+00</td>\n",
       "      <td>0.000000e+00</td>\n",
       "      <td>0.000000e+00</td>\n",
       "      <td>0.000000e+00</td>\n",
       "      <td>0.000000e+00</td>\n",
       "      <td>0.000000e+00</td>\n",
       "      <td>...</td>\n",
       "      <td>0.000000e+00</td>\n",
       "      <td>0.000000e+00</td>\n",
       "      <td>0.000000e+00</td>\n",
       "      <td>0.000000e+00</td>\n",
       "      <td>0.000000e+00</td>\n",
       "      <td>0.000000e+00</td>\n",
       "      <td>0.000000e+00</td>\n",
       "      <td>0.000000e+00</td>\n",
       "      <td>5.178900e+05</td>\n",
       "      <td>2.000000</td>\n",
       "    </tr>\n",
       "    <tr>\n",
       "      <th>50%</th>\n",
       "      <td>1.000000</td>\n",
       "      <td>0.000000e+00</td>\n",
       "      <td>0.000000e+00</td>\n",
       "      <td>0.000000e+00</td>\n",
       "      <td>0.000000e+00</td>\n",
       "      <td>0.000000e+00</td>\n",
       "      <td>0.000000e+00</td>\n",
       "      <td>0.000000e+00</td>\n",
       "      <td>0.000000e+00</td>\n",
       "      <td>0.000000e+00</td>\n",
       "      <td>...</td>\n",
       "      <td>0.000000e+00</td>\n",
       "      <td>0.000000e+00</td>\n",
       "      <td>0.000000e+00</td>\n",
       "      <td>0.000000e+00</td>\n",
       "      <td>0.000000e+00</td>\n",
       "      <td>0.000000e+00</td>\n",
       "      <td>0.000000e+00</td>\n",
       "      <td>0.000000e+00</td>\n",
       "      <td>3.859800e+06</td>\n",
       "      <td>2.000000</td>\n",
       "    </tr>\n",
       "    <tr>\n",
       "      <th>75%</th>\n",
       "      <td>2.000000</td>\n",
       "      <td>2.500000e+04</td>\n",
       "      <td>5.000000e+06</td>\n",
       "      <td>0.000000e+00</td>\n",
       "      <td>0.000000e+00</td>\n",
       "      <td>0.000000e+00</td>\n",
       "      <td>0.000000e+00</td>\n",
       "      <td>0.000000e+00</td>\n",
       "      <td>0.000000e+00</td>\n",
       "      <td>0.000000e+00</td>\n",
       "      <td>...</td>\n",
       "      <td>0.000000e+00</td>\n",
       "      <td>0.000000e+00</td>\n",
       "      <td>0.000000e+00</td>\n",
       "      <td>0.000000e+00</td>\n",
       "      <td>0.000000e+00</td>\n",
       "      <td>0.000000e+00</td>\n",
       "      <td>0.000000e+00</td>\n",
       "      <td>0.000000e+00</td>\n",
       "      <td>1.599667e+07</td>\n",
       "      <td>2.000000</td>\n",
       "    </tr>\n",
       "    <tr>\n",
       "      <th>max</th>\n",
       "      <td>18.000000</td>\n",
       "      <td>1.300000e+08</td>\n",
       "      <td>2.351000e+09</td>\n",
       "      <td>2.500000e+07</td>\n",
       "      <td>2.924328e+08</td>\n",
       "      <td>3.000000e+08</td>\n",
       "      <td>3.007950e+10</td>\n",
       "      <td>6.359026e+07</td>\n",
       "      <td>7.505000e+08</td>\n",
       "      <td>3.500000e+09</td>\n",
       "      <td>...</td>\n",
       "      <td>3.190000e+08</td>\n",
       "      <td>5.420000e+08</td>\n",
       "      <td>4.900000e+08</td>\n",
       "      <td>1.200000e+09</td>\n",
       "      <td>4.000000e+08</td>\n",
       "      <td>1.060000e+09</td>\n",
       "      <td>1.000000e+09</td>\n",
       "      <td>6.000000e+08</td>\n",
       "      <td>3.007950e+10</td>\n",
       "      <td>2.000000</td>\n",
       "    </tr>\n",
       "  </tbody>\n",
       "</table>\n",
       "<p>8 rows × 24 columns</p>\n",
       "</div>"
      ],
      "text/plain": [
       "       funding_rounds          seed       venture  equity_crowdfunding  \\\n",
       "count    48124.000000  4.812400e+04  4.812400e+04         4.812400e+04   \n",
       "mean         1.700586  2.191042e+05  7.598091e+06         6.255879e+03   \n",
       "std          1.298296  1.068580e+06  2.877746e+07         2.024335e+05   \n",
       "min          1.000000  0.000000e+00  0.000000e+00         0.000000e+00   \n",
       "25%          1.000000  0.000000e+00  0.000000e+00         0.000000e+00   \n",
       "50%          1.000000  0.000000e+00  0.000000e+00         0.000000e+00   \n",
       "75%          2.000000  2.500000e+04  5.000000e+06         0.000000e+00   \n",
       "max         18.000000  1.300000e+08  2.351000e+09         2.500000e+07   \n",
       "\n",
       "        undisclosed  convertible_note  debt_financing         angel  \\\n",
       "count  4.812400e+04      4.812400e+04    4.812400e+04  4.812400e+04   \n",
       "mean   1.273428e+05      2.353346e+04    1.909246e+06  6.605675e+04   \n",
       "std    2.971224e+06      1.450830e+06    1.400643e+08  6.645587e+05   \n",
       "min    0.000000e+00      0.000000e+00    0.000000e+00  0.000000e+00   \n",
       "25%    0.000000e+00      0.000000e+00    0.000000e+00  0.000000e+00   \n",
       "50%    0.000000e+00      0.000000e+00    0.000000e+00  0.000000e+00   \n",
       "75%    0.000000e+00      0.000000e+00    0.000000e+00  0.000000e+00   \n",
       "max    2.924328e+08      3.000000e+08    3.007950e+10  6.359026e+07   \n",
       "\n",
       "              grant  private_equity  ...       round_A       round_B  \\\n",
       "count  4.812400e+04    4.812400e+04  ...  4.812400e+04  4.812400e+04   \n",
       "mean   1.626366e+05    2.083347e+06  ...  1.257983e+06  1.512301e+06   \n",
       "std    5.664512e+06    3.199324e+07  ...  5.577529e+06  7.544910e+06   \n",
       "min    0.000000e+00    0.000000e+00  ...  0.000000e+00  0.000000e+00   \n",
       "25%    0.000000e+00    0.000000e+00  ...  0.000000e+00  0.000000e+00   \n",
       "50%    0.000000e+00    0.000000e+00  ...  0.000000e+00  0.000000e+00   \n",
       "75%    0.000000e+00    0.000000e+00  ...  0.000000e+00  0.000000e+00   \n",
       "max    7.505000e+08    3.500000e+09  ...  3.190000e+08  5.420000e+08   \n",
       "\n",
       "            round_C       round_D       round_E       round_F       round_G  \\\n",
       "count  4.812400e+04  4.812400e+04  4.812400e+04  4.812400e+04  4.812400e+04   \n",
       "mean   1.229792e+06  7.545214e+05  3.499801e+05  1.741948e+05  5.924533e+04   \n",
       "std    8.086419e+06  9.944356e+06  5.472720e+06  6.362813e+06  5.323528e+06   \n",
       "min    0.000000e+00  0.000000e+00  0.000000e+00  0.000000e+00  0.000000e+00   \n",
       "25%    0.000000e+00  0.000000e+00  0.000000e+00  0.000000e+00  0.000000e+00   \n",
       "50%    0.000000e+00  0.000000e+00  0.000000e+00  0.000000e+00  0.000000e+00   \n",
       "75%    0.000000e+00  0.000000e+00  0.000000e+00  0.000000e+00  0.000000e+00   \n",
       "max    4.900000e+08  1.200000e+09  4.000000e+08  1.060000e+09  1.000000e+09   \n",
       "\n",
       "            round_H  funding_total_usd  target_status  \n",
       "count  4.812400e+04       4.812400e+04   48124.000000  \n",
       "mean   1.462056e+04       1.599667e+07       1.792474  \n",
       "std    2.753707e+06       1.553741e+08       0.563829  \n",
       "min    0.000000e+00       1.000000e+00       0.000000  \n",
       "25%    0.000000e+00       5.178900e+05       2.000000  \n",
       "50%    0.000000e+00       3.859800e+06       2.000000  \n",
       "75%    0.000000e+00       1.599667e+07       2.000000  \n",
       "max    6.000000e+08       3.007950e+10       2.000000  \n",
       "\n",
       "[8 rows x 24 columns]"
      ]
     },
     "execution_count": 138,
     "metadata": {},
     "output_type": "execute_result"
    }
   ],
   "source": [
    "numeric_data.describe()"
   ]
  },
  {
   "cell_type": "code",
   "execution_count": 168,
   "metadata": {},
   "outputs": [],
   "source": [
    "numeric_data = numeric_data.loc[:, numeric_data.columns != 'log_seed']"
   ]
  },
  {
   "cell_type": "code",
   "execution_count": 176,
   "metadata": {},
   "outputs": [],
   "source": [
    "log_num_data = numeric_data.copy()"
   ]
  },
  {
   "cell_type": "code",
   "execution_count": 181,
   "metadata": {},
   "outputs": [
    {
     "data": {
      "text/html": [
       "<div>\n",
       "<style scoped>\n",
       "    .dataframe tbody tr th:only-of-type {\n",
       "        vertical-align: middle;\n",
       "    }\n",
       "\n",
       "    .dataframe tbody tr th {\n",
       "        vertical-align: top;\n",
       "    }\n",
       "\n",
       "    .dataframe thead th {\n",
       "        text-align: right;\n",
       "    }\n",
       "</style>\n",
       "<table border=\"1\" class=\"dataframe\">\n",
       "  <thead>\n",
       "    <tr style=\"text-align: right;\">\n",
       "      <th></th>\n",
       "      <th>funding_rounds</th>\n",
       "      <th>seed</th>\n",
       "      <th>venture</th>\n",
       "      <th>equity_crowdfunding</th>\n",
       "      <th>undisclosed</th>\n",
       "      <th>convertible_note</th>\n",
       "      <th>debt_financing</th>\n",
       "      <th>angel</th>\n",
       "      <th>grant</th>\n",
       "      <th>private_equity</th>\n",
       "      <th>...</th>\n",
       "      <th>round_A</th>\n",
       "      <th>round_B</th>\n",
       "      <th>round_C</th>\n",
       "      <th>round_D</th>\n",
       "      <th>round_E</th>\n",
       "      <th>round_F</th>\n",
       "      <th>round_G</th>\n",
       "      <th>round_H</th>\n",
       "      <th>funding_total_usd</th>\n",
       "      <th>target_status</th>\n",
       "    </tr>\n",
       "  </thead>\n",
       "  <tbody>\n",
       "    <tr>\n",
       "      <th>0</th>\n",
       "      <td>1.0</td>\n",
       "      <td>1750000.0</td>\n",
       "      <td>0.0</td>\n",
       "      <td>0.0</td>\n",
       "      <td>0.0</td>\n",
       "      <td>0.0</td>\n",
       "      <td>0.0</td>\n",
       "      <td>0.0</td>\n",
       "      <td>0.0</td>\n",
       "      <td>0.0</td>\n",
       "      <td>...</td>\n",
       "      <td>0.0</td>\n",
       "      <td>0.0</td>\n",
       "      <td>0.0</td>\n",
       "      <td>0.0</td>\n",
       "      <td>0.0</td>\n",
       "      <td>0.0</td>\n",
       "      <td>0.0</td>\n",
       "      <td>0.0</td>\n",
       "      <td>1750000.0</td>\n",
       "      <td>0</td>\n",
       "    </tr>\n",
       "    <tr>\n",
       "      <th>1</th>\n",
       "      <td>2.0</td>\n",
       "      <td>0.0</td>\n",
       "      <td>4000000.0</td>\n",
       "      <td>0.0</td>\n",
       "      <td>0.0</td>\n",
       "      <td>0.0</td>\n",
       "      <td>0.0</td>\n",
       "      <td>0.0</td>\n",
       "      <td>0.0</td>\n",
       "      <td>0.0</td>\n",
       "      <td>...</td>\n",
       "      <td>0.0</td>\n",
       "      <td>0.0</td>\n",
       "      <td>0.0</td>\n",
       "      <td>0.0</td>\n",
       "      <td>0.0</td>\n",
       "      <td>0.0</td>\n",
       "      <td>0.0</td>\n",
       "      <td>0.0</td>\n",
       "      <td>4000000.0</td>\n",
       "      <td>2</td>\n",
       "    </tr>\n",
       "    <tr>\n",
       "      <th>2</th>\n",
       "      <td>1.0</td>\n",
       "      <td>40000.0</td>\n",
       "      <td>0.0</td>\n",
       "      <td>0.0</td>\n",
       "      <td>0.0</td>\n",
       "      <td>0.0</td>\n",
       "      <td>0.0</td>\n",
       "      <td>0.0</td>\n",
       "      <td>0.0</td>\n",
       "      <td>0.0</td>\n",
       "      <td>...</td>\n",
       "      <td>0.0</td>\n",
       "      <td>0.0</td>\n",
       "      <td>0.0</td>\n",
       "      <td>0.0</td>\n",
       "      <td>0.0</td>\n",
       "      <td>0.0</td>\n",
       "      <td>0.0</td>\n",
       "      <td>0.0</td>\n",
       "      <td>40000.0</td>\n",
       "      <td>2</td>\n",
       "    </tr>\n",
       "    <tr>\n",
       "      <th>3</th>\n",
       "      <td>1.0</td>\n",
       "      <td>1500000.0</td>\n",
       "      <td>0.0</td>\n",
       "      <td>0.0</td>\n",
       "      <td>0.0</td>\n",
       "      <td>0.0</td>\n",
       "      <td>0.0</td>\n",
       "      <td>0.0</td>\n",
       "      <td>0.0</td>\n",
       "      <td>0.0</td>\n",
       "      <td>...</td>\n",
       "      <td>0.0</td>\n",
       "      <td>0.0</td>\n",
       "      <td>0.0</td>\n",
       "      <td>0.0</td>\n",
       "      <td>0.0</td>\n",
       "      <td>0.0</td>\n",
       "      <td>0.0</td>\n",
       "      <td>0.0</td>\n",
       "      <td>1500000.0</td>\n",
       "      <td>2</td>\n",
       "    </tr>\n",
       "    <tr>\n",
       "      <th>4</th>\n",
       "      <td>2.0</td>\n",
       "      <td>0.0</td>\n",
       "      <td>0.0</td>\n",
       "      <td>60000.0</td>\n",
       "      <td>0.0</td>\n",
       "      <td>0.0</td>\n",
       "      <td>0.0</td>\n",
       "      <td>0.0</td>\n",
       "      <td>0.0</td>\n",
       "      <td>0.0</td>\n",
       "      <td>...</td>\n",
       "      <td>0.0</td>\n",
       "      <td>0.0</td>\n",
       "      <td>0.0</td>\n",
       "      <td>0.0</td>\n",
       "      <td>0.0</td>\n",
       "      <td>0.0</td>\n",
       "      <td>0.0</td>\n",
       "      <td>0.0</td>\n",
       "      <td>60000.0</td>\n",
       "      <td>2</td>\n",
       "    </tr>\n",
       "  </tbody>\n",
       "</table>\n",
       "<p>5 rows × 24 columns</p>\n",
       "</div>"
      ],
      "text/plain": [
       "   funding_rounds       seed    venture  equity_crowdfunding  undisclosed  \\\n",
       "0             1.0  1750000.0        0.0                  0.0          0.0   \n",
       "1             2.0        0.0  4000000.0                  0.0          0.0   \n",
       "2             1.0    40000.0        0.0                  0.0          0.0   \n",
       "3             1.0  1500000.0        0.0                  0.0          0.0   \n",
       "4             2.0        0.0        0.0              60000.0          0.0   \n",
       "\n",
       "   convertible_note  debt_financing  angel  grant  private_equity  ...  \\\n",
       "0               0.0             0.0    0.0    0.0             0.0  ...   \n",
       "1               0.0             0.0    0.0    0.0             0.0  ...   \n",
       "2               0.0             0.0    0.0    0.0             0.0  ...   \n",
       "3               0.0             0.0    0.0    0.0             0.0  ...   \n",
       "4               0.0             0.0    0.0    0.0             0.0  ...   \n",
       "\n",
       "   round_A  round_B  round_C  round_D  round_E  round_F  round_G  round_H  \\\n",
       "0      0.0      0.0      0.0      0.0      0.0      0.0      0.0      0.0   \n",
       "1      0.0      0.0      0.0      0.0      0.0      0.0      0.0      0.0   \n",
       "2      0.0      0.0      0.0      0.0      0.0      0.0      0.0      0.0   \n",
       "3      0.0      0.0      0.0      0.0      0.0      0.0      0.0      0.0   \n",
       "4      0.0      0.0      0.0      0.0      0.0      0.0      0.0      0.0   \n",
       "\n",
       "   funding_total_usd  target_status  \n",
       "0          1750000.0              0  \n",
       "1          4000000.0              2  \n",
       "2            40000.0              2  \n",
       "3          1500000.0              2  \n",
       "4            60000.0              2  \n",
       "\n",
       "[5 rows x 24 columns]"
      ]
     },
     "execution_count": 181,
     "metadata": {},
     "output_type": "execute_result"
    }
   ],
   "source": [
    "numeric_data.head()"
   ]
  },
  {
   "cell_type": "code",
   "execution_count": 217,
   "metadata": {},
   "outputs": [
    {
     "data": {
      "text/html": [
       "<div>\n",
       "<style scoped>\n",
       "    .dataframe tbody tr th:only-of-type {\n",
       "        vertical-align: middle;\n",
       "    }\n",
       "\n",
       "    .dataframe tbody tr th {\n",
       "        vertical-align: top;\n",
       "    }\n",
       "\n",
       "    .dataframe thead th {\n",
       "        text-align: right;\n",
       "    }\n",
       "</style>\n",
       "<table border=\"1\" class=\"dataframe\">\n",
       "  <thead>\n",
       "    <tr style=\"text-align: right;\">\n",
       "      <th></th>\n",
       "      <th>seed</th>\n",
       "      <th>venture</th>\n",
       "      <th>equity_crowdfunding</th>\n",
       "      <th>undisclosed</th>\n",
       "      <th>convertible_note</th>\n",
       "      <th>debt_financing</th>\n",
       "      <th>angel</th>\n",
       "      <th>grant</th>\n",
       "      <th>private_equity</th>\n",
       "      <th>post_ipo_equity</th>\n",
       "      <th>...</th>\n",
       "      <th>product_crowdfunding</th>\n",
       "      <th>round_A</th>\n",
       "      <th>round_B</th>\n",
       "      <th>round_C</th>\n",
       "      <th>round_D</th>\n",
       "      <th>round_E</th>\n",
       "      <th>round_F</th>\n",
       "      <th>round_G</th>\n",
       "      <th>round_H</th>\n",
       "      <th>funding_total_usd</th>\n",
       "    </tr>\n",
       "  </thead>\n",
       "  <tbody>\n",
       "    <tr>\n",
       "      <th>0</th>\n",
       "      <td>14.375127</td>\n",
       "      <td>0.000000</td>\n",
       "      <td>0.000000</td>\n",
       "      <td>0.0</td>\n",
       "      <td>0.0</td>\n",
       "      <td>0.0</td>\n",
       "      <td>0.0</td>\n",
       "      <td>0.0</td>\n",
       "      <td>0.0</td>\n",
       "      <td>0.0</td>\n",
       "      <td>...</td>\n",
       "      <td>0.0</td>\n",
       "      <td>0.0</td>\n",
       "      <td>0.0</td>\n",
       "      <td>0.0</td>\n",
       "      <td>0.0</td>\n",
       "      <td>0.0</td>\n",
       "      <td>0.0</td>\n",
       "      <td>0.0</td>\n",
       "      <td>0.0</td>\n",
       "      <td>14.375127</td>\n",
       "    </tr>\n",
       "    <tr>\n",
       "      <th>1</th>\n",
       "      <td>0.000000</td>\n",
       "      <td>15.201805</td>\n",
       "      <td>0.000000</td>\n",
       "      <td>0.0</td>\n",
       "      <td>0.0</td>\n",
       "      <td>0.0</td>\n",
       "      <td>0.0</td>\n",
       "      <td>0.0</td>\n",
       "      <td>0.0</td>\n",
       "      <td>0.0</td>\n",
       "      <td>...</td>\n",
       "      <td>0.0</td>\n",
       "      <td>0.0</td>\n",
       "      <td>0.0</td>\n",
       "      <td>0.0</td>\n",
       "      <td>0.0</td>\n",
       "      <td>0.0</td>\n",
       "      <td>0.0</td>\n",
       "      <td>0.0</td>\n",
       "      <td>0.0</td>\n",
       "      <td>15.201805</td>\n",
       "    </tr>\n",
       "    <tr>\n",
       "      <th>2</th>\n",
       "      <td>10.596660</td>\n",
       "      <td>0.000000</td>\n",
       "      <td>0.000000</td>\n",
       "      <td>0.0</td>\n",
       "      <td>0.0</td>\n",
       "      <td>0.0</td>\n",
       "      <td>0.0</td>\n",
       "      <td>0.0</td>\n",
       "      <td>0.0</td>\n",
       "      <td>0.0</td>\n",
       "      <td>...</td>\n",
       "      <td>0.0</td>\n",
       "      <td>0.0</td>\n",
       "      <td>0.0</td>\n",
       "      <td>0.0</td>\n",
       "      <td>0.0</td>\n",
       "      <td>0.0</td>\n",
       "      <td>0.0</td>\n",
       "      <td>0.0</td>\n",
       "      <td>0.0</td>\n",
       "      <td>10.596660</td>\n",
       "    </tr>\n",
       "    <tr>\n",
       "      <th>3</th>\n",
       "      <td>14.220976</td>\n",
       "      <td>0.000000</td>\n",
       "      <td>0.000000</td>\n",
       "      <td>0.0</td>\n",
       "      <td>0.0</td>\n",
       "      <td>0.0</td>\n",
       "      <td>0.0</td>\n",
       "      <td>0.0</td>\n",
       "      <td>0.0</td>\n",
       "      <td>0.0</td>\n",
       "      <td>...</td>\n",
       "      <td>0.0</td>\n",
       "      <td>0.0</td>\n",
       "      <td>0.0</td>\n",
       "      <td>0.0</td>\n",
       "      <td>0.0</td>\n",
       "      <td>0.0</td>\n",
       "      <td>0.0</td>\n",
       "      <td>0.0</td>\n",
       "      <td>0.0</td>\n",
       "      <td>14.220976</td>\n",
       "    </tr>\n",
       "    <tr>\n",
       "      <th>4</th>\n",
       "      <td>0.000000</td>\n",
       "      <td>0.000000</td>\n",
       "      <td>11.002117</td>\n",
       "      <td>0.0</td>\n",
       "      <td>0.0</td>\n",
       "      <td>0.0</td>\n",
       "      <td>0.0</td>\n",
       "      <td>0.0</td>\n",
       "      <td>0.0</td>\n",
       "      <td>0.0</td>\n",
       "      <td>...</td>\n",
       "      <td>0.0</td>\n",
       "      <td>0.0</td>\n",
       "      <td>0.0</td>\n",
       "      <td>0.0</td>\n",
       "      <td>0.0</td>\n",
       "      <td>0.0</td>\n",
       "      <td>0.0</td>\n",
       "      <td>0.0</td>\n",
       "      <td>0.0</td>\n",
       "      <td>11.002117</td>\n",
       "    </tr>\n",
       "  </tbody>\n",
       "</table>\n",
       "<p>5 rows × 22 columns</p>\n",
       "</div>"
      ],
      "text/plain": [
       "        seed    venture  equity_crowdfunding  undisclosed  convertible_note  \\\n",
       "0  14.375127   0.000000             0.000000          0.0               0.0   \n",
       "1   0.000000  15.201805             0.000000          0.0               0.0   \n",
       "2  10.596660   0.000000             0.000000          0.0               0.0   \n",
       "3  14.220976   0.000000             0.000000          0.0               0.0   \n",
       "4   0.000000   0.000000            11.002117          0.0               0.0   \n",
       "\n",
       "   debt_financing  angel  grant  private_equity  post_ipo_equity  ...  \\\n",
       "0             0.0    0.0    0.0             0.0              0.0  ...   \n",
       "1             0.0    0.0    0.0             0.0              0.0  ...   \n",
       "2             0.0    0.0    0.0             0.0              0.0  ...   \n",
       "3             0.0    0.0    0.0             0.0              0.0  ...   \n",
       "4             0.0    0.0    0.0             0.0              0.0  ...   \n",
       "\n",
       "   product_crowdfunding  round_A  round_B  round_C  round_D  round_E  round_F  \\\n",
       "0                   0.0      0.0      0.0      0.0      0.0      0.0      0.0   \n",
       "1                   0.0      0.0      0.0      0.0      0.0      0.0      0.0   \n",
       "2                   0.0      0.0      0.0      0.0      0.0      0.0      0.0   \n",
       "3                   0.0      0.0      0.0      0.0      0.0      0.0      0.0   \n",
       "4                   0.0      0.0      0.0      0.0      0.0      0.0      0.0   \n",
       "\n",
       "   round_G  round_H  funding_total_usd  \n",
       "0      0.0      0.0          14.375127  \n",
       "1      0.0      0.0          15.201805  \n",
       "2      0.0      0.0          10.596660  \n",
       "3      0.0      0.0          14.220976  \n",
       "4      0.0      0.0          11.002117  \n",
       "\n",
       "[5 rows x 22 columns]"
      ]
     },
     "execution_count": 217,
     "metadata": {},
     "output_type": "execute_result"
    }
   ],
   "source": [
    "num_col = list(numeric_data.columns[1:23])\n",
    "for i in range(len(num_col)):\n",
    "    log_data = np.log(numeric_data[num_col]+1)\n",
    "log_data.head()"
   ]
  },
  {
   "cell_type": "code",
   "execution_count": 218,
   "metadata": {},
   "outputs": [],
   "source": [
    "log_data['funding_rounds'] = numeric_data['funding_rounds']\n",
    "log_data['target_status'] = numeric_data['target_status']"
   ]
  },
  {
   "cell_type": "code",
   "execution_count": 236,
   "metadata": {},
   "outputs": [],
   "source": [
    "# Dealing with imbalanced dataset\n",
    "# First shuffle the dataset\n",
    "shuffled1_df = log_data.sample(frac=1,random_state=4)\n",
    "# Put all the \"closed\" class which is '1' in a separate dataset.\n",
    "closed1_df = shuffled1_df.loc[shuffled1_df['target_status'] == 1]\n",
    "acquired1_df = shuffled1_df.loc[shuffled1_df['target_status'] == 0].sample(n = 3000, random_state = 42)\n",
    "#Randomly select 4000 observations from the operating (majority class)\n",
    "operating1_df = shuffled1_df.loc[shuffled1_df['target_status'] == 2].sample(n=3000,random_state=42)"
   ]
  },
  {
   "cell_type": "code",
   "execution_count": 237,
   "metadata": {},
   "outputs": [
    {
     "data": {
      "image/png": "[encoded data removed]",
      "text/plain": [
       "<Figure size 576x576 with 1 Axes>"
      ]
     },
     "metadata": {
      "needs_background": "light"
     },
     "output_type": "display_data"
    }
   ],
   "source": [
    "# Concatenate above 3 dataframes again\n",
    "normalized1_df = pd.concat([closed1_df, acquired1_df, operating1_df])\n",
    "#plot the dataset after the undersampling\n",
    "plt.figure(figsize=(8, 8))\n",
    "sns.countplot('target_status', data=normalized1_df)\n",
    "plt.title('Balanced Classes')\n",
    "plt.show()"
   ]
  },
  {
   "cell_type": "code",
   "execution_count": 238,
   "metadata": {},
   "outputs": [],
   "source": [
    "col_list1 = list(log_data.columns)"
   ]
  },
  {
   "cell_type": "code",
   "execution_count": 239,
   "metadata": {},
   "outputs": [
    {
     "data": {
      "image/png": "[encoded data removed]",
      "text/plain": [
       "<Figure size 1080x1440 with 24 Axes>"
      ]
     },
     "metadata": {
      "needs_background": "light"
     },
     "output_type": "display_data"
    }
   ],
   "source": [
    "plt.figure(figsize = (15,20))\n",
    "for index, col in enumerate(col_list1):\n",
    "    plt.subplot(6,4, index+1)\n",
    "    plt.boxplot(log_data[col])\n",
    "    plt.xlabel(col, fontsize = 8)\n",
    "plt.tight_layout()"
   ]
  },
  {
   "cell_type": "code",
   "execution_count": 240,
   "metadata": {},
   "outputs": [
    {
     "data": {
      "text/plain": [
       "Index(['seed', 'venture', 'equity_crowdfunding', 'undisclosed',\n",
       "       'convertible_note', 'debt_financing', 'angel', 'grant',\n",
       "       'private_equity', 'post_ipo_equity', 'post_ipo_debt',\n",
       "       'secondary_market', 'product_crowdfunding', 'round_A', 'round_B',\n",
       "       'round_C', 'round_D', 'round_E', 'round_F', 'round_G', 'round_H',\n",
       "       'funding_total_usd'],\n",
       "      dtype='object')"
      ]
     },
     "execution_count": 240,
     "metadata": {},
     "output_type": "execute_result"
    }
   ],
   "source": [
    "numeric_data.columns[1:23]"
   ]
  },
  {
   "cell_type": "code",
   "execution_count": 241,
   "metadata": {},
   "outputs": [],
   "source": [
    "X = normalized_df.loc[:, normalized1_df.columns != 'target_status']\n",
    "y = normalized1_df[['target_status']]"
   ]
  },
  {
   "cell_type": "code",
   "execution_count": 242,
   "metadata": {},
   "outputs": [],
   "source": [
    "X_train, X_test, y_train, y_test = train_test_split(X, y, test_size = 0.3, random_state = 42)"
   ]
  },
  {
   "cell_type": "code",
   "execution_count": 243,
   "metadata": {},
   "outputs": [
    {
     "data": {
      "text/plain": [
       "0.4242541650523053"
      ]
     },
     "execution_count": 243,
     "metadata": {},
     "output_type": "execute_result"
    }
   ],
   "source": [
    "lr = LogisticRegression(solver='lbfgs', penalty ='none', max_iter = 1000, random_state = 42)\n",
    "lr.fit(X_train, y_train)\n",
    "\n",
    "lr.score(X_test, y_test)"
   ]
  },
  {
   "cell_type": "code",
   "execution_count": 244,
   "metadata": {},
   "outputs": [
    {
     "data": {
      "text/plain": [
       "array([0.45876887, 0.44599303, 0.44250871, 0.41162791, 0.42674419,\n",
       "       0.46511628, 0.43372093, 0.4372093 , 0.44186047, 0.43837209])"
      ]
     },
     "execution_count": 244,
     "metadata": {},
     "output_type": "execute_result"
    }
   ],
   "source": [
    "from sklearn import ensemble\n",
    "from sklearn.model_selection import cross_val_score\n",
    "\n",
    "rfc = ensemble.RandomForestClassifier()\n",
    "cross_val_score(rfc, X, y, cv=10)"
   ]
  },
  {
   "cell_type": "code",
   "execution_count": 226,
   "metadata": {},
   "outputs": [
    {
     "data": {
      "text/html": [
       "<div>\n",
       "<style scoped>\n",
       "    .dataframe tbody tr th:only-of-type {\n",
       "        vertical-align: middle;\n",
       "    }\n",
       "\n",
       "    .dataframe tbody tr th {\n",
       "        vertical-align: top;\n",
       "    }\n",
       "\n",
       "    .dataframe thead th {\n",
       "        text-align: right;\n",
       "    }\n",
       "</style>\n",
       "<table border=\"1\" class=\"dataframe\">\n",
       "  <thead>\n",
       "    <tr style=\"text-align: right;\">\n",
       "      <th></th>\n",
       "      <th>seed</th>\n",
       "      <th>venture</th>\n",
       "      <th>equity_crowdfunding</th>\n",
       "      <th>undisclosed</th>\n",
       "      <th>convertible_note</th>\n",
       "      <th>debt_financing</th>\n",
       "      <th>angel</th>\n",
       "      <th>grant</th>\n",
       "      <th>private_equity</th>\n",
       "      <th>post_ipo_equity</th>\n",
       "      <th>...</th>\n",
       "      <th>round_B</th>\n",
       "      <th>round_C</th>\n",
       "      <th>round_D</th>\n",
       "      <th>round_E</th>\n",
       "      <th>round_F</th>\n",
       "      <th>round_G</th>\n",
       "      <th>round_H</th>\n",
       "      <th>funding_total_usd</th>\n",
       "      <th>funding_rounds</th>\n",
       "      <th>target_status</th>\n",
       "    </tr>\n",
       "  </thead>\n",
       "  <tbody>\n",
       "    <tr>\n",
       "      <th>count</th>\n",
       "      <td>48124.000000</td>\n",
       "      <td>48124.000000</td>\n",
       "      <td>48124.000000</td>\n",
       "      <td>48124.000000</td>\n",
       "      <td>48124.000000</td>\n",
       "      <td>48124.000000</td>\n",
       "      <td>48124.000000</td>\n",
       "      <td>48124.000000</td>\n",
       "      <td>48124.000000</td>\n",
       "      <td>48124.000000</td>\n",
       "      <td>...</td>\n",
       "      <td>48124.000000</td>\n",
       "      <td>48124.000000</td>\n",
       "      <td>48124.000000</td>\n",
       "      <td>48124.000000</td>\n",
       "      <td>48124.000000</td>\n",
       "      <td>48124.000000</td>\n",
       "      <td>48124.000000</td>\n",
       "      <td>48124.000000</td>\n",
       "      <td>48124.000000</td>\n",
       "      <td>48124.000000</td>\n",
       "    </tr>\n",
       "    <tr>\n",
       "      <th>mean</th>\n",
       "      <td>3.485757</td>\n",
       "      <td>7.270287</td>\n",
       "      <td>0.119844</td>\n",
       "      <td>0.266329</td>\n",
       "      <td>0.146007</td>\n",
       "      <td>1.213561</td>\n",
       "      <td>0.831161</td>\n",
       "      <td>0.292615</td>\n",
       "      <td>0.453161</td>\n",
       "      <td>0.089570</td>\n",
       "      <td>...</td>\n",
       "      <td>1.776754</td>\n",
       "      <td>0.956432</td>\n",
       "      <td>0.440348</td>\n",
       "      <td>0.179184</td>\n",
       "      <td>0.060049</td>\n",
       "      <td>0.012076</td>\n",
       "      <td>0.001475</td>\n",
       "      <td>14.741983</td>\n",
       "      <td>1.700586</td>\n",
       "      <td>1.792474</td>\n",
       "    </tr>\n",
       "    <tr>\n",
       "      <th>std</th>\n",
       "      <td>5.671018</td>\n",
       "      <td>7.766936</td>\n",
       "      <td>1.176106</td>\n",
       "      <td>1.924378</td>\n",
       "      <td>1.379769</td>\n",
       "      <td>4.008415</td>\n",
       "      <td>3.198170</td>\n",
       "      <td>1.975749</td>\n",
       "      <td>2.726844</td>\n",
       "      <td>1.232887</td>\n",
       "      <td>...</td>\n",
       "      <td>5.032805</td>\n",
       "      <td>3.851723</td>\n",
       "      <td>2.674167</td>\n",
       "      <td>1.729416</td>\n",
       "      <td>1.008856</td>\n",
       "      <td>0.455880</td>\n",
       "      <td>0.162556</td>\n",
       "      <td>2.291047</td>\n",
       "      <td>1.298296</td>\n",
       "      <td>0.563829</td>\n",
       "    </tr>\n",
       "    <tr>\n",
       "      <th>min</th>\n",
       "      <td>0.000000</td>\n",
       "      <td>0.000000</td>\n",
       "      <td>0.000000</td>\n",
       "      <td>0.000000</td>\n",
       "      <td>0.000000</td>\n",
       "      <td>0.000000</td>\n",
       "      <td>0.000000</td>\n",
       "      <td>0.000000</td>\n",
       "      <td>0.000000</td>\n",
       "      <td>0.000000</td>\n",
       "      <td>...</td>\n",
       "      <td>0.000000</td>\n",
       "      <td>0.000000</td>\n",
       "      <td>0.000000</td>\n",
       "      <td>0.000000</td>\n",
       "      <td>0.000000</td>\n",
       "      <td>0.000000</td>\n",
       "      <td>0.000000</td>\n",
       "      <td>0.693147</td>\n",
       "      <td>1.000000</td>\n",
       "      <td>0.000000</td>\n",
       "    </tr>\n",
       "    <tr>\n",
       "      <th>25%</th>\n",
       "      <td>0.000000</td>\n",
       "      <td>0.000000</td>\n",
       "      <td>0.000000</td>\n",
       "      <td>0.000000</td>\n",
       "      <td>0.000000</td>\n",
       "      <td>0.000000</td>\n",
       "      <td>0.000000</td>\n",
       "      <td>0.000000</td>\n",
       "      <td>0.000000</td>\n",
       "      <td>0.000000</td>\n",
       "      <td>...</td>\n",
       "      <td>0.000000</td>\n",
       "      <td>0.000000</td>\n",
       "      <td>0.000000</td>\n",
       "      <td>0.000000</td>\n",
       "      <td>0.000000</td>\n",
       "      <td>0.000000</td>\n",
       "      <td>0.000000</td>\n",
       "      <td>13.157520</td>\n",
       "      <td>1.000000</td>\n",
       "      <td>2.000000</td>\n",
       "    </tr>\n",
       "    <tr>\n",
       "      <th>50%</th>\n",
       "      <td>0.000000</td>\n",
       "      <td>0.000000</td>\n",
       "      <td>0.000000</td>\n",
       "      <td>0.000000</td>\n",
       "      <td>0.000000</td>\n",
       "      <td>0.000000</td>\n",
       "      <td>0.000000</td>\n",
       "      <td>0.000000</td>\n",
       "      <td>0.000000</td>\n",
       "      <td>0.000000</td>\n",
       "      <td>...</td>\n",
       "      <td>0.000000</td>\n",
       "      <td>0.000000</td>\n",
       "      <td>0.000000</td>\n",
       "      <td>0.000000</td>\n",
       "      <td>0.000000</td>\n",
       "      <td>0.000000</td>\n",
       "      <td>0.000000</td>\n",
       "      <td>15.166126</td>\n",
       "      <td>1.000000</td>\n",
       "      <td>2.000000</td>\n",
       "    </tr>\n",
       "    <tr>\n",
       "      <th>75%</th>\n",
       "      <td>10.126671</td>\n",
       "      <td>15.424949</td>\n",
       "      <td>0.000000</td>\n",
       "      <td>0.000000</td>\n",
       "      <td>0.000000</td>\n",
       "      <td>0.000000</td>\n",
       "      <td>0.000000</td>\n",
       "      <td>0.000000</td>\n",
       "      <td>0.000000</td>\n",
       "      <td>0.000000</td>\n",
       "      <td>...</td>\n",
       "      <td>0.000000</td>\n",
       "      <td>0.000000</td>\n",
       "      <td>0.000000</td>\n",
       "      <td>0.000000</td>\n",
       "      <td>0.000000</td>\n",
       "      <td>0.000000</td>\n",
       "      <td>0.000000</td>\n",
       "      <td>16.587891</td>\n",
       "      <td>2.000000</td>\n",
       "      <td>2.000000</td>\n",
       "    </tr>\n",
       "    <tr>\n",
       "      <th>max</th>\n",
       "      <td>18.683045</td>\n",
       "      <td>21.578107</td>\n",
       "      <td>17.034386</td>\n",
       "      <td>19.493746</td>\n",
       "      <td>19.519293</td>\n",
       "      <td>24.127110</td>\n",
       "      <td>17.967971</td>\n",
       "      <td>20.436250</td>\n",
       "      <td>21.976029</td>\n",
       "      <td>22.270828</td>\n",
       "      <td>...</td>\n",
       "      <td>20.110777</td>\n",
       "      <td>20.009916</td>\n",
       "      <td>20.905587</td>\n",
       "      <td>19.806975</td>\n",
       "      <td>20.781535</td>\n",
       "      <td>20.723266</td>\n",
       "      <td>20.212440</td>\n",
       "      <td>24.127110</td>\n",
       "      <td>18.000000</td>\n",
       "      <td>2.000000</td>\n",
       "    </tr>\n",
       "  </tbody>\n",
       "</table>\n",
       "<p>8 rows × 24 columns</p>\n",
       "</div>"
      ],
      "text/plain": [
       "               seed       venture  equity_crowdfunding   undisclosed  \\\n",
       "count  48124.000000  48124.000000         48124.000000  48124.000000   \n",
       "mean       3.485757      7.270287             0.119844      0.266329   \n",
       "std        5.671018      7.766936             1.176106      1.924378   \n",
       "min        0.000000      0.000000             0.000000      0.000000   \n",
       "25%        0.000000      0.000000             0.000000      0.000000   \n",
       "50%        0.000000      0.000000             0.000000      0.000000   \n",
       "75%       10.126671     15.424949             0.000000      0.000000   \n",
       "max       18.683045     21.578107            17.034386     19.493746   \n",
       "\n",
       "       convertible_note  debt_financing         angel         grant  \\\n",
       "count      48124.000000    48124.000000  48124.000000  48124.000000   \n",
       "mean           0.146007        1.213561      0.831161      0.292615   \n",
       "std            1.379769        4.008415      3.198170      1.975749   \n",
       "min            0.000000        0.000000      0.000000      0.000000   \n",
       "25%            0.000000        0.000000      0.000000      0.000000   \n",
       "50%            0.000000        0.000000      0.000000      0.000000   \n",
       "75%            0.000000        0.000000      0.000000      0.000000   \n",
       "max           19.519293       24.127110     17.967971     20.436250   \n",
       "\n",
       "       private_equity  post_ipo_equity  ...       round_B       round_C  \\\n",
       "count    48124.000000     48124.000000  ...  48124.000000  48124.000000   \n",
       "mean         0.453161         0.089570  ...      1.776754      0.956432   \n",
       "std          2.726844         1.232887  ...      5.032805      3.851723   \n",
       "min          0.000000         0.000000  ...      0.000000      0.000000   \n",
       "25%          0.000000         0.000000  ...      0.000000      0.000000   \n",
       "50%          0.000000         0.000000  ...      0.000000      0.000000   \n",
       "75%          0.000000         0.000000  ...      0.000000      0.000000   \n",
       "max         21.976029        22.270828  ...     20.110777     20.009916   \n",
       "\n",
       "            round_D       round_E       round_F       round_G       round_H  \\\n",
       "count  48124.000000  48124.000000  48124.000000  48124.000000  48124.000000   \n",
       "mean       0.440348      0.179184      0.060049      0.012076      0.001475   \n",
       "std        2.674167      1.729416      1.008856      0.455880      0.162556   \n",
       "min        0.000000      0.000000      0.000000      0.000000      0.000000   \n",
       "25%        0.000000      0.000000      0.000000      0.000000      0.000000   \n",
       "50%        0.000000      0.000000      0.000000      0.000000      0.000000   \n",
       "75%        0.000000      0.000000      0.000000      0.000000      0.000000   \n",
       "max       20.905587     19.806975     20.781535     20.723266     20.212440   \n",
       "\n",
       "       funding_total_usd  funding_rounds  target_status  \n",
       "count       48124.000000    48124.000000   48124.000000  \n",
       "mean           14.741983        1.700586       1.792474  \n",
       "std             2.291047        1.298296       0.563829  \n",
       "min             0.693147        1.000000       0.000000  \n",
       "25%            13.157520        1.000000       2.000000  \n",
       "50%            15.166126        1.000000       2.000000  \n",
       "75%            16.587891        2.000000       2.000000  \n",
       "max            24.127110       18.000000       2.000000  \n",
       "\n",
       "[8 rows x 24 columns]"
      ]
     },
     "execution_count": 226,
     "metadata": {},
     "output_type": "execute_result"
    }
   ],
   "source": [
    "log_data.describe()"
   ]
  },
  {
   "cell_type": "code",
   "execution_count": 227,
   "metadata": {},
   "outputs": [],
   "source": [
    "from scipy.stats.mstats import winsorize\n",
    "wins_crowdfunding = winsorize(log_data['equity_crowdfunding'], (0,0.1))"
   ]
  },
  {
   "cell_type": "code",
   "execution_count": 228,
   "metadata": {},
   "outputs": [
    {
     "data": {
      "text/plain": [
       "{'whiskers': [<matplotlib.lines.Line2D at 0x1a21f35a20>,\n",
       "  <matplotlib.lines.Line2D at 0x1a2b179ac8>],\n",
       " 'caps': [<matplotlib.lines.Line2D at 0x1a2a8b5b38>,\n",
       "  <matplotlib.lines.Line2D at 0x1a2fced710>],\n",
       " 'boxes': [<matplotlib.lines.Line2D at 0x1a36ff0f28>],\n",
       " 'medians': [<matplotlib.lines.Line2D at 0x1a2fcedc88>],\n",
       " 'fliers': [<matplotlib.lines.Line2D at 0x1a2fcedcc0>],\n",
       " 'means': []}"
      ]
     },
     "execution_count": 228,
     "metadata": {},
     "output_type": "execute_result"
    },
    {
     "data": {
      "image/png": "[encoded data removed]",
      "text/plain": [
       "<Figure size 432x288 with 1 Axes>"
      ]
     },
     "metadata": {
      "needs_background": "light"
     },
     "output_type": "display_data"
    }
   ],
   "source": [
    "plt.boxplot(wins_crowdfunding)"
   ]
  },
  {
   "cell_type": "code",
   "execution_count": 229,
   "metadata": {},
   "outputs": [
    {
     "data": {
      "text/plain": [
       "0.0"
      ]
     },
     "execution_count": 229,
     "metadata": {},
     "output_type": "execute_result"
    }
   ],
   "source": [
    "max(wins_crowdfunding)"
   ]
  },
  {
   "cell_type": "code",
   "execution_count": 230,
   "metadata": {},
   "outputs": [
    {
     "data": {
      "text/html": [
       "<div>\n",
       "<style scoped>\n",
       "    .dataframe tbody tr th:only-of-type {\n",
       "        vertical-align: middle;\n",
       "    }\n",
       "\n",
       "    .dataframe tbody tr th {\n",
       "        vertical-align: top;\n",
       "    }\n",
       "\n",
       "    .dataframe thead th {\n",
       "        text-align: right;\n",
       "    }\n",
       "</style>\n",
       "<table border=\"1\" class=\"dataframe\">\n",
       "  <thead>\n",
       "    <tr style=\"text-align: right;\">\n",
       "      <th></th>\n",
       "      <th>seed</th>\n",
       "      <th>venture</th>\n",
       "      <th>equity_crowdfunding</th>\n",
       "      <th>undisclosed</th>\n",
       "      <th>convertible_note</th>\n",
       "      <th>debt_financing</th>\n",
       "      <th>angel</th>\n",
       "      <th>grant</th>\n",
       "      <th>private_equity</th>\n",
       "      <th>post_ipo_equity</th>\n",
       "      <th>...</th>\n",
       "      <th>product_crowdfunding</th>\n",
       "      <th>round_A</th>\n",
       "      <th>round_B</th>\n",
       "      <th>round_C</th>\n",
       "      <th>round_D</th>\n",
       "      <th>round_E</th>\n",
       "      <th>round_F</th>\n",
       "      <th>round_G</th>\n",
       "      <th>round_H</th>\n",
       "      <th>funding_total_usd</th>\n",
       "    </tr>\n",
       "  </thead>\n",
       "  <tbody>\n",
       "    <tr>\n",
       "      <th>0</th>\n",
       "      <td>1322.876033</td>\n",
       "      <td>1.00000</td>\n",
       "      <td>1.000000</td>\n",
       "      <td>1.0</td>\n",
       "      <td>1.0</td>\n",
       "      <td>1.0</td>\n",
       "      <td>1.0</td>\n",
       "      <td>1.0</td>\n",
       "      <td>1.0</td>\n",
       "      <td>1.0</td>\n",
       "      <td>...</td>\n",
       "      <td>1.0</td>\n",
       "      <td>1.0</td>\n",
       "      <td>1.0</td>\n",
       "      <td>1.0</td>\n",
       "      <td>1.0</td>\n",
       "      <td>1.0</td>\n",
       "      <td>1.0</td>\n",
       "      <td>1.0</td>\n",
       "      <td>1.0</td>\n",
       "      <td>1322.876033</td>\n",
       "    </tr>\n",
       "    <tr>\n",
       "      <th>1</th>\n",
       "      <td>1.000000</td>\n",
       "      <td>2000.00025</td>\n",
       "      <td>1.000000</td>\n",
       "      <td>1.0</td>\n",
       "      <td>1.0</td>\n",
       "      <td>1.0</td>\n",
       "      <td>1.0</td>\n",
       "      <td>1.0</td>\n",
       "      <td>1.0</td>\n",
       "      <td>1.0</td>\n",
       "      <td>...</td>\n",
       "      <td>1.0</td>\n",
       "      <td>1.0</td>\n",
       "      <td>1.0</td>\n",
       "      <td>1.0</td>\n",
       "      <td>1.0</td>\n",
       "      <td>1.0</td>\n",
       "      <td>1.0</td>\n",
       "      <td>1.0</td>\n",
       "      <td>1.0</td>\n",
       "      <td>2000.000250</td>\n",
       "    </tr>\n",
       "    <tr>\n",
       "      <th>2</th>\n",
       "      <td>200.002500</td>\n",
       "      <td>1.00000</td>\n",
       "      <td>1.000000</td>\n",
       "      <td>1.0</td>\n",
       "      <td>1.0</td>\n",
       "      <td>1.0</td>\n",
       "      <td>1.0</td>\n",
       "      <td>1.0</td>\n",
       "      <td>1.0</td>\n",
       "      <td>1.0</td>\n",
       "      <td>...</td>\n",
       "      <td>1.0</td>\n",
       "      <td>1.0</td>\n",
       "      <td>1.0</td>\n",
       "      <td>1.0</td>\n",
       "      <td>1.0</td>\n",
       "      <td>1.0</td>\n",
       "      <td>1.0</td>\n",
       "      <td>1.0</td>\n",
       "      <td>1.0</td>\n",
       "      <td>200.002500</td>\n",
       "    </tr>\n",
       "    <tr>\n",
       "      <th>3</th>\n",
       "      <td>1224.745280</td>\n",
       "      <td>1.00000</td>\n",
       "      <td>1.000000</td>\n",
       "      <td>1.0</td>\n",
       "      <td>1.0</td>\n",
       "      <td>1.0</td>\n",
       "      <td>1.0</td>\n",
       "      <td>1.0</td>\n",
       "      <td>1.0</td>\n",
       "      <td>1.0</td>\n",
       "      <td>...</td>\n",
       "      <td>1.0</td>\n",
       "      <td>1.0</td>\n",
       "      <td>1.0</td>\n",
       "      <td>1.0</td>\n",
       "      <td>1.0</td>\n",
       "      <td>1.0</td>\n",
       "      <td>1.0</td>\n",
       "      <td>1.0</td>\n",
       "      <td>1.0</td>\n",
       "      <td>1224.745280</td>\n",
       "    </tr>\n",
       "    <tr>\n",
       "      <th>4</th>\n",
       "      <td>1.000000</td>\n",
       "      <td>1.00000</td>\n",
       "      <td>244.951016</td>\n",
       "      <td>1.0</td>\n",
       "      <td>1.0</td>\n",
       "      <td>1.0</td>\n",
       "      <td>1.0</td>\n",
       "      <td>1.0</td>\n",
       "      <td>1.0</td>\n",
       "      <td>1.0</td>\n",
       "      <td>...</td>\n",
       "      <td>1.0</td>\n",
       "      <td>1.0</td>\n",
       "      <td>1.0</td>\n",
       "      <td>1.0</td>\n",
       "      <td>1.0</td>\n",
       "      <td>1.0</td>\n",
       "      <td>1.0</td>\n",
       "      <td>1.0</td>\n",
       "      <td>1.0</td>\n",
       "      <td>244.951016</td>\n",
       "    </tr>\n",
       "  </tbody>\n",
       "</table>\n",
       "<p>5 rows × 22 columns</p>\n",
       "</div>"
      ],
      "text/plain": [
       "          seed     venture  equity_crowdfunding  undisclosed  \\\n",
       "0  1322.876033     1.00000             1.000000          1.0   \n",
       "1     1.000000  2000.00025             1.000000          1.0   \n",
       "2   200.002500     1.00000             1.000000          1.0   \n",
       "3  1224.745280     1.00000             1.000000          1.0   \n",
       "4     1.000000     1.00000           244.951016          1.0   \n",
       "\n",
       "   convertible_note  debt_financing  angel  grant  private_equity  \\\n",
       "0               1.0             1.0    1.0    1.0             1.0   \n",
       "1               1.0             1.0    1.0    1.0             1.0   \n",
       "2               1.0             1.0    1.0    1.0             1.0   \n",
       "3               1.0             1.0    1.0    1.0             1.0   \n",
       "4               1.0             1.0    1.0    1.0             1.0   \n",
       "\n",
       "   post_ipo_equity  ...  product_crowdfunding  round_A  round_B  round_C  \\\n",
       "0              1.0  ...                   1.0      1.0      1.0      1.0   \n",
       "1              1.0  ...                   1.0      1.0      1.0      1.0   \n",
       "2              1.0  ...                   1.0      1.0      1.0      1.0   \n",
       "3              1.0  ...                   1.0      1.0      1.0      1.0   \n",
       "4              1.0  ...                   1.0      1.0      1.0      1.0   \n",
       "\n",
       "   round_D  round_E  round_F  round_G  round_H  funding_total_usd  \n",
       "0      1.0      1.0      1.0      1.0      1.0        1322.876033  \n",
       "1      1.0      1.0      1.0      1.0      1.0        2000.000250  \n",
       "2      1.0      1.0      1.0      1.0      1.0         200.002500  \n",
       "3      1.0      1.0      1.0      1.0      1.0        1224.745280  \n",
       "4      1.0      1.0      1.0      1.0      1.0         244.951016  \n",
       "\n",
       "[5 rows x 22 columns]"
      ]
     },
     "execution_count": 230,
     "metadata": {},
     "output_type": "execute_result"
    }
   ],
   "source": [
    "num_col = list(numeric_data.columns[1:23])\n",
    "for i in range(len(num_col)):\n",
    "    sqrt_data = np.sqrt(numeric_data[num_col]+1)\n",
    "sqrt_data.head()"
   ]
  },
  {
   "cell_type": "code",
   "execution_count": 246,
   "metadata": {},
   "outputs": [],
   "source": [
    "sqrt_data['funding_rounds'] = numeric_data['funding_rounds']\n",
    "sqrt_data['target_status'] = numeric_data['target_status']"
   ]
  },
  {
   "cell_type": "code",
   "execution_count": 234,
   "metadata": {},
   "outputs": [
    {
     "data": {
      "text/html": [
       "<div>\n",
       "<style scoped>\n",
       "    .dataframe tbody tr th:only-of-type {\n",
       "        vertical-align: middle;\n",
       "    }\n",
       "\n",
       "    .dataframe tbody tr th {\n",
       "        vertical-align: top;\n",
       "    }\n",
       "\n",
       "    .dataframe thead th {\n",
       "        text-align: right;\n",
       "    }\n",
       "</style>\n",
       "<table border=\"1\" class=\"dataframe\">\n",
       "  <thead>\n",
       "    <tr style=\"text-align: right;\">\n",
       "      <th></th>\n",
       "      <th>seed</th>\n",
       "      <th>venture</th>\n",
       "      <th>equity_crowdfunding</th>\n",
       "      <th>undisclosed</th>\n",
       "      <th>convertible_note</th>\n",
       "      <th>debt_financing</th>\n",
       "      <th>angel</th>\n",
       "      <th>grant</th>\n",
       "      <th>private_equity</th>\n",
       "      <th>post_ipo_equity</th>\n",
       "      <th>...</th>\n",
       "      <th>round_A</th>\n",
       "      <th>round_B</th>\n",
       "      <th>round_C</th>\n",
       "      <th>round_D</th>\n",
       "      <th>round_E</th>\n",
       "      <th>round_F</th>\n",
       "      <th>round_G</th>\n",
       "      <th>round_H</th>\n",
       "      <th>funding_total_usd</th>\n",
       "      <th>funding_rounds</th>\n",
       "    </tr>\n",
       "  </thead>\n",
       "  <tbody>\n",
       "    <tr>\n",
       "      <th>0</th>\n",
       "      <td>1322.876033</td>\n",
       "      <td>1.00000</td>\n",
       "      <td>1.000000</td>\n",
       "      <td>1.0</td>\n",
       "      <td>1.0</td>\n",
       "      <td>1.0</td>\n",
       "      <td>1.0</td>\n",
       "      <td>1.0</td>\n",
       "      <td>1.0</td>\n",
       "      <td>1.0</td>\n",
       "      <td>...</td>\n",
       "      <td>1.0</td>\n",
       "      <td>1.0</td>\n",
       "      <td>1.0</td>\n",
       "      <td>1.0</td>\n",
       "      <td>1.0</td>\n",
       "      <td>1.0</td>\n",
       "      <td>1.0</td>\n",
       "      <td>1.0</td>\n",
       "      <td>1322.876033</td>\n",
       "      <td>1.0</td>\n",
       "    </tr>\n",
       "    <tr>\n",
       "      <th>1</th>\n",
       "      <td>1.000000</td>\n",
       "      <td>2000.00025</td>\n",
       "      <td>1.000000</td>\n",
       "      <td>1.0</td>\n",
       "      <td>1.0</td>\n",
       "      <td>1.0</td>\n",
       "      <td>1.0</td>\n",
       "      <td>1.0</td>\n",
       "      <td>1.0</td>\n",
       "      <td>1.0</td>\n",
       "      <td>...</td>\n",
       "      <td>1.0</td>\n",
       "      <td>1.0</td>\n",
       "      <td>1.0</td>\n",
       "      <td>1.0</td>\n",
       "      <td>1.0</td>\n",
       "      <td>1.0</td>\n",
       "      <td>1.0</td>\n",
       "      <td>1.0</td>\n",
       "      <td>2000.000250</td>\n",
       "      <td>2.0</td>\n",
       "    </tr>\n",
       "    <tr>\n",
       "      <th>2</th>\n",
       "      <td>200.002500</td>\n",
       "      <td>1.00000</td>\n",
       "      <td>1.000000</td>\n",
       "      <td>1.0</td>\n",
       "      <td>1.0</td>\n",
       "      <td>1.0</td>\n",
       "      <td>1.0</td>\n",
       "      <td>1.0</td>\n",
       "      <td>1.0</td>\n",
       "      <td>1.0</td>\n",
       "      <td>...</td>\n",
       "      <td>1.0</td>\n",
       "      <td>1.0</td>\n",
       "      <td>1.0</td>\n",
       "      <td>1.0</td>\n",
       "      <td>1.0</td>\n",
       "      <td>1.0</td>\n",
       "      <td>1.0</td>\n",
       "      <td>1.0</td>\n",
       "      <td>200.002500</td>\n",
       "      <td>1.0</td>\n",
       "    </tr>\n",
       "    <tr>\n",
       "      <th>3</th>\n",
       "      <td>1224.745280</td>\n",
       "      <td>1.00000</td>\n",
       "      <td>1.000000</td>\n",
       "      <td>1.0</td>\n",
       "      <td>1.0</td>\n",
       "      <td>1.0</td>\n",
       "      <td>1.0</td>\n",
       "      <td>1.0</td>\n",
       "      <td>1.0</td>\n",
       "      <td>1.0</td>\n",
       "      <td>...</td>\n",
       "      <td>1.0</td>\n",
       "      <td>1.0</td>\n",
       "      <td>1.0</td>\n",
       "      <td>1.0</td>\n",
       "      <td>1.0</td>\n",
       "      <td>1.0</td>\n",
       "      <td>1.0</td>\n",
       "      <td>1.0</td>\n",
       "      <td>1224.745280</td>\n",
       "      <td>1.0</td>\n",
       "    </tr>\n",
       "    <tr>\n",
       "      <th>4</th>\n",
       "      <td>1.000000</td>\n",
       "      <td>1.00000</td>\n",
       "      <td>244.951016</td>\n",
       "      <td>1.0</td>\n",
       "      <td>1.0</td>\n",
       "      <td>1.0</td>\n",
       "      <td>1.0</td>\n",
       "      <td>1.0</td>\n",
       "      <td>1.0</td>\n",
       "      <td>1.0</td>\n",
       "      <td>...</td>\n",
       "      <td>1.0</td>\n",
       "      <td>1.0</td>\n",
       "      <td>1.0</td>\n",
       "      <td>1.0</td>\n",
       "      <td>1.0</td>\n",
       "      <td>1.0</td>\n",
       "      <td>1.0</td>\n",
       "      <td>1.0</td>\n",
       "      <td>244.951016</td>\n",
       "      <td>2.0</td>\n",
       "    </tr>\n",
       "  </tbody>\n",
       "</table>\n",
       "<p>5 rows × 23 columns</p>\n",
       "</div>"
      ],
      "text/plain": [
       "          seed     venture  equity_crowdfunding  undisclosed  \\\n",
       "0  1322.876033     1.00000             1.000000          1.0   \n",
       "1     1.000000  2000.00025             1.000000          1.0   \n",
       "2   200.002500     1.00000             1.000000          1.0   \n",
       "3  1224.745280     1.00000             1.000000          1.0   \n",
       "4     1.000000     1.00000           244.951016          1.0   \n",
       "\n",
       "   convertible_note  debt_financing  angel  grant  private_equity  \\\n",
       "0               1.0             1.0    1.0    1.0             1.0   \n",
       "1               1.0             1.0    1.0    1.0             1.0   \n",
       "2               1.0             1.0    1.0    1.0             1.0   \n",
       "3               1.0             1.0    1.0    1.0             1.0   \n",
       "4               1.0             1.0    1.0    1.0             1.0   \n",
       "\n",
       "   post_ipo_equity  ...  round_A  round_B  round_C  round_D  round_E  round_F  \\\n",
       "0              1.0  ...      1.0      1.0      1.0      1.0      1.0      1.0   \n",
       "1              1.0  ...      1.0      1.0      1.0      1.0      1.0      1.0   \n",
       "2              1.0  ...      1.0      1.0      1.0      1.0      1.0      1.0   \n",
       "3              1.0  ...      1.0      1.0      1.0      1.0      1.0      1.0   \n",
       "4              1.0  ...      1.0      1.0      1.0      1.0      1.0      1.0   \n",
       "\n",
       "   round_G  round_H  funding_total_usd  funding_rounds  \n",
       "0      1.0      1.0        1322.876033             1.0  \n",
       "1      1.0      1.0        2000.000250             2.0  \n",
       "2      1.0      1.0         200.002500             1.0  \n",
       "3      1.0      1.0        1224.745280             1.0  \n",
       "4      1.0      1.0         244.951016             2.0  \n",
       "\n",
       "[5 rows x 23 columns]"
      ]
     },
     "execution_count": 234,
     "metadata": {},
     "output_type": "execute_result"
    }
   ],
   "source": []
  },
  {
   "cell_type": "code",
   "execution_count": 247,
   "metadata": {},
   "outputs": [],
   "source": [
    "# Dealing with imbalanced dataset\n",
    "# First shuffle the dataset\n",
    "shuffled_df1 = sqrt_data.sample(frac=1,random_state=4)\n",
    "# Put all the \"closed\" class which is '1' in a separate dataset.\n",
    "closed_df1 = shuffled_df1.loc[shuffled_df1['target_status'] == 1]\n",
    "acquired_df1 = shuffled_df1.loc[shuffled_df1['target_status'] == 0].sample(n = 3000, random_state = 42)\n",
    "#Randomly select 4000 observations from the operating (majority class)\n",
    "operating_df1 = shuffled_df1.loc[shuffled_df1['target_status'] == 2].sample(n=3000,random_state=42)"
   ]
  },
  {
   "cell_type": "code",
   "execution_count": 248,
   "metadata": {},
   "outputs": [
    {
     "data": {
      "image/png": "[encoded data removed]",
      "text/plain": [
       "<Figure size 576x576 with 1 Axes>"
      ]
     },
     "metadata": {
      "needs_background": "light"
     },
     "output_type": "display_data"
    }
   ],
   "source": [
    "# Concatenate above 3 dataframes again\n",
    "normalized_df1 = pd.concat([closed_df1, acquired_df1, operating_df1])\n",
    "#plot the dataset after the undersampling\n",
    "plt.figure(figsize=(8, 8))\n",
    "sns.countplot('target_status', data=normalized_df1)\n",
    "plt.title('Balanced Classes')\n",
    "plt.show()"
   ]
  },
  {
   "cell_type": "code",
   "execution_count": 249,
   "metadata": {},
   "outputs": [],
   "source": [
    "X = normalized_df1.loc[:, normalized_df1.columns != 'target_status']\n",
    "y = normalized_df1[['target_status']]"
   ]
  },
  {
   "cell_type": "code",
   "execution_count": 250,
   "metadata": {},
   "outputs": [],
   "source": [
    "X_train, X_test, y_train, y_test = train_test_split(X, y, test_size = 0.3, random_state = 42)"
   ]
  },
  {
   "cell_type": "code",
   "execution_count": 251,
   "metadata": {},
   "outputs": [
    {
     "data": {
      "text/plain": [
       "0.4509879891514917"
      ]
     },
     "execution_count": 251,
     "metadata": {},
     "output_type": "execute_result"
    }
   ],
   "source": [
    "lr = LogisticRegression(solver='lbfgs', penalty ='none', max_iter = 1000, random_state = 42)\n",
    "lr.fit(X_train, y_train)\n",
    "\n",
    "lr.score(X_test, y_test)"
   ]
  },
  {
   "cell_type": "code",
   "execution_count": 253,
   "metadata": {},
   "outputs": [
    {
     "data": {
      "text/plain": [
       "array([0.44857641, 0.4363742 , 0.45322487, 0.43023256, 0.42790698])"
      ]
     },
     "execution_count": 253,
     "metadata": {},
     "output_type": "execute_result"
    }
   ],
   "source": [
    "rfc = ensemble.RandomForestClassifier()\n",
    "cross_val_score(rfc, X, y, cv=5)"
   ]
  },
  {
   "cell_type": "code",
   "execution_count": 265,
   "metadata": {},
   "outputs": [
    {
     "data": {
      "text/html": [
       "<div>\n",
       "<style scoped>\n",
       "    .dataframe tbody tr th:only-of-type {\n",
       "        vertical-align: middle;\n",
       "    }\n",
       "\n",
       "    .dataframe tbody tr th {\n",
       "        vertical-align: top;\n",
       "    }\n",
       "\n",
       "    .dataframe thead th {\n",
       "        text-align: right;\n",
       "    }\n",
       "</style>\n",
       "<table border=\"1\" class=\"dataframe\">\n",
       "  <thead>\n",
       "    <tr style=\"text-align: right;\">\n",
       "      <th></th>\n",
       "      <th>permalink</th>\n",
       "      <th>name</th>\n",
       "      <th>homepage_url</th>\n",
       "      <th>category_list</th>\n",
       "      <th>status</th>\n",
       "      <th>country_code</th>\n",
       "      <th>state_code</th>\n",
       "      <th>region</th>\n",
       "      <th>city</th>\n",
       "      <th>founded_at</th>\n",
       "      <th>founded_month</th>\n",
       "      <th>founded_quarter</th>\n",
       "      <th>first_funding_at</th>\n",
       "      <th>last_funding_at</th>\n",
       "      <th>market</th>\n",
       "    </tr>\n",
       "  </thead>\n",
       "  <tbody>\n",
       "    <tr>\n",
       "      <th>0</th>\n",
       "      <td>/organization/waywire</td>\n",
       "      <td>#waywire</td>\n",
       "      <td>http://www.waywire.com</td>\n",
       "      <td>|Entertainment|Politics|Social Media|News|</td>\n",
       "      <td>acquired</td>\n",
       "      <td>USA</td>\n",
       "      <td>NY</td>\n",
       "      <td>New York City</td>\n",
       "      <td>New York</td>\n",
       "      <td>2012-06-01</td>\n",
       "      <td>2012-06-01</td>\n",
       "      <td>2012-04-01</td>\n",
       "      <td>NaT</td>\n",
       "      <td>2012-06-30</td>\n",
       "      <td>News</td>\n",
       "    </tr>\n",
       "    <tr>\n",
       "      <th>1</th>\n",
       "      <td>/organization/tv-communications</td>\n",
       "      <td>&amp;TV Communications</td>\n",
       "      <td>http://enjoyandtv.com</td>\n",
       "      <td>|Games|</td>\n",
       "      <td>operating</td>\n",
       "      <td>USA</td>\n",
       "      <td>CA</td>\n",
       "      <td>Los Angeles</td>\n",
       "      <td>Los Angeles</td>\n",
       "      <td>NaN</td>\n",
       "      <td>NaT</td>\n",
       "      <td>NaT</td>\n",
       "      <td>NaT</td>\n",
       "      <td>2010-09-23</td>\n",
       "      <td>Games</td>\n",
       "    </tr>\n",
       "    <tr>\n",
       "      <th>2</th>\n",
       "      <td>/organization/rock-your-paper</td>\n",
       "      <td>'Rock' Your Paper</td>\n",
       "      <td>http://www.rockyourpaper.org</td>\n",
       "      <td>|Publishing|Education|</td>\n",
       "      <td>operating</td>\n",
       "      <td>EST</td>\n",
       "      <td>NaN</td>\n",
       "      <td>Tallinn</td>\n",
       "      <td>Tallinn</td>\n",
       "      <td>2012-10-26</td>\n",
       "      <td>2012-10-01</td>\n",
       "      <td>2012-10-01</td>\n",
       "      <td>NaT</td>\n",
       "      <td>2012-08-09</td>\n",
       "      <td>Publishing</td>\n",
       "    </tr>\n",
       "    <tr>\n",
       "      <th>3</th>\n",
       "      <td>/organization/in-touch-network</td>\n",
       "      <td>(In)Touch Network</td>\n",
       "      <td>http://www.InTouchNetwork.com</td>\n",
       "      <td>|Electronics|Guides|Coffee|Restaurants|Music|i...</td>\n",
       "      <td>operating</td>\n",
       "      <td>GBR</td>\n",
       "      <td>NaN</td>\n",
       "      <td>London</td>\n",
       "      <td>London</td>\n",
       "      <td>2011-04-01</td>\n",
       "      <td>2011-04-01</td>\n",
       "      <td>2011-04-01</td>\n",
       "      <td>NaT</td>\n",
       "      <td>2011-04-01</td>\n",
       "      <td>Electronics</td>\n",
       "    </tr>\n",
       "    <tr>\n",
       "      <th>4</th>\n",
       "      <td>/organization/r-ranch-and-mine</td>\n",
       "      <td>-R- Ranch and Mine</td>\n",
       "      <td>NaN</td>\n",
       "      <td>|Tourism|Entertainment|Games|</td>\n",
       "      <td>operating</td>\n",
       "      <td>USA</td>\n",
       "      <td>TX</td>\n",
       "      <td>Dallas</td>\n",
       "      <td>Fort Worth</td>\n",
       "      <td>2014-01-01</td>\n",
       "      <td>2014-01-01</td>\n",
       "      <td>2014-01-01</td>\n",
       "      <td>NaT</td>\n",
       "      <td>2014-09-26</td>\n",
       "      <td>Tourism</td>\n",
       "    </tr>\n",
       "  </tbody>\n",
       "</table>\n",
       "</div>"
      ],
      "text/plain": [
       "                         permalink                name  \\\n",
       "0            /organization/waywire            #waywire   \n",
       "1  /organization/tv-communications  &TV Communications   \n",
       "2    /organization/rock-your-paper   'Rock' Your Paper   \n",
       "3   /organization/in-touch-network   (In)Touch Network   \n",
       "4   /organization/r-ranch-and-mine  -R- Ranch and Mine   \n",
       "\n",
       "                    homepage_url  \\\n",
       "0         http://www.waywire.com   \n",
       "1          http://enjoyandtv.com   \n",
       "2   http://www.rockyourpaper.org   \n",
       "3  http://www.InTouchNetwork.com   \n",
       "4                            NaN   \n",
       "\n",
       "                                       category_list     status country_code  \\\n",
       "0         |Entertainment|Politics|Social Media|News|   acquired          USA   \n",
       "1                                            |Games|  operating          USA   \n",
       "2                             |Publishing|Education|  operating          EST   \n",
       "3  |Electronics|Guides|Coffee|Restaurants|Music|i...  operating          GBR   \n",
       "4                      |Tourism|Entertainment|Games|  operating          USA   \n",
       "\n",
       "  state_code         region         city  founded_at founded_month  \\\n",
       "0         NY  New York City     New York  2012-06-01    2012-06-01   \n",
       "1         CA    Los Angeles  Los Angeles         NaN           NaT   \n",
       "2        NaN        Tallinn      Tallinn  2012-10-26    2012-10-01   \n",
       "3        NaN         London       London  2011-04-01    2011-04-01   \n",
       "4         TX         Dallas   Fort Worth  2014-01-01    2014-01-01   \n",
       "\n",
       "  founded_quarter first_funding_at last_funding_at         market  \n",
       "0      2012-04-01              NaT      2012-06-30          News   \n",
       "1             NaT              NaT      2010-09-23         Games   \n",
       "2      2012-10-01              NaT      2012-08-09    Publishing   \n",
       "3      2011-04-01              NaT      2011-04-01   Electronics   \n",
       "4      2014-01-01              NaT      2014-09-26       Tourism   "
      ]
     },
     "execution_count": 265,
     "metadata": {},
     "output_type": "execute_result"
    }
   ],
   "source": [
    "categorical_data.head()"
   ]
  },
  {
   "cell_type": "code",
   "execution_count": 269,
   "metadata": {},
   "outputs": [],
   "source": []
  },
  {
   "cell_type": "code",
   "execution_count": null,
   "metadata": {},
   "outputs": [],
   "source": []
  },
  {
   "cell_type": "code",
   "execution_count": null,
   "metadata": {},
   "outputs": [],
   "source": [
    "investments_df.state_code =  investments_df[investments_df.loc[:, 'country_code']  == 'GBR']['state_code'].replace(np.nan, 'GBR')"
   ]
  },
  {
   "cell_type": "code",
   "execution_count": 267,
   "metadata": {},
   "outputs": [],
   "source": [
    "categorical_data['first_funding_at'] = categorical_data[categorical_data.loc[:, 'first_funding_at'] == '26-11-14'].replace('26-11-14', '2014-11-26')"
   ]
  },
  {
   "cell_type": "code",
   "execution_count": 268,
   "metadata": {},
   "outputs": [],
   "source": [
    "categorical_data['last_funding_at'] = categorical_data[categorical_data.loc[:, 'last_funding_at'] == '26-11-14'].replace('26-11-14', '2014-11-26')"
   ]
  },
  {
   "cell_type": "code",
   "execution_count": null,
   "metadata": {},
   "outputs": [],
   "source": [
    "categorical_data['founded_month'] = pd.to_datetime(categorical_data['founded_month'])\n",
    "categorical_data['founded_quarter'] = pd.to_datetime(categorical_data['founded_quarter'])\n",
    "categorical_data['first_funding_at'] = pd.to_datetime(categorical_data['first_funding_at'])\n",
    "categorical_data['last_funding_at'] = pd.to_datetime(categorical_data['last_funding_at'])\n",
    "\n"
   ]
  },
  {
   "cell_type": "code",
   "execution_count": 272,
   "metadata": {},
   "outputs": [],
   "source": [
    "categorical_data['first_funding_at'] = investments_df['first_funding_at']\n",
    "categorical_data['last_funding_at'] = investments_df1['last_funding_at']"
   ]
  },
  {
   "cell_type": "code",
   "execution_count": 273,
   "metadata": {},
   "outputs": [
    {
     "name": "stdout",
     "output_type": "stream",
     "text": [
      "<class 'pandas.core.frame.DataFrame'>\n",
      "Int64Index: 49438 entries, 0 to 49437\n",
      "Data columns (total 15 columns):\n",
      "permalink           49438 non-null object\n",
      "name                49437 non-null object\n",
      "homepage_url        45989 non-null object\n",
      "category_list       45477 non-null object\n",
      "status              48124 non-null object\n",
      "country_code        44165 non-null object\n",
      "state_code          30161 non-null object\n",
      "region              44165 non-null object\n",
      "city                43322 non-null object\n",
      "founded_at          38554 non-null object\n",
      "founded_month       38482 non-null datetime64[ns]\n",
      "founded_quarter     38482 non-null datetime64[ns]\n",
      "first_funding_at    48124 non-null object\n",
      "last_funding_at     49438 non-null object\n",
      "market              45470 non-null object\n",
      "dtypes: datetime64[ns](2), object(13)\n",
      "memory usage: 7.3+ MB\n"
     ]
    }
   ],
   "source": [
    "categorical_data.info()"
   ]
  },
  {
   "cell_type": "code",
   "execution_count": 278,
   "metadata": {},
   "outputs": [],
   "source": [
    "categorical_data['first_funding_at'] = pd.to_datetime(categorical_data['first_funding_at'], errors = 'coerce')\n",
    "categorical_data['last_funding_at'] = pd.to_datetime(categorical_data['last_funding_at'], errors = 'coerce')"
   ]
  },
  {
   "cell_type": "code",
   "execution_count": 282,
   "metadata": {},
   "outputs": [],
   "source": [
    "categorical_data['founded_at'] = pd.to_datetime(categorical_data['founded_at'], errors = 'coerce')"
   ]
  },
  {
   "cell_type": "code",
   "execution_count": 283,
   "metadata": {},
   "outputs": [
    {
     "name": "stdout",
     "output_type": "stream",
     "text": [
      "<class 'pandas.core.frame.DataFrame'>\n",
      "Int64Index: 49438 entries, 0 to 49437\n",
      "Data columns (total 15 columns):\n",
      "permalink           49438 non-null object\n",
      "name                49437 non-null object\n",
      "homepage_url        45989 non-null object\n",
      "category_list       45477 non-null object\n",
      "status              48124 non-null object\n",
      "country_code        44165 non-null object\n",
      "state_code          30161 non-null object\n",
      "region              44165 non-null object\n",
      "city                43322 non-null object\n",
      "founded_at          38553 non-null datetime64[ns]\n",
      "founded_month       38482 non-null datetime64[ns]\n",
      "founded_quarter     38482 non-null datetime64[ns]\n",
      "first_funding_at    48114 non-null datetime64[ns]\n",
      "last_funding_at     49432 non-null datetime64[ns]\n",
      "market              45470 non-null object\n",
      "dtypes: datetime64[ns](5), object(10)\n",
      "memory usage: 7.3+ MB\n"
     ]
    }
   ],
   "source": [
    "categorical_data.info()"
   ]
  },
  {
   "cell_type": "code",
   "execution_count": 286,
   "metadata": {},
   "outputs": [],
   "source": [
    "duration = categorical_data['founded_at'] - categorical_data['first_funding_at']"
   ]
  },
  {
   "cell_type": "code",
   "execution_count": 290,
   "metadata": {},
   "outputs": [],
   "source": [
    "numeric_data['duration'] = duration"
   ]
  },
  {
   "cell_type": "code",
   "execution_count": 300,
   "metadata": {},
   "outputs": [],
   "source": [
    "numeric_data['duration'] = duration"
   ]
  },
  {
   "cell_type": "code",
   "execution_count": 301,
   "metadata": {},
   "outputs": [],
   "source": [
    "numeric_data['duration'] = numeric_data['duration'].fillna(0)"
   ]
  },
  {
   "cell_type": "code",
   "execution_count": 308,
   "metadata": {},
   "outputs": [
    {
     "data": {
      "text/plain": [
       "3968"
      ]
     },
     "execution_count": 308,
     "metadata": {},
     "output_type": "execute_result"
    }
   ],
   "source": [
    "categorical_data['market'].isnull().sum()"
   ]
  },
  {
   "cell_type": "code",
   "execution_count": 322,
   "metadata": {},
   "outputs": [
    {
     "data": {
      "text/plain": [
       "array(['|Entertainment|Politics|Social Media|News|', '|Games|',\n",
       "       '|Publishing|Education|', ...,\n",
       "       '|Technology|Facebook Applications|Networking|Games|',\n",
       "       '|Analytics|Gamification|Developer APIs|iOS|Android|Education|',\n",
       "       '|Web Development|Advertising|Wireless|Mobile|'], dtype=object)"
      ]
     },
     "execution_count": 322,
     "metadata": {},
     "output_type": "execute_result"
    }
   ],
   "source": [
    "categorical_data['category_list'].unique()"
   ]
  },
  {
   "cell_type": "code",
   "execution_count": 323,
   "metadata": {},
   "outputs": [],
   "source": [
    "categorical_data['market'] = categorical_data['market'].fillna('missing')"
   ]
  },
  {
   "cell_type": "code",
   "execution_count": 360,
   "metadata": {},
   "outputs": [
    {
     "data": {
      "text/plain": [
       "0          -29 days +00:00:00\n",
       "1                           0\n",
       "2            78 days 00:00:00\n",
       "3             0 days 00:00:00\n",
       "4         -228 days +00:00:00\n",
       "                 ...         \n",
       "49433     -420 days +00:00:00\n",
       "49434                       0\n",
       "49435       194 days 00:00:00\n",
       "49436                       0\n",
       "49437    -3439 days +00:00:00\n",
       "Name: duration, Length: 48124, dtype: object"
      ]
     },
     "execution_count": 360,
     "metadata": {},
     "output_type": "execute_result"
    }
   ],
   "source": [
    "numeric_data['duration']"
   ]
  },
  {
   "cell_type": "code",
   "execution_count": 385,
   "metadata": {},
   "outputs": [
    {
     "data": {
      "text/plain": [
       "0          0 days\n",
       "1        111 days\n",
       "2          0 days\n",
       "3          0 days\n",
       "4         40 days\n",
       "           ...   \n",
       "49433      0 days\n",
       "49434      0 days\n",
       "49435   1044 days\n",
       "49436      0 days\n",
       "49437   1768 days\n",
       "Length: 49438, dtype: timedelta64[ns]"
      ]
     },
     "execution_count": 385,
     "metadata": {},
     "output_type": "execute_result"
    }
   ],
   "source": [
    "duration1 = categorical_data['last_funding_at'] - categorical_data['first_funding_at']\n",
    "duration1.replace('days', '')"
   ]
  },
  {
   "cell_type": "code",
   "execution_count": 404,
   "metadata": {},
   "outputs": [
    {
     "data": {
      "text/plain": [
       "0          0 days\n",
       "1        111 days\n",
       "2          0 days\n",
       "3          0 days\n",
       "4         40 days\n",
       "           ...   \n",
       "49433      0 days\n",
       "49434      0 days\n",
       "49435   1044 days\n",
       "49436      0 days\n",
       "49437   1768 days\n",
       "Length: 49438, dtype: timedelta64[ns]"
      ]
     },
     "execution_count": 404,
     "metadata": {},
     "output_type": "execute_result"
    }
   ],
   "source": [
    "duration1"
   ]
  },
  {
   "cell_type": "code",
   "execution_count": null,
   "metadata": {},
   "outputs": [],
   "source": []
  }
 ],
 "metadata": {
  "kernelspec": {
   "display_name": "Python 3",
   "language": "python",
   "name": "python3"
  },
  "language_info": {
   "codemirror_mode": {
    "name": "ipython",
    "version": 3
   },
   "file_extension": ".py",
   "mimetype": "text/x-python",
   "name": "python",
   "nbconvert_exporter": "python",
   "pygments_lexer": "ipython3",
   "version": "3.7.3"
  }
 },
 "nbformat": 4,
 "nbformat_minor": 4
}
