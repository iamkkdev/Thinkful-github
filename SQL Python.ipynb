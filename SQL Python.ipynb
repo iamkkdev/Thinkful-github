{
 "cells": [
  {
   "cell_type": "code",
   "execution_count": 14,
   "metadata": {},
   "outputs": [
    {
     "name": "stdout",
     "output_type": "stream",
     "text": [
      "Requirement already satisfied: sqlalchemy in /Users/krishnadevabhaktuni/anaconda3/lib/python3.7/site-packages (1.3.10)\n",
      "Requirement already satisfied: psycopg2 in /Users/krishnadevabhaktuni/anaconda3/lib/python3.7/site-packages (2.8.3)\n",
      "Requirement already satisfied: psycopg2-binary in /Users/krishnadevabhaktuni/anaconda3/lib/python3.7/site-packages (2.8.4)\n"
     ]
    }
   ],
   "source": [
    "!pip install sqlalchemy\n",
    "!pip install psycopg2\n",
    "!pip install psycopg2-binary"
   ]
  },
  {
   "cell_type": "code",
   "execution_count": 16,
   "metadata": {},
   "outputs": [],
   "source": [
    "from sqlalchemy import create_engine"
   ]
  },
  {
   "cell_type": "code",
   "execution_count": 17,
   "metadata": {},
   "outputs": [],
   "source": [
    "# Database credentials\n",
    "postgres_user = 'dsbc_student'\n",
    "postgres_pw = '7*.8G9QH21'\n",
    "postgres_host = '142.93.121.174'\n",
    "postgres_port = '5432'\n",
    "postgres_db = 'dvdrentals'\n",
    "\n",
    "# use the credentials to start a connection\n",
    "engine = create_engine(\"postgresql://{}:{}@{}:{}/{}\".format(postgres_user, postgres_pw, postgres_host, postgres_port, postgres_db))"
   ]
  },
  {
   "cell_type": "code",
   "execution_count": 44,
   "metadata": {},
   "outputs": [
    {
     "name": "stdout",
     "output_type": "stream",
     "text": [
      "[('R', 195), ('NC-17', 210), ('PG', 194), ('PG-13', 223), ('G', 178)]\n"
     ]
    }
   ],
   "source": [
    "##How many movies are released for each rating?\n",
    "sql = '''\n",
    "  SELECT rating, COUNT(*)\n",
    "  FROM film f \n",
    "  GROUP BY rating;\n",
    "  \n",
    "'''\n",
    "\n",
    "results = engine.execute(sql)\n",
    "engine.dispose()\n",
    "films_per_rating  = results.fetchall()\n",
    "print(films_per_rating)"
   ]
  },
  {
   "cell_type": "code",
   "execution_count": 60,
   "metadata": {},
   "outputs": [
    {
     "data": {
      "text/plain": [
       "[('R', Decimal('4.77')),\n",
       " ('NC-17', Decimal('5.14')),\n",
       " ('PG', Decimal('5.08')),\n",
       " ('PG-13', Decimal('5.05')),\n",
       " ('G', Decimal('4.84'))]"
      ]
     },
     "execution_count": 60,
     "metadata": {},
     "output_type": "execute_result"
    }
   ],
   "source": [
    "##What is the average rental duration for each rating? \n",
    "sql = '''\n",
    "    SELECT rating, ROUND(AVG(rental_duration),2) AS avg_rental_duration\n",
    "    FROM film\n",
    "    GROUP BY rating;\n",
    "'''\n",
    "results1 = engine.execute(sql)\n",
    "engine.dispose()\n",
    "avg_rental = results1.fetchall()\n",
    "avg_rental\n"
   ]
  },
  {
   "cell_type": "code",
   "execution_count": 62,
   "metadata": {},
   "outputs": [
    {
     "name": "stdout",
     "output_type": "stream",
     "text": [
      "The mean of length is 115.272\n"
     ]
    }
   ],
   "source": [
    "##What is the mean movie length? Calculate this by defining a function.\n",
    "sql = '''\n",
    "    SELECT length\n",
    "    FROM film;\n",
    "'''\n",
    "length = engine.execute(sql)\n",
    "engine.dispose()\n",
    "rows = length.fetchall()\n",
    "length = [x['length'] for x in rows]\n",
    "\n",
    "def mean(length):\n",
    "    total_sum = 0 # initializing total_sum to zero\n",
    "    for n in length:\n",
    "        total_sum += n \n",
    "        count = len(length)\n",
    "        avg = total_sum/count\n",
    "    return avg\n",
    "print('The mean of length is {}'.format(mean(length)))\n",
    "        "
   ]
  },
  {
   "cell_type": "code",
   "execution_count": 66,
   "metadata": {},
   "outputs": [
    {
     "name": "stdout",
     "output_type": "stream",
     "text": [
      "The median of variable length is 171.0\n"
     ]
    }
   ],
   "source": [
    "#What is the median movie length? Calculate this by defining a function.\n",
    "import math\n",
    "sql = '''\n",
    "SELECT length\n",
    "FROM film;\n",
    "'''\n",
    "length = engine.execute(sql)\n",
    "engine.dispose()\n",
    "rows = length.fetchall()\n",
    "length = [x['length'] for x in rows]\n",
    "\n",
    "def median(length):\n",
    "    length.sort()\n",
    "    count = len(length)\n",
    "    iseven = count%2 == 0\n",
    "    if (iseven):\n",
    "        mid = math.floor(count/2)\n",
    "        a = length[mid-1]\n",
    "        b = length[mid]\n",
    "        ans = a+b/2\n",
    "    else:\n",
    "        ans = length[math.floor(count/2)]\n",
    "    return ans\n",
    "print('The median of variable length is {}'.format(median(length)))"
   ]
  },
  {
   "cell_type": "code",
   "execution_count": 70,
   "metadata": {},
   "outputs": [
    {
     "name": "stdout",
     "output_type": "stream",
     "text": [
      "The standard deviation of variable length is 1631.6540160000027\n"
     ]
    }
   ],
   "source": [
    "#Calculate the standard deviation of the movie lengths. Calculate this by defining a function.\n",
    "#𝑋- Each individual value\n",
    "#𝑋¯- The mean of all values\n",
    "#∑- The sum of whatever comes next\n",
    "#𝑁- The total number of values\n",
    "def standard_deviation(length):\n",
    "    N = len(length)\n",
    "    X_bar = mean(length)\n",
    "    total_sum = 0\n",
    "    for X in length:\n",
    "        diff = X- X_bar\n",
    "        squared = math.pow(diff, 2)\n",
    "        total_sum += squared\n",
    "        sigma = total_sum/N-1\n",
    "    return sigma\n",
    "print('The standard deviation of variable length is {}'.format(standard_deviation(length),2))\n",
    "        \n",
    "    "
   ]
  },
  {
   "cell_type": "code",
   "execution_count": null,
   "metadata": {},
   "outputs": [],
   "source": []
  }
 ],
 "metadata": {
  "kernelspec": {
   "display_name": "Python 3",
   "language": "python",
   "name": "python3"
  },
  "language_info": {
   "codemirror_mode": {
    "name": "ipython",
    "version": 3
   },
   "file_extension": ".py",
   "mimetype": "text/x-python",
   "name": "python",
   "nbconvert_exporter": "python",
   "pygments_lexer": "ipython3",
   "version": "3.7.3"
  }
 },
 "nbformat": 4,
 "nbformat_minor": 2
}
