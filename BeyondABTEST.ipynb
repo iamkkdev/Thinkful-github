{
 "cells": [
  {
   "cell_type": "code",
   "execution_count": 1,
   "metadata": {},
   "outputs": [],
   "source": [
    "%matplotlib inline\n",
    "import pandas as pd\n",
    "import numpy as np\n",
    "from scipy import stats\n",
    "from matplotlib import pyplot as plt\n",
    "import seaborn as sns"
   ]
  },
  {
   "cell_type": "code",
   "execution_count": 2,
   "metadata": {},
   "outputs": [],
   "source": [
    "ess = pd.read_csv(\"ess_combined_2012_2014.csv\")"
   ]
  },
  {
   "cell_type": "code",
   "execution_count": 3,
   "metadata": {},
   "outputs": [
    {
     "name": "stdout",
     "output_type": "stream",
     "text": [
      "  cntry  idno  year  tvtot  ppltrst  pplfair  pplhlp  happy  sclmeet  sclact  \\\n",
      "0    CH     5     6      3        3       10       5      8        5       4   \n",
      "1    CH    25     6      6        5        7       5      9        3       2   \n",
      "2    CH    26     6      1        8        8       8      7        6       3   \n",
      "3    CH    28     6      4        6        6       7     10        6       2   \n",
      "4    CH    29     6      5        6        7       5      8        7       2   \n",
      "5    CH    40     6      3        0        5       2      0        2       2   \n",
      "6    CH    41     6      2        4        5       3     10        5       2   \n",
      "7    CH    51     6      2        8        8       8      9        6       4   \n",
      "8    CH    53     6      4        4        4       8      7        4       2   \n",
      "9    CH    55     6      1        6        7       7      9        5       2   \n",
      "\n",
      "   gndr  agea  partner  \n",
      "0     2    60        1  \n",
      "1     2    59        1  \n",
      "2     1    24        2  \n",
      "3     2    64        1  \n",
      "4     2    55        1  \n",
      "5     1    76        1  \n",
      "6     2    30        1  \n",
      "7     2    84        2  \n",
      "8     2    62        1  \n",
      "9     2    33        1  \n",
      "<class 'pandas.core.frame.DataFrame'>\n",
      "RangeIndex: 8147 entries, 0 to 8146\n",
      "Data columns (total 13 columns):\n",
      "cntry      8147 non-null object\n",
      "idno       8147 non-null int64\n",
      "year       8147 non-null int64\n",
      "tvtot      8147 non-null int64\n",
      "ppltrst    8147 non-null int64\n",
      "pplfair    8147 non-null int64\n",
      "pplhlp     8147 non-null int64\n",
      "happy      8147 non-null int64\n",
      "sclmeet    8147 non-null int64\n",
      "sclact     8147 non-null int64\n",
      "gndr       8147 non-null int64\n",
      "agea       8147 non-null int64\n",
      "partner    8147 non-null int64\n",
      "dtypes: int64(12), object(1)\n",
      "memory usage: 827.6+ KB\n",
      "None\n"
     ]
    }
   ],
   "source": [
    "#Getting to know the data\n",
    "print(ess.head(10))\n",
    "print(ess.info())"
   ]
  },
  {
   "cell_type": "code",
   "execution_count": 4,
   "metadata": {},
   "outputs": [
    {
     "data": {
      "text/plain": [
       "cntry      0\n",
       "idno       0\n",
       "year       0\n",
       "tvtot      0\n",
       "ppltrst    0\n",
       "pplfair    0\n",
       "pplhlp     0\n",
       "happy      0\n",
       "sclmeet    0\n",
       "sclact     0\n",
       "gndr       0\n",
       "agea       0\n",
       "partner    0\n",
       "dtype: int64"
      ]
     },
     "execution_count": 4,
     "metadata": {},
     "output_type": "execute_result"
    }
   ],
   "source": [
    "#Loooking for missing values\n",
    "ess.isnull().sum()"
   ]
  },
  {
   "cell_type": "code",
   "execution_count": 5,
   "metadata": {},
   "outputs": [
    {
     "data": {
      "text/html": [
       "<div>\n",
       "<style scoped>\n",
       "    .dataframe tbody tr th:only-of-type {\n",
       "        vertical-align: middle;\n",
       "    }\n",
       "\n",
       "    .dataframe tbody tr th {\n",
       "        vertical-align: top;\n",
       "    }\n",
       "\n",
       "    .dataframe thead tr th {\n",
       "        text-align: left;\n",
       "    }\n",
       "\n",
       "    .dataframe thead tr:last-of-type th {\n",
       "        text-align: right;\n",
       "    }\n",
       "</style>\n",
       "<table border=\"1\" class=\"dataframe\">\n",
       "  <thead>\n",
       "    <tr>\n",
       "      <th></th>\n",
       "      <th>cntry</th>\n",
       "      <th>idno</th>\n",
       "      <th>tvtot</th>\n",
       "      <th>ppltrst</th>\n",
       "      <th>pplfair</th>\n",
       "      <th>pplhlp</th>\n",
       "      <th>happy</th>\n",
       "      <th>sclmeet</th>\n",
       "      <th>sclact</th>\n",
       "      <th>gndr</th>\n",
       "      <th>agea</th>\n",
       "      <th>partner</th>\n",
       "    </tr>\n",
       "    <tr>\n",
       "      <th></th>\n",
       "      <th>count</th>\n",
       "      <th>count</th>\n",
       "      <th>count</th>\n",
       "      <th>count</th>\n",
       "      <th>count</th>\n",
       "      <th>count</th>\n",
       "      <th>count</th>\n",
       "      <th>count</th>\n",
       "      <th>count</th>\n",
       "      <th>count</th>\n",
       "      <th>count</th>\n",
       "      <th>count</th>\n",
       "    </tr>\n",
       "    <tr>\n",
       "      <th>year</th>\n",
       "      <th></th>\n",
       "      <th></th>\n",
       "      <th></th>\n",
       "      <th></th>\n",
       "      <th></th>\n",
       "      <th></th>\n",
       "      <th></th>\n",
       "      <th></th>\n",
       "      <th></th>\n",
       "      <th></th>\n",
       "      <th></th>\n",
       "      <th></th>\n",
       "    </tr>\n",
       "  </thead>\n",
       "  <tbody>\n",
       "    <tr>\n",
       "      <th>6</th>\n",
       "      <td>4071</td>\n",
       "      <td>4071</td>\n",
       "      <td>4071</td>\n",
       "      <td>4071</td>\n",
       "      <td>4071</td>\n",
       "      <td>4071</td>\n",
       "      <td>4071</td>\n",
       "      <td>4071</td>\n",
       "      <td>4071</td>\n",
       "      <td>4071</td>\n",
       "      <td>4071</td>\n",
       "      <td>4071</td>\n",
       "    </tr>\n",
       "    <tr>\n",
       "      <th>7</th>\n",
       "      <td>4076</td>\n",
       "      <td>4076</td>\n",
       "      <td>4076</td>\n",
       "      <td>4076</td>\n",
       "      <td>4076</td>\n",
       "      <td>4076</td>\n",
       "      <td>4076</td>\n",
       "      <td>4076</td>\n",
       "      <td>4076</td>\n",
       "      <td>4076</td>\n",
       "      <td>4076</td>\n",
       "      <td>4076</td>\n",
       "    </tr>\n",
       "  </tbody>\n",
       "</table>\n",
       "</div>"
      ],
      "text/plain": [
       "     cntry  idno tvtot ppltrst pplfair pplhlp happy sclmeet sclact  gndr  \\\n",
       "     count count count   count   count  count count   count  count count   \n",
       "year                                                                       \n",
       "6     4071  4071  4071    4071    4071   4071  4071    4071   4071  4071   \n",
       "7     4076  4076  4076    4076    4076   4076  4076    4076   4076  4076   \n",
       "\n",
       "      agea partner  \n",
       "     count   count  \n",
       "year                \n",
       "6     4071    4071  \n",
       "7     4076    4076  "
      ]
     },
     "execution_count": 5,
     "metadata": {},
     "output_type": "execute_result"
    }
   ],
   "source": [
    "ess.groupby(['year']).agg(['count'])"
   ]
  },
  {
   "cell_type": "code",
   "execution_count": 6,
   "metadata": {},
   "outputs": [
    {
     "data": {
      "text/plain": [
       "0       3\n",
       "1       5\n",
       "2       8\n",
       "3       6\n",
       "4       6\n",
       "       ..\n",
       "8142    4\n",
       "8143    6\n",
       "8144    5\n",
       "8145    8\n",
       "8146    6\n",
       "Name: ppltrst, Length: 8147, dtype: int64"
      ]
     },
     "execution_count": 6,
     "metadata": {},
     "output_type": "execute_result"
    }
   ],
   "source": [
    "#Did people become less trusting from 2012 to 2014?\n",
    "ess.ppltrst"
   ]
  },
  {
   "cell_type": "code",
   "execution_count": 7,
   "metadata": {},
   "outputs": [],
   "source": [
    "#splitting the data according to year\n",
    "ess_2012 = ess[ess.year == 6]\n",
    "ess_2014 = ess[ess.year == 7]"
   ]
  },
  {
   "cell_type": "code",
   "execution_count": 8,
   "metadata": {},
   "outputs": [
    {
     "name": "stdout",
     "output_type": "stream",
     "text": [
      "4071\n",
      "4076\n"
     ]
    }
   ],
   "source": [
    "print(len(ess_2012))\n",
    "print(len(ess_2014))"
   ]
  },
  {
   "cell_type": "code",
   "execution_count": 10,
   "metadata": {},
   "outputs": [
    {
     "name": "stdout",
     "output_type": "stream",
     "text": [
      "DescribeResult(nobs=4071, minmax=(0, 10), mean=5.578481945467944, variance=4.893040545067073, skewness=-0.5431086926347095, kurtosis=-0.1210956960964813)\n",
      "DescribeResult(nobs=4076, minmax=(0, 10), mean=5.5713935230618254, variance=4.927171652708959, skewness=-0.4601859476512641, kurtosis=-0.25006786100787215)\n"
     ]
    }
   ],
   "source": [
    "print(stats.describe(ess_2012['ppltrst']))\n",
    "print(stats.describe(ess_2014['ppltrst']))"
   ]
  },
  {
   "cell_type": "code",
   "execution_count": 9,
   "metadata": {},
   "outputs": [
    {
     "data": {
      "text/plain": [
       "array([<matplotlib.axes._subplots.AxesSubplot object at 0x1076708d0>,\n",
       "       <matplotlib.axes._subplots.AxesSubplot object at 0x1a1a03ff98>],\n",
       "      dtype=object)"
      ]
     },
     "execution_count": 9,
     "metadata": {},
     "output_type": "execute_result"
    },
    {
     "data": {
      "image/png": "[encoded data removed]",
      "text/plain": [
       "<Figure size 432x288 with 2 Axes>"
      ]
     },
     "metadata": {
      "needs_background": "light"
     },
     "output_type": "display_data"
    }
   ],
   "source": [
    "ess['ppltrst'].hist(by = ess['year'])"
   ]
  },
  {
   "cell_type": "code",
   "execution_count": 11,
   "metadata": {},
   "outputs": [],
   "source": [
    "#LOOKING AT THE ABOVE PLOTS, SKEWNESS AND KURTOSIS, IT APPEARS THAT THE DATA FOLLOWS \n",
    "#APPROXIMATELY NORMAL DISTRIUTION"
   ]
  },
  {
   "cell_type": "code",
   "execution_count": 12,
   "metadata": {},
   "outputs": [
    {
     "data": {
      "text/plain": [
       "Ttest_indResult(statistic=0.1443685081969842, pvalue=0.8852130548889106)"
      ]
     },
     "execution_count": 12,
     "metadata": {},
     "output_type": "execute_result"
    }
   ],
   "source": [
    "stats.ttest_ind(ess_2012['ppltrst'], ess_2014['ppltrst'])"
   ]
  },
  {
   "cell_type": "code",
   "execution_count": 13,
   "metadata": {},
   "outputs": [],
   "source": [
    "# we fail to reject Null Hypothesis and it appears the ppltrust does not have significant difference between\n",
    "#year 2012 and year #2014"
   ]
  },
  {
   "cell_type": "code",
   "execution_count": 15,
   "metadata": {},
   "outputs": [
    {
     "data": {
      "text/plain": [
       "array([<matplotlib.axes._subplots.AxesSubplot object at 0x1a19ee24e0>,\n",
       "       <matplotlib.axes._subplots.AxesSubplot object at 0x1a1c5e0128>],\n",
       "      dtype=object)"
      ]
     },
     "execution_count": 15,
     "metadata": {},
     "output_type": "execute_result"
    },
    {
     "data": {
      "image/png": "[encoded data removed]",
      "text/plain": [
       "<Figure size 432x288 with 2 Axes>"
      ]
     },
     "metadata": {
      "needs_background": "light"
     },
     "output_type": "display_data"
    }
   ],
   "source": [
    "#Did people become happier from 2012 to 2014? \n",
    "ess['happy'].hist(by = ess['year'])"
   ]
  },
  {
   "cell_type": "code",
   "execution_count": 18,
   "metadata": {},
   "outputs": [
    {
     "name": "stdout",
     "output_type": "stream",
     "text": [
      "DescribeResult(nobs=4071, minmax=(0, 10), mean=7.731515598133137, variance=3.0819524689826823, skewness=-1.1505518232802756, kurtosis=1.9055890346061979)\n",
      "DescribeResult(nobs=4076, minmax=(0, 10), mean=7.6854759568204125, variance=2.840436853164115, skewness=-1.0296465664009635, kurtosis=1.5218046596567287)\n"
     ]
    }
   ],
   "source": [
    "print(stats.describe(ess_2012['happy']))\n",
    "print(stats.describe(ess_2014['happy']))"
   ]
  },
  {
   "cell_type": "code",
   "execution_count": 19,
   "metadata": {},
   "outputs": [
    {
     "data": {
      "text/plain": [
       "KruskalResult(statistic=3.725441202182227, pvalue=0.05358946830655459)"
      ]
     },
     "execution_count": 19,
     "metadata": {},
     "output_type": "execute_result"
    }
   ],
   "source": [
    "stats.kruskal(ess_2012['happy'], ess_2014['happy'])"
   ]
  },
  {
   "cell_type": "code",
   "execution_count": 20,
   "metadata": {},
   "outputs": [],
   "source": [
    "#based on kruska we fail to reject Null hyppothesis that both groups have same distribution"
   ]
  },
  {
   "cell_type": "code",
   "execution_count": 21,
   "metadata": {},
   "outputs": [],
   "source": [
    "#Pick three or four of the countries in the sample and compare how often people met socially in \n",
    "#2014. Are there differences, and if so, which countries stand out?"
   ]
  },
  {
   "cell_type": "code",
   "execution_count": 22,
   "metadata": {},
   "outputs": [
    {
     "data": {
      "text/plain": [
       "array(['CH', 'CZ', 'DE', 'ES', 'NO', 'SE'], dtype=object)"
      ]
     },
     "execution_count": 22,
     "metadata": {},
     "output_type": "execute_result"
    }
   ],
   "source": [
    "ess_2014.cntry.unique()"
   ]
  },
  {
   "cell_type": "code",
   "execution_count": 27,
   "metadata": {},
   "outputs": [],
   "source": [
    "four_countries = ['CH', 'CZ', 'DE', 'ES']"
   ]
  },
  {
   "cell_type": "code",
   "execution_count": 30,
   "metadata": {},
   "outputs": [],
   "source": [
    "ess_2014_4 = ess_2014[ess_2014['cntry'].isin(four_countries)]"
   ]
  },
  {
   "cell_type": "code",
   "execution_count": 34,
   "metadata": {},
   "outputs": [
    {
     "name": "stdout",
     "output_type": "stream",
     "text": [
      "<class 'pandas.core.frame.DataFrame'>\n",
      "Int64Index: 2497 entries, 732 to 5000\n",
      "Data columns (total 13 columns):\n",
      "cntry      2497 non-null object\n",
      "idno       2497 non-null int64\n",
      "year       2497 non-null int64\n",
      "tvtot      2497 non-null int64\n",
      "ppltrst    2497 non-null int64\n",
      "pplfair    2497 non-null int64\n",
      "pplhlp     2497 non-null int64\n",
      "happy      2497 non-null int64\n",
      "sclmeet    2497 non-null int64\n",
      "sclact     2497 non-null int64\n",
      "gndr       2497 non-null int64\n",
      "agea       2497 non-null int64\n",
      "partner    2497 non-null int64\n",
      "dtypes: int64(12), object(1)\n",
      "memory usage: 273.1+ KB\n"
     ]
    }
   ],
   "source": [
    "ess_2014_4.info()"
   ]
  },
  {
   "cell_type": "code",
   "execution_count": 35,
   "metadata": {},
   "outputs": [
    {
     "data": {
      "text/plain": [
       "array([[<matplotlib.axes._subplots.AxesSubplot object at 0x1a1ccd9b38>,\n",
       "        <matplotlib.axes._subplots.AxesSubplot object at 0x1a20f87978>],\n",
       "       [<matplotlib.axes._subplots.AxesSubplot object at 0x1a20fe9390>,\n",
       "        <matplotlib.axes._subplots.AxesSubplot object at 0x1a2100c940>]],\n",
       "      dtype=object)"
      ]
     },
     "execution_count": 35,
     "metadata": {},
     "output_type": "execute_result"
    },
    {
     "data": {
      "image/png": "[encoded data removed]",
      "text/plain": [
       "<Figure size 432x288 with 4 Axes>"
      ]
     },
     "metadata": {
      "needs_background": "light"
     },
     "output_type": "display_data"
    }
   ],
   "source": [
    "ess_2014_4['sclmeet'].hist(by = ess_2014_4['cntry'])"
   ]
  },
  {
   "cell_type": "code",
   "execution_count": 38,
   "metadata": {},
   "outputs": [],
   "source": [
    "ch = ess_2014_4[ess_2014_4['cntry'] == 'CH']\n",
    "cz = ess_2014_4[ess_2014_4['cntry'] == 'CZ']\n",
    "de = ess_2014_4[ess_2014_4['cntry'] == 'DE']\n",
    "es = ess_2014_4[ess_2014_4['cntry'] == 'ES']"
   ]
  },
  {
   "cell_type": "code",
   "execution_count": 39,
   "metadata": {},
   "outputs": [
    {
     "name": "stdout",
     "output_type": "stream",
     "text": [
      "DescribeResult(nobs=743, minmax=(1, 7), mean=5.174966352624495, variance=1.6944129031789972, skewness=-0.6382977240097087, kurtosis=-0.24036067403841654)\n",
      "DescribeResult(nobs=606, minmax=(1, 7), mean=4.4950495049504955, variance=2.164438262008019, skewness=-0.22873689943815514, kurtosis=-0.49084441486724817)\n",
      "DescribeResult(nobs=14, minmax=(3, 6), mean=4.428571428571429, variance=0.5714285714285714, skewness=0.24891663306000175, kurtosis=-0.20118343195266197)\n",
      "DescribeResult(nobs=1134, minmax=(1, 7), mean=5.263668430335097, variance=2.067222541332574, skewness=-0.8331602682762435, kurtosis=0.2132945592754396)\n"
     ]
    }
   ],
   "source": [
    "print(stats.describe(ch['sclmeet']))\n",
    "print(stats.describe(cz['sclmeet']))\n",
    "print(stats.describe(de['sclmeet']))\n",
    "print(stats.describe(es['sclmeet']))"
   ]
  },
  {
   "cell_type": "code",
   "execution_count": 40,
   "metadata": {},
   "outputs": [
    {
     "data": {
      "text/plain": [
       "KruskalResult(statistic=131.71067637166595, pvalue=2.314201415479699e-28)"
      ]
     },
     "execution_count": 40,
     "metadata": {},
     "output_type": "execute_result"
    }
   ],
   "source": [
    "stats.kruskal(ch['sclmeet'], cz['sclmeet'], de['sclmeet'], es['sclmeet'])"
   ]
  },
  {
   "cell_type": "markdown",
   "metadata": {},
   "source": [
    "based on kruska we can reject Null hyppothesis that all groups have same distribution, from the box plot below \n",
    "it appears that DE is the odd one out"
   ]
  },
  {
   "cell_type": "code",
   "execution_count": 43,
   "metadata": {},
   "outputs": [
    {
     "data": {
      "text/plain": [
       "<matplotlib.axes._subplots.AxesSubplot at 0x1a22d928d0>"
      ]
     },
     "execution_count": 43,
     "metadata": {},
     "output_type": "execute_result"
    },
    {
     "data": {
      "image/png": "[encoded data removed]",
      "text/plain": [
       "<Figure size 720x432 with 1 Axes>"
      ]
     },
     "metadata": {
      "needs_background": "light"
     },
     "output_type": "display_data"
    }
   ],
   "source": [
    "ess_2014_4.boxplot('sclmeet', by = 'cntry', figsize = (10,6))"
   ]
  },
  {
   "cell_type": "markdown",
   "metadata": {},
   "source": [
    "Pick three or four of the countries in the sample and compare how often people took part in social activities, relative to others their age, in 2014. Are there differences, and if so, which countries stand out?"
   ]
  },
  {
   "cell_type": "code",
   "execution_count": 45,
   "metadata": {},
   "outputs": [
    {
     "data": {
      "text/plain": [
       "array([[<matplotlib.axes._subplots.AxesSubplot object at 0x1a22d9e2e8>,\n",
       "        <matplotlib.axes._subplots.AxesSubplot object at 0x1a22bf6828>],\n",
       "       [<matplotlib.axes._subplots.AxesSubplot object at 0x1a22de5eb8>,\n",
       "        <matplotlib.axes._subplots.AxesSubplot object at 0x1a22adf4a8>]],\n",
       "      dtype=object)"
      ]
     },
     "execution_count": 45,
     "metadata": {},
     "output_type": "execute_result"
    },
    {
     "data": {
      "image/png": "[encoded data removed]",
      "text/plain": [
       "<Figure size 432x288 with 4 Axes>"
      ]
     },
     "metadata": {
      "needs_background": "light"
     },
     "output_type": "display_data"
    }
   ],
   "source": [
    "ess_2014_4['sclact'].hist(by = ess_2014_4['cntry'])"
   ]
  },
  {
   "cell_type": "code",
   "execution_count": 47,
   "metadata": {},
   "outputs": [
    {
     "data": {
      "text/plain": [
       "<matplotlib.axes._subplots.AxesSubplot at 0x1a22e557b8>"
      ]
     },
     "execution_count": 47,
     "metadata": {},
     "output_type": "execute_result"
    },
    {
     "data": {
      "image/png": "[encoded data removed]",
      "text/plain": [
       "<Figure size 720x432 with 1 Axes>"
      ]
     },
     "metadata": {
      "needs_background": "light"
     },
     "output_type": "display_data"
    }
   ],
   "source": [
    "ess_2014_4.boxplot('sclact', by = 'cntry', figsize = (10,6))"
   ]
  },
  {
   "cell_type": "code",
   "execution_count": 48,
   "metadata": {},
   "outputs": [
    {
     "data": {
      "text/plain": [
       "KruskalResult(statistic=13.324211087504507, pvalue=0.003985447789262824)"
      ]
     },
     "execution_count": 48,
     "metadata": {},
     "output_type": "execute_result"
    }
   ],
   "source": [
    "stats.kruskal(ch['sclact'], cz['sclact'], de['sclact'], es['sclact'])"
   ]
  },
  {
   "cell_type": "markdown",
   "metadata": {},
   "source": [
    "Based on P value we can reject the null that all cariables have the same distribution and by looking at the above plots we can say the DE is the odd one out"
   ]
  },
  {
   "cell_type": "code",
   "execution_count": null,
   "metadata": {},
   "outputs": [],
   "source": []
  }
 ],
 "metadata": {
  "kernelspec": {
   "display_name": "Python 3",
   "language": "python",
   "name": "python3"
  },
  "language_info": {
   "codemirror_mode": {
    "name": "ipython",
    "version": 3
   },
   "file_extension": ".py",
   "mimetype": "text/x-python",
   "name": "python",
   "nbconvert_exporter": "python",
   "pygments_lexer": "ipython3",
   "version": "3.7.3"
  }
 },
 "nbformat": 4,
 "nbformat_minor": 2
}
