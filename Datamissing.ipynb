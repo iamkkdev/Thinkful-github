{
 "cells": [
  {
   "cell_type": "code",
   "execution_count": 1,
   "metadata": {},
   "outputs": [],
   "source": [
    "%matplotlib inline\n",
    "import matplotlib.pyplot as plt\n",
    "import pandas as pd\n",
    "import numpy as np\n",
    "from sqlalchemy import create_engine\n",
    "import warnings\n",
    "warnings.filterwarnings('ignore')"
   ]
  },
  {
   "cell_type": "code",
   "execution_count": 2,
   "metadata": {},
   "outputs": [],
   "source": [
    "postgres_user = 'dsbc_student'\n",
    "postgres_pw = '7*.8G9QH21'\n",
    "postgres_host = '142.93.121.174'\n",
    "postgres_port = '5432'\n",
    "postgres_db = 'useducation'\n",
    "\n",
    "engine = create_engine('postgresql://{}:{}@{}:{}/{}'.format(postgres_user, postgres_pw, postgres_host,\n",
    "                                                           postgres_port, postgres_db))\n",
    "usaed_df = pd.read_sql_query('select * from useducation', con = engine)"
   ]
  },
  {
   "cell_type": "markdown",
   "metadata": {},
   "source": [
    "## Determine all the variable types and find the fraction of the missing values for each variable."
   ]
  },
  {
   "cell_type": "code",
   "execution_count": 3,
   "metadata": {},
   "outputs": [
    {
     "name": "stdout",
     "output_type": "stream",
     "text": [
      "<class 'pandas.core.frame.DataFrame'>\n",
      "RangeIndex: 1492 entries, 0 to 1491\n",
      "Data columns (total 25 columns):\n",
      "PRIMARY_KEY                     1492 non-null object\n",
      "STATE                           1492 non-null object\n",
      "YEAR                            1492 non-null int64\n",
      "ENROLL                          1229 non-null float64\n",
      "TOTAL_REVENUE                   1280 non-null float64\n",
      "FEDERAL_REVENUE                 1280 non-null float64\n",
      "STATE_REVENUE                   1280 non-null float64\n",
      "LOCAL_REVENUE                   1280 non-null float64\n",
      "TOTAL_EXPENDITURE               1280 non-null float64\n",
      "INSTRUCTION_EXPENDITURE         1280 non-null float64\n",
      "SUPPORT_SERVICES_EXPENDITURE    1280 non-null float64\n",
      "OTHER_EXPENDITURE               1229 non-null float64\n",
      "CAPITAL_OUTLAY_EXPENDITURE      1280 non-null float64\n",
      "GRADES_PK_G                     1319 non-null float64\n",
      "GRADES_KG_G                     1360 non-null float64\n",
      "GRADES_4_G                      1361 non-null float64\n",
      "GRADES_8_G                      1361 non-null float64\n",
      "GRADES_12_G                     1361 non-null float64\n",
      "GRADES_1_8_G                    1361 non-null float64\n",
      "GRADES_9_12_G                   1361 non-null float64\n",
      "GRADES_ALL_G                    1319 non-null float64\n",
      "AVG_MATH_4_SCORE                536 non-null float64\n",
      "AVG_MATH_8_SCORE                532 non-null float64\n",
      "AVG_READING_4_SCORE             533 non-null float64\n",
      "AVG_READING_8_SCORE             498 non-null float64\n",
      "dtypes: float64(22), int64(1), object(2)\n",
      "memory usage: 291.5+ KB\n"
     ]
    }
   ],
   "source": [
    "usaed_df.info()"
   ]
  },
  {
   "cell_type": "markdown",
   "metadata": {},
   "source": [
    "## Missing value percentages"
   ]
  },
  {
   "cell_type": "code",
   "execution_count": 4,
   "metadata": {},
   "outputs": [
    {
     "data": {
      "text/plain": [
       "PRIMARY_KEY                      0.000000\n",
       "STATE                            0.000000\n",
       "YEAR                             0.000000\n",
       "ENROLL                          17.627346\n",
       "TOTAL_REVENUE                   14.209115\n",
       "FEDERAL_REVENUE                 14.209115\n",
       "STATE_REVENUE                   14.209115\n",
       "LOCAL_REVENUE                   14.209115\n",
       "TOTAL_EXPENDITURE               14.209115\n",
       "INSTRUCTION_EXPENDITURE         14.209115\n",
       "SUPPORT_SERVICES_EXPENDITURE    14.209115\n",
       "OTHER_EXPENDITURE               17.627346\n",
       "CAPITAL_OUTLAY_EXPENDITURE      14.209115\n",
       "GRADES_PK_G                     11.595174\n",
       "GRADES_KG_G                      8.847185\n",
       "GRADES_4_G                       8.780161\n",
       "GRADES_8_G                       8.780161\n",
       "GRADES_12_G                      8.780161\n",
       "GRADES_1_8_G                     8.780161\n",
       "GRADES_9_12_G                    8.780161\n",
       "GRADES_ALL_G                    11.595174\n",
       "AVG_MATH_4_SCORE                64.075067\n",
       "AVG_MATH_8_SCORE                64.343164\n",
       "AVG_READING_4_SCORE             64.276139\n",
       "AVG_READING_8_SCORE             66.621984\n",
       "dtype: float64"
      ]
     },
     "execution_count": 4,
     "metadata": {},
     "output_type": "execute_result"
    }
   ],
   "source": [
    "usaed_df.isnull().sum()*100/usaed_df.isnull().count()"
   ]
  },
  {
   "cell_type": "markdown",
   "metadata": {},
   "source": [
    "## Last 4 columns have more than 60% of missing data and we will not be using those variables in the data"
   ]
  },
  {
   "cell_type": "markdown",
   "metadata": {},
   "source": [
    "## Notice that the data has a time dimension (year). For this assignment, forget about time and treat all the observations as if they're from the same year. Choose a strategy to deal with the missing values for each variables. For which variables would filling in the missing values with some value make sense? For which might tossing out the records entirely make sense?"
   ]
  },
  {
   "cell_type": "code",
   "execution_count": 5,
   "metadata": {},
   "outputs": [],
   "source": [
    "column_list = [\"ENROLL\", \"TOTAL_REVENUE\", \"FEDERAL_REVENUE\", \n",
    "             \"STATE_REVENUE\", \"LOCAL_REVENUE\", \"TOTAL_EXPENDITURE\", \n",
    "             \"INSTRUCTION_EXPENDITURE\", \"SUPPORT_SERVICES_EXPENDITURE\",\n",
    "             \"OTHER_EXPENDITURE\", \"CAPITAL_OUTLAY_EXPENDITURE\", \"GRADES_PK_G\", \n",
    "             \"GRADES_KG_G\", \"GRADES_4_G\", \"GRADES_8_G\", \"GRADES_12_G\", \"GRADES_1_8_G\", \n",
    "             \"GRADES_9_12_G\", \"GRADES_ALL_G\"]"
   ]
  },
  {
   "cell_type": "code",
   "execution_count": 6,
   "metadata": {},
   "outputs": [],
   "source": [
    "us_ed_df = usaed_df.copy()"
   ]
  },
  {
   "cell_type": "code",
   "execution_count": 7,
   "metadata": {},
   "outputs": [],
   "source": [
    "for col in column_list:\n",
    "    us_ed_df.loc[:, col] = us_ed_df.loc[:, col].fillna(us_ed_df.loc[:, col].mean())\n",
    "    "
   ]
  },
  {
   "cell_type": "code",
   "execution_count": 8,
   "metadata": {},
   "outputs": [
    {
     "data": {
      "text/plain": [
       "PRIMARY_KEY                       0\n",
       "STATE                             0\n",
       "YEAR                              0\n",
       "ENROLL                            0\n",
       "TOTAL_REVENUE                     0\n",
       "FEDERAL_REVENUE                   0\n",
       "STATE_REVENUE                     0\n",
       "LOCAL_REVENUE                     0\n",
       "TOTAL_EXPENDITURE                 0\n",
       "INSTRUCTION_EXPENDITURE           0\n",
       "SUPPORT_SERVICES_EXPENDITURE      0\n",
       "OTHER_EXPENDITURE                 0\n",
       "CAPITAL_OUTLAY_EXPENDITURE        0\n",
       "GRADES_PK_G                       0\n",
       "GRADES_KG_G                       0\n",
       "GRADES_4_G                        0\n",
       "GRADES_8_G                        0\n",
       "GRADES_12_G                       0\n",
       "GRADES_1_8_G                      0\n",
       "GRADES_9_12_G                     0\n",
       "GRADES_ALL_G                      0\n",
       "AVG_MATH_4_SCORE                956\n",
       "AVG_MATH_8_SCORE                960\n",
       "AVG_READING_4_SCORE             959\n",
       "AVG_READING_8_SCORE             994\n",
       "dtype: int64"
      ]
     },
     "execution_count": 8,
     "metadata": {},
     "output_type": "execute_result"
    }
   ],
   "source": [
    "us_ed_df.isnull().sum()"
   ]
  },
  {
   "cell_type": "code",
   "execution_count": 9,
   "metadata": {},
   "outputs": [
    {
     "data": {
      "text/plain": [
       "(1492, 25)"
      ]
     },
     "execution_count": 9,
     "metadata": {},
     "output_type": "execute_result"
    }
   ],
   "source": [
    "us_ed_df.shape"
   ]
  },
  {
   "cell_type": "code",
   "execution_count": 10,
   "metadata": {},
   "outputs": [],
   "source": [
    "us_ed_df.drop(['AVG_MATH_4_SCORE', 'AVG_MATH_8_SCORE', 'AVG_READING_4_SCORE', 'AVG_READING_8_SCORE'], axis =1, inplace = True)"
   ]
  },
  {
   "cell_type": "code",
   "execution_count": 11,
   "metadata": {},
   "outputs": [
    {
     "name": "stdout",
     "output_type": "stream",
     "text": [
      "<class 'pandas.core.frame.DataFrame'>\n",
      "RangeIndex: 1492 entries, 0 to 1491\n",
      "Data columns (total 21 columns):\n",
      "PRIMARY_KEY                     1492 non-null object\n",
      "STATE                           1492 non-null object\n",
      "YEAR                            1492 non-null int64\n",
      "ENROLL                          1492 non-null float64\n",
      "TOTAL_REVENUE                   1492 non-null float64\n",
      "FEDERAL_REVENUE                 1492 non-null float64\n",
      "STATE_REVENUE                   1492 non-null float64\n",
      "LOCAL_REVENUE                   1492 non-null float64\n",
      "TOTAL_EXPENDITURE               1492 non-null float64\n",
      "INSTRUCTION_EXPENDITURE         1492 non-null float64\n",
      "SUPPORT_SERVICES_EXPENDITURE    1492 non-null float64\n",
      "OTHER_EXPENDITURE               1492 non-null float64\n",
      "CAPITAL_OUTLAY_EXPENDITURE      1492 non-null float64\n",
      "GRADES_PK_G                     1492 non-null float64\n",
      "GRADES_KG_G                     1492 non-null float64\n",
      "GRADES_4_G                      1492 non-null float64\n",
      "GRADES_8_G                      1492 non-null float64\n",
      "GRADES_12_G                     1492 non-null float64\n",
      "GRADES_1_8_G                    1492 non-null float64\n",
      "GRADES_9_12_G                   1492 non-null float64\n",
      "GRADES_ALL_G                    1492 non-null float64\n",
      "dtypes: float64(18), int64(1), object(2)\n",
      "memory usage: 244.9+ KB\n"
     ]
    }
   ],
   "source": [
    "us_ed_df.info()"
   ]
  },
  {
   "cell_type": "markdown",
   "metadata": {},
   "source": [
    "## Now, take into account the time factor. Replicate your second answer but this time fill in the missing values by using a statistic that is calculated within the year of the observation. For example, if you want to fill a missing value for a variable with the mean of that variable, calculate the mean by using only the observations for that specific year."
   ]
  },
  {
   "cell_type": "code",
   "execution_count": 12,
   "metadata": {},
   "outputs": [],
   "source": [
    "educ_df = usaed_df.copy()\n",
    "years = educ_df['YEAR'].unique() "
   ]
  },
  {
   "cell_type": "code",
   "execution_count": 13,
   "metadata": {},
   "outputs": [
    {
     "data": {
      "text/plain": [
       "array([1992, 2001, 1993, 2016, 1994, 1995, 1996, 1997, 1998, 1999, 2017,\n",
       "       2000, 2002, 2003, 2004, 2005, 2006, 2007, 2008, 2009, 2010, 2011,\n",
       "       2012, 2013, 2014, 2015])"
      ]
     },
     "execution_count": 13,
     "metadata": {},
     "output_type": "execute_result"
    }
   ],
   "source": [
    "years"
   ]
  },
  {
   "cell_type": "code",
   "execution_count": 14,
   "metadata": {},
   "outputs": [],
   "source": [
    "for col in column_list:\n",
    "    for year in years:\n",
    "        educ_df.loc[educ_df['YEAR'] == year, col ] = educ_df.loc[educ_df['YEAR'] == year, col].fillna(\n",
    "            educ_df[educ_df['YEAR'] == year][ col].mean())"
   ]
  },
  {
   "cell_type": "code",
   "execution_count": 15,
   "metadata": {},
   "outputs": [
    {
     "name": "stdout",
     "output_type": "stream",
     "text": [
      "<class 'pandas.core.frame.DataFrame'>\n",
      "RangeIndex: 1492 entries, 0 to 1491\n",
      "Data columns (total 25 columns):\n",
      "PRIMARY_KEY                     1492 non-null object\n",
      "STATE                           1492 non-null object\n",
      "YEAR                            1492 non-null int64\n",
      "ENROLL                          1385 non-null float64\n",
      "TOTAL_REVENUE                   1441 non-null float64\n",
      "FEDERAL_REVENUE                 1441 non-null float64\n",
      "STATE_REVENUE                   1441 non-null float64\n",
      "LOCAL_REVENUE                   1441 non-null float64\n",
      "TOTAL_EXPENDITURE               1441 non-null float64\n",
      "INSTRUCTION_EXPENDITURE         1441 non-null float64\n",
      "SUPPORT_SERVICES_EXPENDITURE    1441 non-null float64\n",
      "OTHER_EXPENDITURE               1385 non-null float64\n",
      "CAPITAL_OUTLAY_EXPENDITURE      1441 non-null float64\n",
      "GRADES_PK_G                     1390 non-null float64\n",
      "GRADES_KG_G                     1390 non-null float64\n",
      "GRADES_4_G                      1390 non-null float64\n",
      "GRADES_8_G                      1390 non-null float64\n",
      "GRADES_12_G                     1390 non-null float64\n",
      "GRADES_1_8_G                    1390 non-null float64\n",
      "GRADES_9_12_G                   1390 non-null float64\n",
      "GRADES_ALL_G                    1390 non-null float64\n",
      "AVG_MATH_4_SCORE                536 non-null float64\n",
      "AVG_MATH_8_SCORE                532 non-null float64\n",
      "AVG_READING_4_SCORE             533 non-null float64\n",
      "AVG_READING_8_SCORE             498 non-null float64\n",
      "dtypes: float64(22), int64(1), object(2)\n",
      "memory usage: 291.5+ KB\n"
     ]
    }
   ],
   "source": [
    "educ_df.info()"
   ]
  },
  {
   "cell_type": "markdown",
   "metadata": {},
   "source": [
    "##  This time, fill in the missing values using interpolation (extrapolation)."
   ]
  },
  {
   "cell_type": "code",
   "execution_count": 16,
   "metadata": {},
   "outputs": [],
   "source": [
    "us2 = usaed_df.copy()"
   ]
  },
  {
   "cell_type": "code",
   "execution_count": 17,
   "metadata": {},
   "outputs": [],
   "source": [
    "for col in column_list:\n",
    "    us2.loc[:, col] = us2.loc[:, col].fillna(us2.loc[:,col].interpolate())"
   ]
  },
  {
   "cell_type": "code",
   "execution_count": 18,
   "metadata": {},
   "outputs": [
    {
     "name": "stdout",
     "output_type": "stream",
     "text": [
      "<class 'pandas.core.frame.DataFrame'>\n",
      "RangeIndex: 1492 entries, 0 to 1491\n",
      "Data columns (total 25 columns):\n",
      "PRIMARY_KEY                     1492 non-null object\n",
      "STATE                           1492 non-null object\n",
      "YEAR                            1492 non-null int64\n",
      "ENROLL                          1456 non-null float64\n",
      "TOTAL_REVENUE                   1492 non-null float64\n",
      "FEDERAL_REVENUE                 1492 non-null float64\n",
      "STATE_REVENUE                   1492 non-null float64\n",
      "LOCAL_REVENUE                   1492 non-null float64\n",
      "TOTAL_EXPENDITURE               1492 non-null float64\n",
      "INSTRUCTION_EXPENDITURE         1492 non-null float64\n",
      "SUPPORT_SERVICES_EXPENDITURE    1492 non-null float64\n",
      "OTHER_EXPENDITURE               1456 non-null float64\n",
      "CAPITAL_OUTLAY_EXPENDITURE      1492 non-null float64\n",
      "GRADES_PK_G                     1492 non-null float64\n",
      "GRADES_KG_G                     1492 non-null float64\n",
      "GRADES_4_G                      1492 non-null float64\n",
      "GRADES_8_G                      1492 non-null float64\n",
      "GRADES_12_G                     1492 non-null float64\n",
      "GRADES_1_8_G                    1492 non-null float64\n",
      "GRADES_9_12_G                   1492 non-null float64\n",
      "GRADES_ALL_G                    1492 non-null float64\n",
      "AVG_MATH_4_SCORE                536 non-null float64\n",
      "AVG_MATH_8_SCORE                532 non-null float64\n",
      "AVG_READING_4_SCORE             533 non-null float64\n",
      "AVG_READING_8_SCORE             498 non-null float64\n",
      "dtypes: float64(22), int64(1), object(2)\n",
      "memory usage: 291.5+ KB\n"
     ]
    }
   ],
   "source": [
    "us2.info()"
   ]
  },
  {
   "cell_type": "code",
   "execution_count": 19,
   "metadata": {},
   "outputs": [],
   "source": [
    "education4_df = usaed_df.copy()"
   ]
  },
  {
   "cell_type": "code",
   "execution_count": 20,
   "metadata": {},
   "outputs": [],
   "source": [
    "for col in column_list:\n",
    "    education4_df.loc[:, col] = education4_df.loc[:, col].interpolate()"
   ]
  },
  {
   "cell_type": "code",
   "execution_count": 21,
   "metadata": {},
   "outputs": [
    {
     "name": "stdout",
     "output_type": "stream",
     "text": [
      "<class 'pandas.core.frame.DataFrame'>\n",
      "RangeIndex: 1492 entries, 0 to 1491\n",
      "Data columns (total 25 columns):\n",
      "PRIMARY_KEY                     1492 non-null object\n",
      "STATE                           1492 non-null object\n",
      "YEAR                            1492 non-null int64\n",
      "ENROLL                          1456 non-null float64\n",
      "TOTAL_REVENUE                   1492 non-null float64\n",
      "FEDERAL_REVENUE                 1492 non-null float64\n",
      "STATE_REVENUE                   1492 non-null float64\n",
      "LOCAL_REVENUE                   1492 non-null float64\n",
      "TOTAL_EXPENDITURE               1492 non-null float64\n",
      "INSTRUCTION_EXPENDITURE         1492 non-null float64\n",
      "SUPPORT_SERVICES_EXPENDITURE    1492 non-null float64\n",
      "OTHER_EXPENDITURE               1456 non-null float64\n",
      "CAPITAL_OUTLAY_EXPENDITURE      1492 non-null float64\n",
      "GRADES_PK_G                     1492 non-null float64\n",
      "GRADES_KG_G                     1492 non-null float64\n",
      "GRADES_4_G                      1492 non-null float64\n",
      "GRADES_8_G                      1492 non-null float64\n",
      "GRADES_12_G                     1492 non-null float64\n",
      "GRADES_1_8_G                    1492 non-null float64\n",
      "GRADES_9_12_G                   1492 non-null float64\n",
      "GRADES_ALL_G                    1492 non-null float64\n",
      "AVG_MATH_4_SCORE                536 non-null float64\n",
      "AVG_MATH_8_SCORE                532 non-null float64\n",
      "AVG_READING_4_SCORE             533 non-null float64\n",
      "AVG_READING_8_SCORE             498 non-null float64\n",
      "dtypes: float64(22), int64(1), object(2)\n",
      "memory usage: 291.5+ KB\n"
     ]
    }
   ],
   "source": [
    "education4_df.info()"
   ]
  },
  {
   "cell_type": "code",
   "execution_count": 22,
   "metadata": {},
   "outputs": [],
   "source": [
    "education4_df = usaed_df.copy()"
   ]
  },
  {
   "cell_type": "code",
   "execution_count": 23,
   "metadata": {},
   "outputs": [],
   "source": [
    "for col in column_list:\n",
    "    education4_df.loc[:, col] = education4_df.loc[:, col].interpolate(limit_direction = 'both')"
   ]
  },
  {
   "cell_type": "code",
   "execution_count": 24,
   "metadata": {},
   "outputs": [
    {
     "name": "stdout",
     "output_type": "stream",
     "text": [
      "<class 'pandas.core.frame.DataFrame'>\n",
      "RangeIndex: 1492 entries, 0 to 1491\n",
      "Data columns (total 25 columns):\n",
      "PRIMARY_KEY                     1492 non-null object\n",
      "STATE                           1492 non-null object\n",
      "YEAR                            1492 non-null int64\n",
      "ENROLL                          1492 non-null float64\n",
      "TOTAL_REVENUE                   1492 non-null float64\n",
      "FEDERAL_REVENUE                 1492 non-null float64\n",
      "STATE_REVENUE                   1492 non-null float64\n",
      "LOCAL_REVENUE                   1492 non-null float64\n",
      "TOTAL_EXPENDITURE               1492 non-null float64\n",
      "INSTRUCTION_EXPENDITURE         1492 non-null float64\n",
      "SUPPORT_SERVICES_EXPENDITURE    1492 non-null float64\n",
      "OTHER_EXPENDITURE               1492 non-null float64\n",
      "CAPITAL_OUTLAY_EXPENDITURE      1492 non-null float64\n",
      "GRADES_PK_G                     1492 non-null float64\n",
      "GRADES_KG_G                     1492 non-null float64\n",
      "GRADES_4_G                      1492 non-null float64\n",
      "GRADES_8_G                      1492 non-null float64\n",
      "GRADES_12_G                     1492 non-null float64\n",
      "GRADES_1_8_G                    1492 non-null float64\n",
      "GRADES_9_12_G                   1492 non-null float64\n",
      "GRADES_ALL_G                    1492 non-null float64\n",
      "AVG_MATH_4_SCORE                536 non-null float64\n",
      "AVG_MATH_8_SCORE                532 non-null float64\n",
      "AVG_READING_4_SCORE             533 non-null float64\n",
      "AVG_READING_8_SCORE             498 non-null float64\n",
      "dtypes: float64(22), int64(1), object(2)\n",
      "memory usage: 291.5+ KB\n"
     ]
    }
   ],
   "source": [
    "education4_df.info()"
   ]
  },
  {
   "cell_type": "markdown",
   "metadata": {},
   "source": [
    "##  Compare your results for the 2nd, 3rd, and 4th questions. Do you find any meaningful differences?"
   ]
  },
  {
   "cell_type": "code",
   "execution_count": 25,
   "metadata": {},
   "outputs": [
    {
     "name": "stdout",
     "output_type": "stream",
     "text": [
      "              YEAR        ENROLL  TOTAL_REVENUE  FEDERAL_REVENUE  \\\n",
      "count  1492.000000  1.492000e+03   1.492000e+03     1.492000e+03   \n",
      "mean   2004.433646  9.159308e+05   9.092082e+06     7.663723e+05   \n",
      "std       7.393983  9.667725e+05   1.087818e+07     1.060702e+06   \n",
      "min    1992.000000  4.386600e+04   4.656500e+05     3.102000e+04   \n",
      "25%    1998.000000  3.150940e+05   2.546261e+06     2.170200e+05   \n",
      "50%    2004.000000  8.204140e+05   6.359310e+06     5.167410e+05   \n",
      "75%    2011.000000  9.211780e+05   9.276958e+06     7.663723e+05   \n",
      "max    2017.000000  6.307022e+06   8.921726e+07     9.990221e+06   \n",
      "\n",
      "       STATE_REVENUE  LOCAL_REVENUE  TOTAL_EXPENDITURE  \\\n",
      "count   1.492000e+03   1.492000e+03       1.492000e+03   \n",
      "mean    4.216553e+06   4.109157e+06       9.196681e+06   \n",
      "std     5.133895e+06   5.078230e+06       1.109393e+07   \n",
      "min     0.000000e+00   2.209300e+04       4.816650e+05   \n",
      "25%     1.356434e+06   9.447962e+05       2.523968e+06   \n",
      "50%     3.127639e+06   2.697257e+06       6.520224e+06   \n",
      "75%     4.269811e+06   4.109157e+06       9.434922e+06   \n",
      "max     5.090457e+07   3.610526e+07       8.532013e+07   \n",
      "\n",
      "       INSTRUCTION_EXPENDITURE  SUPPORT_SERVICES_EXPENDITURE  \\\n",
      "count             1.492000e+03                  1.492000e+03   \n",
      "mean              4.762966e+06                  2.680331e+06   \n",
      "std               5.828468e+06                  3.105812e+06   \n",
      "min               2.655490e+05                  1.399630e+05   \n",
      "25%               1.343611e+06                  7.673688e+05   \n",
      "50%               3.358142e+06                  1.913844e+06   \n",
      "75%               4.938820e+06                  2.795888e+06   \n",
      "max               4.396452e+07                  2.605802e+07   \n",
      "\n",
      "       OTHER_EXPENDITURE  CAPITAL_OUTLAY_EXPENDITURE    GRADES_PK_G  \\\n",
      "count       1.492000e+03                1.492000e+03    1492.000000   \n",
      "mean        4.292046e+05                9.027693e+05   17601.614102   \n",
      "std         4.846832e+05                1.229564e+06   28221.111094   \n",
      "min         1.154100e+04                1.270800e+04       0.000000   \n",
      "25%         1.354282e+05                2.163398e+05    2449.000000   \n",
      "50%         3.672335e+05                6.482175e+05   10505.000000   \n",
      "75%         4.568915e+05                9.027693e+05   19149.250000   \n",
      "max         3.995951e+06                1.022366e+07  250911.000000   \n",
      "\n",
      "         GRADES_KG_G     GRADES_4_G     GRADES_8_G    GRADES_12_G  \\\n",
      "count    1492.000000    1492.000000    1492.000000    1492.000000   \n",
      "mean    63746.761029   64538.927259   64271.057311   54268.924320   \n",
      "std     76572.547833   76684.998585   75364.301721   64838.328605   \n",
      "min       544.000000     633.000000     437.000000     311.000000   \n",
      "25%     14016.000000   15195.500000   15682.750000   13437.000000   \n",
      "50%     48897.000000   49884.500000   49571.000000   39566.000000   \n",
      "75%     70372.750000   71814.250000   72131.000000   64616.250000   \n",
      "max    530531.000000  493415.000000  500143.000000  498403.000000   \n",
      "\n",
      "       GRADES_1_8_G  GRADES_9_12_G  GRADES_ALL_G  \n",
      "count  1.492000e+03   1.492000e+03  1.492000e+03  \n",
      "mean   5.192140e+05   2.470714e+05  8.024415e+05  \n",
      "std    6.147133e+05   2.938773e+05  9.126522e+05  \n",
      "min    4.878000e+03   1.808000e+03  7.254000e+03  \n",
      "25%    1.211522e+05   5.919750e+04  2.293578e+05  \n",
      "50%    4.015865e+05   1.817010e+05  6.473260e+05  \n",
      "75%    5.749118e+05   2.825390e+05  8.724220e+05  \n",
      "max    3.929869e+06   2.013687e+06  5.944746e+06  \n",
      "              YEAR        ENROLL  TOTAL_REVENUE  FEDERAL_REVENUE  \\\n",
      "count  1492.000000  1.385000e+03   1.441000e+03     1.441000e+03   \n",
      "mean   2004.433646  9.161654e+05   9.084108e+06     7.662749e+05   \n",
      "std       7.393983  1.003532e+06   1.110204e+07     1.085057e+06   \n",
      "min    1992.000000  4.386600e+04   4.656500e+05     3.102000e+04   \n",
      "25%    1998.000000  2.867590e+05   2.425600e+06     2.068530e+05   \n",
      "50%    2004.000000  7.374010e+05   5.778507e+06     4.461800e+05   \n",
      "75%    2011.000000  9.624880e+05   1.116863e+07     8.956420e+05   \n",
      "max    2017.000000  6.307022e+06   8.921726e+07     9.990221e+06   \n",
      "\n",
      "       STATE_REVENUE  LOCAL_REVENUE  TOTAL_EXPENDITURE  \\\n",
      "count   1.441000e+03   1.441000e+03       1.441000e+03   \n",
      "mean    4.213597e+06   4.104236e+06       9.190557e+06   \n",
      "std     5.237195e+06   5.181475e+06       1.132084e+07   \n",
      "min     0.000000e+00   2.209300e+04       4.816650e+05   \n",
      "25%     1.319582e+06   8.747060e+05       2.427316e+06   \n",
      "50%     2.857497e+06   2.398344e+06       5.858385e+06   \n",
      "75%     5.187230e+06   4.995971e+06       1.116970e+07   \n",
      "max     5.090457e+07   3.610526e+07       8.532013e+07   \n",
      "\n",
      "       INSTRUCTION_EXPENDITURE  SUPPORT_SERVICES_EXPENDITURE  \\\n",
      "count             1.441000e+03                  1.441000e+03   \n",
      "mean              4.758243e+06                  2.677770e+06   \n",
      "std               5.947042e+06                  3.170760e+06   \n",
      "min               2.655490e+05                  1.399630e+05   \n",
      "25%               1.306105e+06                  7.350360e+05   \n",
      "50%               3.033016e+06                  1.720824e+06   \n",
      "75%               5.672620e+06                  3.333043e+06   \n",
      "max               4.396452e+07                  2.605802e+07   \n",
      "\n",
      "       OTHER_EXPENDITURE  ...     GRADES_4_G     GRADES_8_G    GRADES_12_G  \\\n",
      "count       1.385000e+03  ...    1390.000000    1390.000000    1390.000000   \n",
      "mean        4.286507e+05  ...   64590.152441   64331.744106   54418.075582   \n",
      "std         5.041013e+05  ...   79451.944548   78083.976028   67187.337112   \n",
      "min         1.154100e+04  ...     633.000000     437.000000     311.000000   \n",
      "25%         1.199340e+05  ...   14190.500000   13698.250000   11161.750000   \n",
      "50%         3.070220e+05  ...   44909.500000   44756.500000   37541.500000   \n",
      "75%         5.223475e+05  ...   75149.750000   75016.250000   67026.000000   \n",
      "max         3.995951e+06  ...  493415.000000  500143.000000  498403.000000   \n",
      "\n",
      "       GRADES_1_8_G  GRADES_9_12_G  GRADES_ALL_G  AVG_MATH_4_SCORE  \\\n",
      "count  1.390000e+03   1.390000e+03  1.390000e+03        536.000000   \n",
      "mean   5.196200e+05   2.474932e+05  8.029178e+05        234.768293   \n",
      "std    6.368932e+05   3.044943e+05  9.456162e+05         10.221511   \n",
      "min    4.878000e+03   1.808000e+03  7.254000e+03        187.134670   \n",
      "25%    1.129712e+05   5.270300e+04  1.939785e+05        229.694352   \n",
      "50%    3.611705e+05   1.706525e+05  5.983920e+05        237.238552   \n",
      "75%    6.052242e+05   2.888522e+05  9.045562e+05        241.995486   \n",
      "max    3.929869e+06   2.013687e+06  5.944746e+06        253.420961   \n",
      "\n",
      "       AVG_MATH_8_SCORE  AVG_READING_4_SCORE  AVG_READING_8_SCORE  \n",
      "count        532.000000           533.000000           498.000000  \n",
      "mean         278.414711           218.866154           263.661132  \n",
      "std           10.159722             7.769616             6.803725  \n",
      "min          232.831510           178.557612           236.379102  \n",
      "25%          272.761598           214.663401           259.533171  \n",
      "50%          280.618803           220.416034           265.010912  \n",
      "75%          285.347428           223.999337           268.190121  \n",
      "max          300.568235           236.773867           280.499130  \n",
      "\n",
      "[8 rows x 23 columns]\n",
      "              YEAR        ENROLL  TOTAL_REVENUE  FEDERAL_REVENUE  \\\n",
      "count  1492.000000  1.456000e+03   1.492000e+03     1.492000e+03   \n",
      "mean   2004.433646  1.005984e+06   1.111164e+07     8.922691e+05   \n",
      "std       7.393983  1.009158e+06   1.200155e+07     1.106788e+06   \n",
      "min    1992.000000  4.386600e+04   4.656500e+05     3.102000e+04   \n",
      "25%    1998.000000  2.973995e+05   2.546261e+06     2.170200e+05   \n",
      "50%    2004.000000  7.540845e+05   6.351760e+06     5.165190e+05   \n",
      "75%    2011.000000  1.595024e+06   1.803650e+07     1.411794e+06   \n",
      "max    2017.000000  6.307022e+06   8.921726e+07     9.990221e+06   \n",
      "\n",
      "       STATE_REVENUE  LOCAL_REVENUE  TOTAL_EXPENDITURE  \\\n",
      "count   1.492000e+03   1.492000e+03       1.492000e+03   \n",
      "mean    4.913351e+06   5.306024e+06       1.114374e+07   \n",
      "std     5.423675e+06   5.900909e+06       1.212433e+07   \n",
      "min     0.000000e+00   2.209300e+04       4.816650e+05   \n",
      "25%     1.356434e+06   9.447962e+05       2.523968e+06   \n",
      "50%     3.119414e+06   2.650904e+06       6.499891e+06   \n",
      "75%     8.020633e+06   8.584803e+06       1.801704e+07   \n",
      "max     5.090457e+07   3.610526e+07       8.532013e+07   \n",
      "\n",
      "       INSTRUCTION_EXPENDITURE  SUPPORT_SERVICES_EXPENDITURE  \\\n",
      "count             1.492000e+03                  1.492000e+03   \n",
      "mean              5.792260e+06                  3.324275e+06   \n",
      "std               6.376549e+06                  3.500830e+06   \n",
      "min               2.655490e+05                  1.399630e+05   \n",
      "25%               1.343611e+06                  7.673688e+05   \n",
      "50%               3.318778e+06                  1.910412e+06   \n",
      "75%               9.130766e+06                  5.435244e+06   \n",
      "max               4.396452e+07                  2.605802e+07   \n",
      "\n",
      "       OTHER_EXPENDITURE  ...     GRADES_4_G     GRADES_8_G    GRADES_12_G  \\\n",
      "count       1.456000e+03  ...    1492.000000    1492.000000    1492.000000   \n",
      "mean        5.004288e+05  ...   59797.646113   59511.380027   50207.239276   \n",
      "std         5.253843e+05  ...   78406.899202   77123.573668   66309.867155   \n",
      "min         1.154100e+04  ...     633.000000     437.000000     311.000000   \n",
      "25%         1.279618e+05  ...   10117.250000   10252.000000    8951.000000   \n",
      "50%         3.415810e+05  ...   38280.500000   38114.500000   33279.000000   \n",
      "75%         8.490842e+05  ...   72310.250000   72598.250000   64920.500000   \n",
      "max         3.995951e+06  ...  493415.000000  500143.000000  498403.000000   \n",
      "\n",
      "       GRADES_1_8_G  GRADES_9_12_G  GRADES_ALL_G  AVG_MATH_4_SCORE  \\\n",
      "count  1.492000e+03   1.492000e+03  1.492000e+03        536.000000   \n",
      "mean   4.810102e+05   2.286678e+05  7.478782e+05        234.768293   \n",
      "std    6.286622e+05   3.005815e+05  9.291585e+05         10.221511   \n",
      "min    4.878000e+03   1.808000e+03  7.254000e+03        187.134670   \n",
      "25%    8.127325e+04   3.950675e+04  1.718665e+05        229.694352   \n",
      "50%    3.097340e+05   1.472355e+05  4.591248e+05        237.238552   \n",
      "75%    5.783400e+05   2.843505e+05  8.860948e+05        241.995486   \n",
      "max    3.929869e+06   2.013687e+06  5.944746e+06        253.420961   \n",
      "\n",
      "       AVG_MATH_8_SCORE  AVG_READING_4_SCORE  AVG_READING_8_SCORE  \n",
      "count        532.000000           533.000000           498.000000  \n",
      "mean         278.414711           218.866154           263.661132  \n",
      "std           10.159722             7.769616             6.803725  \n",
      "min          232.831510           178.557612           236.379102  \n",
      "25%          272.761598           214.663401           259.533171  \n",
      "50%          280.618803           220.416034           265.010912  \n",
      "75%          285.347428           223.999337           268.190121  \n",
      "max          300.568235           236.773867           280.499130  \n",
      "\n",
      "[8 rows x 23 columns]\n"
     ]
    },
    {
     "name": "stdout",
     "output_type": "stream",
     "text": [
      "              YEAR        ENROLL  TOTAL_REVENUE  FEDERAL_REVENUE  \\\n",
      "count  1492.000000  1.492000e+03   1.492000e+03     1.492000e+03   \n",
      "mean   2004.433646  9.838759e+05   1.111164e+07     8.922691e+05   \n",
      "std       7.393983  1.006773e+06   1.200155e+07     1.106788e+06   \n",
      "min    1992.000000  4.386600e+04   4.656500e+05     3.102000e+04   \n",
      "25%    1998.000000  2.821195e+05   2.546261e+06     2.170200e+05   \n",
      "50%    2004.000000  7.373935e+05   6.351760e+06     5.165190e+05   \n",
      "75%    2011.000000  1.595024e+06   1.803650e+07     1.411794e+06   \n",
      "max    2017.000000  6.307022e+06   8.921726e+07     9.990221e+06   \n",
      "\n",
      "       STATE_REVENUE  LOCAL_REVENUE  TOTAL_EXPENDITURE  \\\n",
      "count   1.492000e+03   1.492000e+03       1.492000e+03   \n",
      "mean    4.913351e+06   5.306024e+06       1.114374e+07   \n",
      "std     5.423675e+06   5.900909e+06       1.212433e+07   \n",
      "min     0.000000e+00   2.209300e+04       4.816650e+05   \n",
      "25%     1.356434e+06   9.447962e+05       2.523968e+06   \n",
      "50%     3.119414e+06   2.650904e+06       6.499891e+06   \n",
      "75%     8.020633e+06   8.584803e+06       1.801704e+07   \n",
      "max     5.090457e+07   3.610526e+07       8.532013e+07   \n",
      "\n",
      "       INSTRUCTION_EXPENDITURE  SUPPORT_SERVICES_EXPENDITURE  \\\n",
      "count             1.492000e+03                  1.492000e+03   \n",
      "mean              5.792260e+06                  3.324275e+06   \n",
      "std               6.376549e+06                  3.500830e+06   \n",
      "min               2.655490e+05                  1.399630e+05   \n",
      "25%               1.343611e+06                  7.673688e+05   \n",
      "50%               3.318778e+06                  1.910412e+06   \n",
      "75%               9.130766e+06                  5.435244e+06   \n",
      "max               4.396452e+07                  2.605802e+07   \n",
      "\n",
      "       OTHER_EXPENDITURE  ...     GRADES_4_G     GRADES_8_G    GRADES_12_G  \\\n",
      "count       1.492000e+03  ...    1492.000000    1492.000000    1492.000000   \n",
      "mean        4.889553e+05  ...   59797.646113   59511.380027   50207.239276   \n",
      "std         5.241104e+05  ...   78406.899202   77123.573668   66309.867155   \n",
      "min         1.154100e+04  ...     633.000000     437.000000     311.000000   \n",
      "25%         1.125620e+05  ...   10117.250000   10252.000000    8951.000000   \n",
      "50%         3.301260e+05  ...   38280.500000   38114.500000   33279.000000   \n",
      "75%         8.308385e+05  ...   72310.250000   72598.250000   64920.500000   \n",
      "max         3.995951e+06  ...  493415.000000  500143.000000  498403.000000   \n",
      "\n",
      "       GRADES_1_8_G  GRADES_9_12_G  GRADES_ALL_G  AVG_MATH_4_SCORE  \\\n",
      "count  1.492000e+03   1.492000e+03  1.492000e+03        536.000000   \n",
      "mean   4.810102e+05   2.286678e+05  7.478782e+05        234.768293   \n",
      "std    6.286622e+05   3.005815e+05  9.291585e+05         10.221511   \n",
      "min    4.878000e+03   1.808000e+03  7.254000e+03        187.134670   \n",
      "25%    8.127325e+04   3.950675e+04  1.718665e+05        229.694352   \n",
      "50%    3.097340e+05   1.472355e+05  4.591248e+05        237.238552   \n",
      "75%    5.783400e+05   2.843505e+05  8.860948e+05        241.995486   \n",
      "max    3.929869e+06   2.013687e+06  5.944746e+06        253.420961   \n",
      "\n",
      "       AVG_MATH_8_SCORE  AVG_READING_4_SCORE  AVG_READING_8_SCORE  \n",
      "count        532.000000           533.000000           498.000000  \n",
      "mean         278.414711           218.866154           263.661132  \n",
      "std           10.159722             7.769616             6.803725  \n",
      "min          232.831510           178.557612           236.379102  \n",
      "25%          272.761598           214.663401           259.533171  \n",
      "50%          280.618803           220.416034           265.010912  \n",
      "75%          285.347428           223.999337           268.190121  \n",
      "max          300.568235           236.773867           280.499130  \n",
      "\n",
      "[8 rows x 23 columns]\n"
     ]
    }
   ],
   "source": [
    "datasets = [us_ed_df , educ_df, us2, education4_df]\n",
    "for i in datasets:\n",
    "    print(i.describe())"
   ]
  },
  {
   "cell_type": "code",
   "execution_count": 26,
   "metadata": {},
   "outputs": [
    {
     "data": {
      "text/plain": [
       "Index(['PRIMARY_KEY', 'STATE', 'YEAR', 'ENROLL', 'TOTAL_REVENUE',\n",
       "       'FEDERAL_REVENUE', 'STATE_REVENUE', 'LOCAL_REVENUE',\n",
       "       'TOTAL_EXPENDITURE', 'INSTRUCTION_EXPENDITURE',\n",
       "       'SUPPORT_SERVICES_EXPENDITURE', 'OTHER_EXPENDITURE',\n",
       "       'CAPITAL_OUTLAY_EXPENDITURE', 'GRADES_PK_G', 'GRADES_KG_G',\n",
       "       'GRADES_4_G', 'GRADES_8_G', 'GRADES_12_G', 'GRADES_1_8_G',\n",
       "       'GRADES_9_12_G', 'GRADES_ALL_G', 'AVG_MATH_4_SCORE', 'AVG_MATH_8_SCORE',\n",
       "       'AVG_READING_4_SCORE', 'AVG_READING_8_SCORE'],\n",
       "      dtype='object')"
      ]
     },
     "execution_count": 26,
     "metadata": {},
     "output_type": "execute_result"
    }
   ],
   "source": [
    "us2.columns"
   ]
  },
  {
   "cell_type": "code",
   "execution_count": 27,
   "metadata": {},
   "outputs": [],
   "source": [
    "us2.drop(['AVG_MATH_4_SCORE', 'AVG_MATH_8_SCORE', 'AVG_READING_4_SCORE', 'AVG_READING_8_SCORE'], axis =1, inplace = True)"
   ]
  },
  {
   "cell_type": "code",
   "execution_count": 28,
   "metadata": {},
   "outputs": [
    {
     "data": {
      "text/plain": [
       "Index(['PRIMARY_KEY', 'STATE', 'YEAR', 'ENROLL', 'TOTAL_REVENUE',\n",
       "       'FEDERAL_REVENUE', 'STATE_REVENUE', 'LOCAL_REVENUE',\n",
       "       'TOTAL_EXPENDITURE', 'INSTRUCTION_EXPENDITURE',\n",
       "       'SUPPORT_SERVICES_EXPENDITURE', 'OTHER_EXPENDITURE',\n",
       "       'CAPITAL_OUTLAY_EXPENDITURE', 'GRADES_PK_G', 'GRADES_KG_G',\n",
       "       'GRADES_4_G', 'GRADES_8_G', 'GRADES_12_G', 'GRADES_1_8_G',\n",
       "       'GRADES_9_12_G', 'GRADES_ALL_G'],\n",
       "      dtype='object')"
      ]
     },
     "execution_count": 28,
     "metadata": {},
     "output_type": "execute_result"
    }
   ],
   "source": [
    "us2.columns"
   ]
  },
  {
   "cell_type": "markdown",
   "metadata": {},
   "source": [
    "## Consider the two variables: TOTAL_REVENUE and TOTAL_EXPENDITURE. Do these variables have outlier values?"
   ]
  },
  {
   "cell_type": "code",
   "execution_count": 32,
   "metadata": {},
   "outputs": [],
   "source": [
    "us2.columns = us2.columns.str.lower()"
   ]
  },
  {
   "cell_type": "code",
   "execution_count": 33,
   "metadata": {},
   "outputs": [
    {
     "data": {
      "text/plain": [
       "Index(['primary_key', 'state', 'year', 'enroll', 'total_revenue',\n",
       "       'federal_revenue', 'state_revenue', 'local_revenue',\n",
       "       'total_expenditure', 'instruction_expenditure',\n",
       "       'support_services_expenditure', 'other_expenditure',\n",
       "       'capital_outlay_expenditure', 'grades_pk_g', 'grades_kg_g',\n",
       "       'grades_4_g', 'grades_8_g', 'grades_12_g', 'grades_1_8_g',\n",
       "       'grades_9_12_g', 'grades_all_g'],\n",
       "      dtype='object')"
      ]
     },
     "execution_count": 33,
     "metadata": {},
     "output_type": "execute_result"
    }
   ],
   "source": [
    "us2.columns"
   ]
  },
  {
   "cell_type": "code",
   "execution_count": 55,
   "metadata": {},
   "outputs": [
    {
     "data": {
      "text/plain": [
       "Text(0.5, 1.0, 'Total Expenditure with 1.5 whisker')"
      ]
     },
     "execution_count": 55,
     "metadata": {},
     "output_type": "execute_result"
    },
    {
     "data": {
      "image/png": "[encoded data removed]",
      "text/plain": [
       "<Figure size 720x360 with 2 Axes>"
      ]
     },
     "metadata": {
      "needs_background": "light"
     },
     "output_type": "display_data"
    }
   ],
   "source": [
    "plt.figure(figsize=(10,5))\n",
    "plt.subplot(1,2,1)\n",
    "plt.boxplot(us2.total_revenue)\n",
    "plt.title('Total Revenue with 1.5 whisker')\n",
    "plt.subplot(1,2,2)\n",
    "plt.boxplot(us2.total_expenditure)\n",
    "plt.title('Total Expenditure with 1.5 whisker')"
   ]
  },
  {
   "cell_type": "markdown",
   "metadata": {},
   "source": [
    "## it appears that both the columns have a lot of outliers"
   ]
  },
  {
   "cell_type": "markdown",
   "metadata": {},
   "source": [
    "## 2. f you detect outliers in the TOTAL_REVENUE and TOTAL_EXPENDITURE variables, apply the techniques you learned in this checkpoint to eliminate them and validate that there's no outlier values after you handled them."
   ]
  },
  {
   "cell_type": "code",
   "execution_count": 57,
   "metadata": {},
   "outputs": [],
   "source": [
    "from scipy.stats.mstats import winsorize\n",
    "winsorized_revenue = winsorize(us2['total_revenue'], (0, 0.05))\n",
    "winsorized_exp = winsorize(us2['total_expenditure'], (0, 0.05))"
   ]
  },
  {
   "cell_type": "code",
   "execution_count": 60,
   "metadata": {},
   "outputs": [
    {
     "data": {
      "text/plain": [
       "Text(0.5, 1.0, 'WINSORIZED EXPENDITURE')"
      ]
     },
     "execution_count": 60,
     "metadata": {},
     "output_type": "execute_result"
    },
    {
     "data": {
      "image/png": "[encoded data removed]",
      "text/plain": [
       "<Figure size 720x360 with 2 Axes>"
      ]
     },
     "metadata": {
      "needs_background": "light"
     },
     "output_type": "display_data"
    }
   ],
   "source": [
    "plt.figure(figsize = (10,5))\n",
    "plt.subplot(1,2,1)\n",
    "plt.boxplot(winsorized_revenue)\n",
    "plt.title('WINSORIZED REVENUE')\n",
    "plt.subplot(1,2,2)\n",
    "plt.boxplot(winsorized_exp)\n",
    "plt.title('WINSORIZED EXPENDITURE')"
   ]
  },
  {
   "cell_type": "markdown",
   "metadata": {},
   "source": [
    "## 3.Create another variable by subtracting the original TOTAL_EXPENDITURE from TOTAL_REVENUE (before you eliminated the outliers). You can think of it as a kind of budget deficit in education. Do you find any outlier values in this new variable? If so, eliminate them using the technique you think most suitable."
   ]
  },
  {
   "cell_type": "code",
   "execution_count": 61,
   "metadata": {},
   "outputs": [],
   "source": [
    "us2['budget_deficit'] =  us2['total_revenue']-us2['total_expenditure']"
   ]
  },
  {
   "cell_type": "code",
   "execution_count": 62,
   "metadata": {},
   "outputs": [
    {
     "data": {
      "text/html": [
       "<div>\n",
       "<style scoped>\n",
       "    .dataframe tbody tr th:only-of-type {\n",
       "        vertical-align: middle;\n",
       "    }\n",
       "\n",
       "    .dataframe tbody tr th {\n",
       "        vertical-align: top;\n",
       "    }\n",
       "\n",
       "    .dataframe thead th {\n",
       "        text-align: right;\n",
       "    }\n",
       "</style>\n",
       "<table border=\"1\" class=\"dataframe\">\n",
       "  <thead>\n",
       "    <tr style=\"text-align: right;\">\n",
       "      <th></th>\n",
       "      <th>primary_key</th>\n",
       "      <th>state</th>\n",
       "      <th>year</th>\n",
       "      <th>enroll</th>\n",
       "      <th>total_revenue</th>\n",
       "      <th>federal_revenue</th>\n",
       "      <th>state_revenue</th>\n",
       "      <th>local_revenue</th>\n",
       "      <th>total_expenditure</th>\n",
       "      <th>instruction_expenditure</th>\n",
       "      <th>...</th>\n",
       "      <th>capital_outlay_expenditure</th>\n",
       "      <th>grades_pk_g</th>\n",
       "      <th>grades_kg_g</th>\n",
       "      <th>grades_4_g</th>\n",
       "      <th>grades_8_g</th>\n",
       "      <th>grades_12_g</th>\n",
       "      <th>grades_1_8_g</th>\n",
       "      <th>grades_9_12_g</th>\n",
       "      <th>grades_all_g</th>\n",
       "      <th>budget_deficit</th>\n",
       "    </tr>\n",
       "  </thead>\n",
       "  <tbody>\n",
       "    <tr>\n",
       "      <th>0</th>\n",
       "      <td>1992_ALABAMA</td>\n",
       "      <td>ALABAMA</td>\n",
       "      <td>1992</td>\n",
       "      <td>NaN</td>\n",
       "      <td>2678885.0</td>\n",
       "      <td>304177.0</td>\n",
       "      <td>1659028.0</td>\n",
       "      <td>715680.0</td>\n",
       "      <td>2653798.0</td>\n",
       "      <td>1481703.0</td>\n",
       "      <td>...</td>\n",
       "      <td>174053.0</td>\n",
       "      <td>8224.0</td>\n",
       "      <td>55460.0</td>\n",
       "      <td>57948.0</td>\n",
       "      <td>58025.0</td>\n",
       "      <td>41167.0</td>\n",
       "      <td>471564.0</td>\n",
       "      <td>196386.0</td>\n",
       "      <td>676174.0</td>\n",
       "      <td>25087.0</td>\n",
       "    </tr>\n",
       "    <tr>\n",
       "      <th>1</th>\n",
       "      <td>1992_ALASKA</td>\n",
       "      <td>ALASKA</td>\n",
       "      <td>1992</td>\n",
       "      <td>NaN</td>\n",
       "      <td>1049591.0</td>\n",
       "      <td>106780.0</td>\n",
       "      <td>720711.0</td>\n",
       "      <td>222100.0</td>\n",
       "      <td>972488.0</td>\n",
       "      <td>498362.0</td>\n",
       "      <td>...</td>\n",
       "      <td>37451.0</td>\n",
       "      <td>2371.0</td>\n",
       "      <td>10152.0</td>\n",
       "      <td>9748.0</td>\n",
       "      <td>8789.0</td>\n",
       "      <td>6714.0</td>\n",
       "      <td>79117.0</td>\n",
       "      <td>30847.0</td>\n",
       "      <td>112335.0</td>\n",
       "      <td>77103.0</td>\n",
       "    </tr>\n",
       "    <tr>\n",
       "      <th>2</th>\n",
       "      <td>1992_ARIZONA</td>\n",
       "      <td>ARIZONA</td>\n",
       "      <td>1992</td>\n",
       "      <td>NaN</td>\n",
       "      <td>3258079.0</td>\n",
       "      <td>297888.0</td>\n",
       "      <td>1369815.0</td>\n",
       "      <td>1590376.0</td>\n",
       "      <td>3401580.0</td>\n",
       "      <td>1435908.0</td>\n",
       "      <td>...</td>\n",
       "      <td>609114.0</td>\n",
       "      <td>2544.0</td>\n",
       "      <td>53497.0</td>\n",
       "      <td>55433.0</td>\n",
       "      <td>49081.0</td>\n",
       "      <td>37410.0</td>\n",
       "      <td>437127.0</td>\n",
       "      <td>175210.0</td>\n",
       "      <td>614881.0</td>\n",
       "      <td>-143501.0</td>\n",
       "    </tr>\n",
       "    <tr>\n",
       "      <th>3</th>\n",
       "      <td>1992_ARKANSAS</td>\n",
       "      <td>ARKANSAS</td>\n",
       "      <td>1992</td>\n",
       "      <td>NaN</td>\n",
       "      <td>1711959.0</td>\n",
       "      <td>178571.0</td>\n",
       "      <td>958785.0</td>\n",
       "      <td>574603.0</td>\n",
       "      <td>1743022.0</td>\n",
       "      <td>964323.0</td>\n",
       "      <td>...</td>\n",
       "      <td>145212.0</td>\n",
       "      <td>808.0</td>\n",
       "      <td>33511.0</td>\n",
       "      <td>34632.0</td>\n",
       "      <td>36011.0</td>\n",
       "      <td>27651.0</td>\n",
       "      <td>281338.0</td>\n",
       "      <td>123113.0</td>\n",
       "      <td>405259.0</td>\n",
       "      <td>-31063.0</td>\n",
       "    </tr>\n",
       "    <tr>\n",
       "      <th>4</th>\n",
       "      <td>1992_CALIFORNIA</td>\n",
       "      <td>CALIFORNIA</td>\n",
       "      <td>1992</td>\n",
       "      <td>NaN</td>\n",
       "      <td>26260025.0</td>\n",
       "      <td>2072470.0</td>\n",
       "      <td>16546514.0</td>\n",
       "      <td>7641041.0</td>\n",
       "      <td>27138832.0</td>\n",
       "      <td>14358922.0</td>\n",
       "      <td>...</td>\n",
       "      <td>2044688.0</td>\n",
       "      <td>59067.0</td>\n",
       "      <td>431763.0</td>\n",
       "      <td>418418.0</td>\n",
       "      <td>363296.0</td>\n",
       "      <td>270675.0</td>\n",
       "      <td>3286034.0</td>\n",
       "      <td>1372011.0</td>\n",
       "      <td>4717112.0</td>\n",
       "      <td>-878807.0</td>\n",
       "    </tr>\n",
       "  </tbody>\n",
       "</table>\n",
       "<p>5 rows × 22 columns</p>\n",
       "</div>"
      ],
      "text/plain": [
       "       primary_key       state  year  enroll  total_revenue  federal_revenue  \\\n",
       "0     1992_ALABAMA     ALABAMA  1992     NaN      2678885.0         304177.0   \n",
       "1      1992_ALASKA      ALASKA  1992     NaN      1049591.0         106780.0   \n",
       "2     1992_ARIZONA     ARIZONA  1992     NaN      3258079.0         297888.0   \n",
       "3    1992_ARKANSAS    ARKANSAS  1992     NaN      1711959.0         178571.0   \n",
       "4  1992_CALIFORNIA  CALIFORNIA  1992     NaN     26260025.0        2072470.0   \n",
       "\n",
       "   state_revenue  local_revenue  total_expenditure  instruction_expenditure  \\\n",
       "0      1659028.0       715680.0          2653798.0                1481703.0   \n",
       "1       720711.0       222100.0           972488.0                 498362.0   \n",
       "2      1369815.0      1590376.0          3401580.0                1435908.0   \n",
       "3       958785.0       574603.0          1743022.0                 964323.0   \n",
       "4     16546514.0      7641041.0         27138832.0               14358922.0   \n",
       "\n",
       "   ...  capital_outlay_expenditure  grades_pk_g  grades_kg_g  grades_4_g  \\\n",
       "0  ...                    174053.0       8224.0      55460.0     57948.0   \n",
       "1  ...                     37451.0       2371.0      10152.0      9748.0   \n",
       "2  ...                    609114.0       2544.0      53497.0     55433.0   \n",
       "3  ...                    145212.0        808.0      33511.0     34632.0   \n",
       "4  ...                   2044688.0      59067.0     431763.0    418418.0   \n",
       "\n",
       "   grades_8_g  grades_12_g  grades_1_8_g  grades_9_12_g  grades_all_g  \\\n",
       "0     58025.0      41167.0      471564.0       196386.0      676174.0   \n",
       "1      8789.0       6714.0       79117.0        30847.0      112335.0   \n",
       "2     49081.0      37410.0      437127.0       175210.0      614881.0   \n",
       "3     36011.0      27651.0      281338.0       123113.0      405259.0   \n",
       "4    363296.0     270675.0     3286034.0      1372011.0     4717112.0   \n",
       "\n",
       "   budget_deficit  \n",
       "0         25087.0  \n",
       "1         77103.0  \n",
       "2       -143501.0  \n",
       "3        -31063.0  \n",
       "4       -878807.0  \n",
       "\n",
       "[5 rows x 22 columns]"
      ]
     },
     "execution_count": 62,
     "metadata": {},
     "output_type": "execute_result"
    }
   ],
   "source": [
    "us2.head()"
   ]
  },
  {
   "cell_type": "code",
   "execution_count": 69,
   "metadata": {},
   "outputs": [
    {
     "data": {
      "text/plain": [
       "{'whiskers': [<matplotlib.lines.Line2D at 0x1a248dbcf8>,\n",
       "  <matplotlib.lines.Line2D at 0x1a248dbf60>],\n",
       " 'caps': [<matplotlib.lines.Line2D at 0x1a249126a0>,\n",
       "  <matplotlib.lines.Line2D at 0x1a249129e8>],\n",
       " 'boxes': [<matplotlib.lines.Line2D at 0x1a248db908>],\n",
       " 'medians': [<matplotlib.lines.Line2D at 0x1a24912d30>],\n",
       " 'fliers': [<matplotlib.lines.Line2D at 0x1a24912e10>],\n",
       " 'means': []}"
      ]
     },
     "execution_count": 69,
     "metadata": {},
     "output_type": "execute_result"
    },
    {
     "data": {
      "image/png": "[encoded data removed]",
      "text/plain": [
       "<Figure size 432x288 with 1 Axes>"
      ]
     },
     "metadata": {
      "needs_background": "light"
     },
     "output_type": "display_data"
    }
   ],
   "source": [
    "plt.boxplot(us2['budget_deficit'])"
   ]
  },
  {
   "cell_type": "code",
   "execution_count": 77,
   "metadata": {},
   "outputs": [],
   "source": [
    "winsorized_budgetdeficit = winsorize(us2['budget_deficit'], (0.05,0.05))\n"
   ]
  },
  {
   "cell_type": "code",
   "execution_count": 80,
   "metadata": {},
   "outputs": [
    {
     "data": {
      "text/plain": [
       "{'whiskers': [<matplotlib.lines.Line2D at 0x1a23bb1d68>,\n",
       "  <matplotlib.lines.Line2D at 0x1a23bb7390>],\n",
       " 'caps': [<matplotlib.lines.Line2D at 0x1a23bb76d8>,\n",
       "  <matplotlib.lines.Line2D at 0x1a23bb7a20>],\n",
       " 'boxes': [<matplotlib.lines.Line2D at 0x1a23bb1c18>],\n",
       " 'medians': [<matplotlib.lines.Line2D at 0x1a23bb7d68>],\n",
       " 'fliers': [<matplotlib.lines.Line2D at 0x1a23bb7e48>],\n",
       " 'means': []}"
      ]
     },
     "execution_count": 80,
     "metadata": {},
     "output_type": "execute_result"
    },
    {
     "data": {
      "image/png": "[encoded data removed]",
      "text/plain": [
       "<Figure size 432x288 with 1 Axes>"
      ]
     },
     "metadata": {
      "needs_background": "light"
     },
     "output_type": "display_data"
    }
   ],
   "source": [
    "plt.boxplot(winsorized_budgetdeficit, whis =5)"
   ]
  },
  {
   "cell_type": "code",
   "execution_count": 84,
   "metadata": {},
   "outputs": [],
   "source": [
    "new_bud = winsorized_revenue - winsorized_exp"
   ]
  },
  {
   "cell_type": "code",
   "execution_count": 85,
   "metadata": {},
   "outputs": [
    {
     "data": {
      "text/plain": [
       "{'whiskers': [<matplotlib.lines.Line2D at 0x1a243abf60>,\n",
       "  <matplotlib.lines.Line2D at 0x1a243abf28>],\n",
       " 'caps': [<matplotlib.lines.Line2D at 0x1a243d1630>,\n",
       "  <matplotlib.lines.Line2D at 0x1a243d1978>],\n",
       " 'boxes': [<matplotlib.lines.Line2D at 0x1a243abb70>],\n",
       " 'medians': [<matplotlib.lines.Line2D at 0x1a243d1cc0>],\n",
       " 'fliers': [<matplotlib.lines.Line2D at 0x1a243d1da0>],\n",
       " 'means': []}"
      ]
     },
     "execution_count": 85,
     "metadata": {},
     "output_type": "execute_result"
    },
    {
     "data": {
      "image/png": "[encoded data removed]",
      "text/plain": [
       "<Figure size 432x288 with 1 Axes>"
      ]
     },
     "metadata": {
      "needs_background": "light"
     },
     "output_type": "display_data"
    }
   ],
   "source": [
    "plt.boxplot(new_bud)"
   ]
  },
  {
   "cell_type": "code",
   "execution_count": 86,
   "metadata": {},
   "outputs": [],
   "source": [
    "wins_new_bud = winsorize(new_bud, (0.05, 0.05))"
   ]
  },
  {
   "cell_type": "code",
   "execution_count": 88,
   "metadata": {},
   "outputs": [
    {
     "data": {
      "text/plain": [
       "{'whiskers': [<matplotlib.lines.Line2D at 0x1a23f39278>,\n",
       "  <matplotlib.lines.Line2D at 0x1a23f27320>],\n",
       " 'caps': [<matplotlib.lines.Line2D at 0x1a23f27438>,\n",
       "  <matplotlib.lines.Line2D at 0x1a23f3d4a8>],\n",
       " 'boxes': [<matplotlib.lines.Line2D at 0x1a23f39390>],\n",
       " 'medians': [<matplotlib.lines.Line2D at 0x1a23f3d160>],\n",
       " 'fliers': [<matplotlib.lines.Line2D at 0x1a23f3d198>],\n",
       " 'means': []}"
      ]
     },
     "execution_count": 88,
     "metadata": {},
     "output_type": "execute_result"
    },
    {
     "data": {
      "image/png": "[encoded data removed]",
      "text/plain": [
       "<Figure size 432x288 with 1 Axes>"
      ]
     },
     "metadata": {
      "needs_background": "light"
     },
     "output_type": "display_data"
    }
   ],
   "source": [
    "plt.boxplot(wins_new_bud, whis = 5)"
   ]
  },
  {
   "cell_type": "markdown",
   "metadata": {},
   "source": [
    "## 5. Compare some basic descriptive statistics of the budget variables you end up with in the 3rd and the 4th questions. Do you see any differences?"
   ]
  },
  {
   "cell_type": "code",
   "execution_count": 90,
   "metadata": {},
   "outputs": [],
   "source": [
    "budget_deficit = us2['budget_deficit']"
   ]
  },
  {
   "cell_type": "code",
   "execution_count": 92,
   "metadata": {},
   "outputs": [
    {
     "data": {
      "text/html": [
       "<div>\n",
       "<style scoped>\n",
       "    .dataframe tbody tr th:only-of-type {\n",
       "        vertical-align: middle;\n",
       "    }\n",
       "\n",
       "    .dataframe tbody tr th {\n",
       "        vertical-align: top;\n",
       "    }\n",
       "\n",
       "    .dataframe thead th {\n",
       "        text-align: right;\n",
       "    }\n",
       "</style>\n",
       "<table border=\"1\" class=\"dataframe\">\n",
       "  <thead>\n",
       "    <tr style=\"text-align: right;\">\n",
       "      <th></th>\n",
       "      <th>original_budget</th>\n",
       "      <th>winsorized_budget1</th>\n",
       "      <th>winsorized_budget2</th>\n",
       "    </tr>\n",
       "  </thead>\n",
       "  <tbody>\n",
       "    <tr>\n",
       "      <th>count</th>\n",
       "      <td>1.492000e+03</td>\n",
       "      <td>1492.000000</td>\n",
       "      <td>1492.000000</td>\n",
       "    </tr>\n",
       "    <tr>\n",
       "      <th>mean</th>\n",
       "      <td>-3.209622e+04</td>\n",
       "      <td>-5852.697051</td>\n",
       "      <td>5979.659517</td>\n",
       "    </tr>\n",
       "    <tr>\n",
       "      <th>std</th>\n",
       "      <td>5.607748e+05</td>\n",
       "      <td>315970.963721</td>\n",
       "      <td>268064.378117</td>\n",
       "    </tr>\n",
       "    <tr>\n",
       "      <th>min</th>\n",
       "      <td>-5.487742e+06</td>\n",
       "      <td>-803208.000000</td>\n",
       "      <td>-509360.000000</td>\n",
       "    </tr>\n",
       "    <tr>\n",
       "      <th>25%</th>\n",
       "      <td>-1.368148e+05</td>\n",
       "      <td>-136814.750000</td>\n",
       "      <td>-152551.500000</td>\n",
       "    </tr>\n",
       "    <tr>\n",
       "      <th>50%</th>\n",
       "      <td>-5.355000e+02</td>\n",
       "      <td>-535.500000</td>\n",
       "      <td>-3443.500000</td>\n",
       "    </tr>\n",
       "    <tr>\n",
       "      <th>75%</th>\n",
       "      <td>1.876285e+05</td>\n",
       "      <td>187628.500000</td>\n",
       "      <td>168423.500000</td>\n",
       "    </tr>\n",
       "    <tr>\n",
       "      <th>max</th>\n",
       "      <td>3.897129e+06</td>\n",
       "      <td>442351.000000</td>\n",
       "      <td>414013.000000</td>\n",
       "    </tr>\n",
       "  </tbody>\n",
       "</table>\n",
       "</div>"
      ],
      "text/plain": [
       "       original_budget  winsorized_budget1  winsorized_budget2\n",
       "count     1.492000e+03         1492.000000         1492.000000\n",
       "mean     -3.209622e+04        -5852.697051         5979.659517\n",
       "std       5.607748e+05       315970.963721       268064.378117\n",
       "min      -5.487742e+06      -803208.000000      -509360.000000\n",
       "25%      -1.368148e+05      -136814.750000      -152551.500000\n",
       "50%      -5.355000e+02         -535.500000        -3443.500000\n",
       "75%       1.876285e+05       187628.500000       168423.500000\n",
       "max       3.897129e+06       442351.000000       414013.000000"
      ]
     },
     "execution_count": 92,
     "metadata": {},
     "output_type": "execute_result"
    }
   ],
   "source": [
    "pd.DataFrame({'original_budget': budget_deficit, 'winsorized_budget1': winsorized_budgetdeficit, 'winsorized_budget2': wins_new_bud}).describe()"
   ]
  },
  {
   "cell_type": "markdown",
   "metadata": {},
   "source": [
    "## 6. If our variable of interest is the budget deficit variable, which method do you think is the appropriate in dealing with the outliers in this variable: the method in the 3rd question or the one in the 4th question?"
   ]
  },
  {
   "cell_type": "markdown",
   "metadata": {},
   "source": [
    "### Sometimes, differencing may help us to eliminate the outliers. So, it's better to first create a variable from the originals and then to apply outlier elimination techniques next. Hence, the approach in the third question is more desirable in most of the cases.\n"
   ]
  },
  {
   "cell_type": "code",
   "execution_count": null,
   "metadata": {},
   "outputs": [],
   "source": []
  }
 ],
 "metadata": {
  "kernelspec": {
   "display_name": "Python 3",
   "language": "python",
   "name": "python3"
  },
  "language_info": {
   "codemirror_mode": {
    "name": "ipython",
    "version": 3
   },
   "file_extension": ".py",
   "mimetype": "text/x-python",
   "name": "python",
   "nbconvert_exporter": "python",
   "pygments_lexer": "ipython3",
   "version": "3.7.3"
  }
 },
 "nbformat": 4,
 "nbformat_minor": 2
}
