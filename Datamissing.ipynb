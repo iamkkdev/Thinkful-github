{
 "cells": [
  {
   "cell_type": "code",
   "execution_count": 1,
   "metadata": {},
   "outputs": [],
   "source": [
    "%matplotlib inline\n",
    "import matplotlib.pyplot as plt\n",
    "import pandas as pd\n",
    "import numpy as np\n",
    "from sqlalchemy import create_engine\n",
    "import warnings\n",
    "warnings.filterwarnings('ignore')"
   ]
  },
  {
   "cell_type": "code",
   "execution_count": 2,
   "metadata": {},
   "outputs": [],
   "source": [
    "postgres_user = 'dsbc_student'\n",
    "postgres_pw = '7*.8G9QH21'\n",
    "postgres_host = '142.93.121.174'\n",
    "postgres_port = '5432'\n",
    "postgres_db = 'useducation'\n",
    "\n",
    "engine = create_engine('postgresql://{}:{}@{}:{}/{}'.format(postgres_user, postgres_pw, postgres_host,\n",
    "                                                           postgres_port, postgres_db))\n",
    "usaed_df = pd.read_sql_query('select * from useducation', con = engine)"
   ]
  },
  {
   "cell_type": "markdown",
   "metadata": {},
   "source": [
    "## Determine all the variable types and find the fraction of the missing values for each variable."
   ]
  },
  {
   "cell_type": "code",
   "execution_count": 3,
   "metadata": {},
   "outputs": [
    {
     "name": "stdout",
     "output_type": "stream",
     "text": [
      "<class 'pandas.core.frame.DataFrame'>\n",
      "RangeIndex: 1492 entries, 0 to 1491\n",
      "Data columns (total 25 columns):\n",
      "PRIMARY_KEY                     1492 non-null object\n",
      "STATE                           1492 non-null object\n",
      "YEAR                            1492 non-null int64\n",
      "ENROLL                          1229 non-null float64\n",
      "TOTAL_REVENUE                   1280 non-null float64\n",
      "FEDERAL_REVENUE                 1280 non-null float64\n",
      "STATE_REVENUE                   1280 non-null float64\n",
      "LOCAL_REVENUE                   1280 non-null float64\n",
      "TOTAL_EXPENDITURE               1280 non-null float64\n",
      "INSTRUCTION_EXPENDITURE         1280 non-null float64\n",
      "SUPPORT_SERVICES_EXPENDITURE    1280 non-null float64\n",
      "OTHER_EXPENDITURE               1229 non-null float64\n",
      "CAPITAL_OUTLAY_EXPENDITURE      1280 non-null float64\n",
      "GRADES_PK_G                     1319 non-null float64\n",
      "GRADES_KG_G                     1360 non-null float64\n",
      "GRADES_4_G                      1361 non-null float64\n",
      "GRADES_8_G                      1361 non-null float64\n",
      "GRADES_12_G                     1361 non-null float64\n",
      "GRADES_1_8_G                    1361 non-null float64\n",
      "GRADES_9_12_G                   1361 non-null float64\n",
      "GRADES_ALL_G                    1319 non-null float64\n",
      "AVG_MATH_4_SCORE                536 non-null float64\n",
      "AVG_MATH_8_SCORE                532 non-null float64\n",
      "AVG_READING_4_SCORE             533 non-null float64\n",
      "AVG_READING_8_SCORE             498 non-null float64\n",
      "dtypes: float64(22), int64(1), object(2)\n",
      "memory usage: 291.5+ KB\n"
     ]
    }
   ],
   "source": [
    "usaed_df.info()"
   ]
  },
  {
   "cell_type": "markdown",
   "metadata": {},
   "source": [
    "## Missing value percentages"
   ]
  },
  {
   "cell_type": "code",
   "execution_count": 4,
   "metadata": {},
   "outputs": [
    {
     "data": {
      "text/plain": [
       "PRIMARY_KEY                      0.000000\n",
       "STATE                            0.000000\n",
       "YEAR                             0.000000\n",
       "ENROLL                          17.627346\n",
       "TOTAL_REVENUE                   14.209115\n",
       "FEDERAL_REVENUE                 14.209115\n",
       "STATE_REVENUE                   14.209115\n",
       "LOCAL_REVENUE                   14.209115\n",
       "TOTAL_EXPENDITURE               14.209115\n",
       "INSTRUCTION_EXPENDITURE         14.209115\n",
       "SUPPORT_SERVICES_EXPENDITURE    14.209115\n",
       "OTHER_EXPENDITURE               17.627346\n",
       "CAPITAL_OUTLAY_EXPENDITURE      14.209115\n",
       "GRADES_PK_G                     11.595174\n",
       "GRADES_KG_G                      8.847185\n",
       "GRADES_4_G                       8.780161\n",
       "GRADES_8_G                       8.780161\n",
       "GRADES_12_G                      8.780161\n",
       "GRADES_1_8_G                     8.780161\n",
       "GRADES_9_12_G                    8.780161\n",
       "GRADES_ALL_G                    11.595174\n",
       "AVG_MATH_4_SCORE                64.075067\n",
       "AVG_MATH_8_SCORE                64.343164\n",
       "AVG_READING_4_SCORE             64.276139\n",
       "AVG_READING_8_SCORE             66.621984\n",
       "dtype: float64"
      ]
     },
     "execution_count": 4,
     "metadata": {},
     "output_type": "execute_result"
    }
   ],
   "source": [
    "usaed_df.isnull().sum()*100/usaed_df.isnull().count()"
   ]
  },
  {
   "cell_type": "markdown",
   "metadata": {},
   "source": [
    "## Last 4 columns have more than 60% of missing data and we will not be using those variables in the data"
   ]
  },
  {
   "cell_type": "markdown",
   "metadata": {},
   "source": [
    "## Notice that the data has a time dimension (year). For this assignment, forget about time and treat all the observations as if they're from the same year. Choose a strategy to deal with the missing values for each variables. For which variables would filling in the missing values with some value make sense? For which might tossing out the records entirely make sense?"
   ]
  },
  {
   "cell_type": "code",
   "execution_count": 5,
   "metadata": {},
   "outputs": [],
   "source": [
    "column_list = [\"ENROLL\", \"TOTAL_REVENUE\", \"FEDERAL_REVENUE\", \n",
    "             \"STATE_REVENUE\", \"LOCAL_REVENUE\", \"TOTAL_EXPENDITURE\", \n",
    "             \"INSTRUCTION_EXPENDITURE\", \"SUPPORT_SERVICES_EXPENDITURE\",\n",
    "             \"OTHER_EXPENDITURE\", \"CAPITAL_OUTLAY_EXPENDITURE\", \"GRADES_PK_G\", \n",
    "             \"GRADES_KG_G\", \"GRADES_4_G\", \"GRADES_8_G\", \"GRADES_12_G\", \"GRADES_1_8_G\", \n",
    "             \"GRADES_9_12_G\", \"GRADES_ALL_G\"]"
   ]
  },
  {
   "cell_type": "code",
   "execution_count": 6,
   "metadata": {},
   "outputs": [],
   "source": [
    "us_ed_df = usaed_df.copy()"
   ]
  },
  {
   "cell_type": "code",
   "execution_count": 7,
   "metadata": {},
   "outputs": [],
   "source": [
    "for col in column_list:\n",
    "    us_ed_df.loc[:, col] = us_ed_df.loc[:, col].fillna(us_ed_df.loc[:, col].mean())\n",
    "    "
   ]
  },
  {
   "cell_type": "code",
   "execution_count": 8,
   "metadata": {},
   "outputs": [
    {
     "data": {
      "text/plain": [
       "PRIMARY_KEY                       0\n",
       "STATE                             0\n",
       "YEAR                              0\n",
       "ENROLL                            0\n",
       "TOTAL_REVENUE                     0\n",
       "FEDERAL_REVENUE                   0\n",
       "STATE_REVENUE                     0\n",
       "LOCAL_REVENUE                     0\n",
       "TOTAL_EXPENDITURE                 0\n",
       "INSTRUCTION_EXPENDITURE           0\n",
       "SUPPORT_SERVICES_EXPENDITURE      0\n",
       "OTHER_EXPENDITURE                 0\n",
       "CAPITAL_OUTLAY_EXPENDITURE        0\n",
       "GRADES_PK_G                       0\n",
       "GRADES_KG_G                       0\n",
       "GRADES_4_G                        0\n",
       "GRADES_8_G                        0\n",
       "GRADES_12_G                       0\n",
       "GRADES_1_8_G                      0\n",
       "GRADES_9_12_G                     0\n",
       "GRADES_ALL_G                      0\n",
       "AVG_MATH_4_SCORE                956\n",
       "AVG_MATH_8_SCORE                960\n",
       "AVG_READING_4_SCORE             959\n",
       "AVG_READING_8_SCORE             994\n",
       "dtype: int64"
      ]
     },
     "execution_count": 8,
     "metadata": {},
     "output_type": "execute_result"
    }
   ],
   "source": [
    "us_ed_df.isnull().sum()"
   ]
  },
  {
   "cell_type": "code",
   "execution_count": 9,
   "metadata": {},
   "outputs": [
    {
     "data": {
      "text/plain": [
       "(1492, 25)"
      ]
     },
     "execution_count": 9,
     "metadata": {},
     "output_type": "execute_result"
    }
   ],
   "source": [
    "us_ed_df.shape"
   ]
  },
  {
   "cell_type": "code",
   "execution_count": 10,
   "metadata": {},
   "outputs": [],
   "source": [
    "us_ed_df.drop(['AVG_MATH_4_SCORE', 'AVG_MATH_8_SCORE', 'AVG_READING_4_SCORE', 'AVG_READING_8_SCORE'], axis =1, inplace = True)"
   ]
  },
  {
   "cell_type": "code",
   "execution_count": 11,
   "metadata": {},
   "outputs": [
    {
     "name": "stdout",
     "output_type": "stream",
     "text": [
      "<class 'pandas.core.frame.DataFrame'>\n",
      "RangeIndex: 1492 entries, 0 to 1491\n",
      "Data columns (total 21 columns):\n",
      "PRIMARY_KEY                     1492 non-null object\n",
      "STATE                           1492 non-null object\n",
      "YEAR                            1492 non-null int64\n",
      "ENROLL                          1492 non-null float64\n",
      "TOTAL_REVENUE                   1492 non-null float64\n",
      "FEDERAL_REVENUE                 1492 non-null float64\n",
      "STATE_REVENUE                   1492 non-null float64\n",
      "LOCAL_REVENUE                   1492 non-null float64\n",
      "TOTAL_EXPENDITURE               1492 non-null float64\n",
      "INSTRUCTION_EXPENDITURE         1492 non-null float64\n",
      "SUPPORT_SERVICES_EXPENDITURE    1492 non-null float64\n",
      "OTHER_EXPENDITURE               1492 non-null float64\n",
      "CAPITAL_OUTLAY_EXPENDITURE      1492 non-null float64\n",
      "GRADES_PK_G                     1492 non-null float64\n",
      "GRADES_KG_G                     1492 non-null float64\n",
      "GRADES_4_G                      1492 non-null float64\n",
      "GRADES_8_G                      1492 non-null float64\n",
      "GRADES_12_G                     1492 non-null float64\n",
      "GRADES_1_8_G                    1492 non-null float64\n",
      "GRADES_9_12_G                   1492 non-null float64\n",
      "GRADES_ALL_G                    1492 non-null float64\n",
      "dtypes: float64(18), int64(1), object(2)\n",
      "memory usage: 244.9+ KB\n"
     ]
    }
   ],
   "source": [
    "us_ed_df.info()"
   ]
  },
  {
   "cell_type": "markdown",
   "metadata": {},
   "source": [
    "## Now, take into account the time factor. Replicate your second answer but this time fill in the missing values by using a statistic that is calculated within the year of the observation. For example, if you want to fill a missing value for a variable with the mean of that variable, calculate the mean by using only the observations for that specific year."
   ]
  },
  {
   "cell_type": "code",
   "execution_count": 12,
   "metadata": {},
   "outputs": [],
   "source": [
    "educ_df = usaed_df.copy()\n",
    "years = educ_df['YEAR'].unique() "
   ]
  },
  {
   "cell_type": "code",
   "execution_count": 13,
   "metadata": {},
   "outputs": [
    {
     "data": {
      "text/plain": [
       "array([1992, 2001, 1993, 2016, 1994, 1995, 1996, 1997, 1998, 1999, 2017,\n",
       "       2000, 2002, 2003, 2004, 2005, 2006, 2007, 2008, 2009, 2010, 2011,\n",
       "       2012, 2013, 2014, 2015])"
      ]
     },
     "execution_count": 13,
     "metadata": {},
     "output_type": "execute_result"
    }
   ],
   "source": [
    "years"
   ]
  },
  {
   "cell_type": "code",
   "execution_count": 14,
   "metadata": {},
   "outputs": [],
   "source": [
    "for col in column_list:\n",
    "    for year in years:\n",
    "        educ_df.loc[educ_df['YEAR'] == year, col ] = educ_df.loc[educ_df['YEAR'] == year, col].fillna(\n",
    "            educ_df[educ_df['YEAR'] == year][ col].mean())"
   ]
  },
  {
   "cell_type": "code",
   "execution_count": 15,
   "metadata": {},
   "outputs": [
    {
     "name": "stdout",
     "output_type": "stream",
     "text": [
      "<class 'pandas.core.frame.DataFrame'>\n",
      "RangeIndex: 1492 entries, 0 to 1491\n",
      "Data columns (total 25 columns):\n",
      "PRIMARY_KEY                     1492 non-null object\n",
      "STATE                           1492 non-null object\n",
      "YEAR                            1492 non-null int64\n",
      "ENROLL                          1385 non-null float64\n",
      "TOTAL_REVENUE                   1441 non-null float64\n",
      "FEDERAL_REVENUE                 1441 non-null float64\n",
      "STATE_REVENUE                   1441 non-null float64\n",
      "LOCAL_REVENUE                   1441 non-null float64\n",
      "TOTAL_EXPENDITURE               1441 non-null float64\n",
      "INSTRUCTION_EXPENDITURE         1441 non-null float64\n",
      "SUPPORT_SERVICES_EXPENDITURE    1441 non-null float64\n",
      "OTHER_EXPENDITURE               1385 non-null float64\n",
      "CAPITAL_OUTLAY_EXPENDITURE      1441 non-null float64\n",
      "GRADES_PK_G                     1390 non-null float64\n",
      "GRADES_KG_G                     1390 non-null float64\n",
      "GRADES_4_G                      1390 non-null float64\n",
      "GRADES_8_G                      1390 non-null float64\n",
      "GRADES_12_G                     1390 non-null float64\n",
      "GRADES_1_8_G                    1390 non-null float64\n",
      "GRADES_9_12_G                   1390 non-null float64\n",
      "GRADES_ALL_G                    1390 non-null float64\n",
      "AVG_MATH_4_SCORE                536 non-null float64\n",
      "AVG_MATH_8_SCORE                532 non-null float64\n",
      "AVG_READING_4_SCORE             533 non-null float64\n",
      "AVG_READING_8_SCORE             498 non-null float64\n",
      "dtypes: float64(22), int64(1), object(2)\n",
      "memory usage: 291.5+ KB\n"
     ]
    }
   ],
   "source": [
    "educ_df.info()"
   ]
  },
  {
   "cell_type": "markdown",
   "metadata": {},
   "source": [
    "##  This time, fill in the missing values using interpolation (extrapolation)."
   ]
  },
  {
   "cell_type": "code",
   "execution_count": 16,
   "metadata": {},
   "outputs": [],
   "source": [
    "us2 = usaed_df.copy()"
   ]
  },
  {
   "cell_type": "code",
   "execution_count": 17,
   "metadata": {},
   "outputs": [],
   "source": [
    "for col in column_list:\n",
    "    us2.loc[:, col] = us2.loc[:, col].fillna(us2.loc[:,col].interpolate())"
   ]
  },
  {
   "cell_type": "code",
   "execution_count": 18,
   "metadata": {},
   "outputs": [
    {
     "name": "stdout",
     "output_type": "stream",
     "text": [
      "<class 'pandas.core.frame.DataFrame'>\n",
      "RangeIndex: 1492 entries, 0 to 1491\n",
      "Data columns (total 25 columns):\n",
      "PRIMARY_KEY                     1492 non-null object\n",
      "STATE                           1492 non-null object\n",
      "YEAR                            1492 non-null int64\n",
      "ENROLL                          1456 non-null float64\n",
      "TOTAL_REVENUE                   1492 non-null float64\n",
      "FEDERAL_REVENUE                 1492 non-null float64\n",
      "STATE_REVENUE                   1492 non-null float64\n",
      "LOCAL_REVENUE                   1492 non-null float64\n",
      "TOTAL_EXPENDITURE               1492 non-null float64\n",
      "INSTRUCTION_EXPENDITURE         1492 non-null float64\n",
      "SUPPORT_SERVICES_EXPENDITURE    1492 non-null float64\n",
      "OTHER_EXPENDITURE               1456 non-null float64\n",
      "CAPITAL_OUTLAY_EXPENDITURE      1492 non-null float64\n",
      "GRADES_PK_G                     1492 non-null float64\n",
      "GRADES_KG_G                     1492 non-null float64\n",
      "GRADES_4_G                      1492 non-null float64\n",
      "GRADES_8_G                      1492 non-null float64\n",
      "GRADES_12_G                     1492 non-null float64\n",
      "GRADES_1_8_G                    1492 non-null float64\n",
      "GRADES_9_12_G                   1492 non-null float64\n",
      "GRADES_ALL_G                    1492 non-null float64\n",
      "AVG_MATH_4_SCORE                536 non-null float64\n",
      "AVG_MATH_8_SCORE                532 non-null float64\n",
      "AVG_READING_4_SCORE             533 non-null float64\n",
      "AVG_READING_8_SCORE             498 non-null float64\n",
      "dtypes: float64(22), int64(1), object(2)\n",
      "memory usage: 291.5+ KB\n"
     ]
    }
   ],
   "source": [
    "us2.info()"
   ]
  },
  {
   "cell_type": "code",
   "execution_count": 19,
   "metadata": {},
   "outputs": [],
   "source": [
    "education4_df = usaed_df.copy()"
   ]
  },
  {
   "cell_type": "code",
   "execution_count": 20,
   "metadata": {},
   "outputs": [],
   "source": [
    "for col in column_list:\n",
    "    education4_df.loc[:, col] = education4_df.loc[:, col].interpolate()"
   ]
  },
  {
   "cell_type": "code",
   "execution_count": 21,
   "metadata": {},
   "outputs": [
    {
     "name": "stdout",
     "output_type": "stream",
     "text": [
      "<class 'pandas.core.frame.DataFrame'>\n",
      "RangeIndex: 1492 entries, 0 to 1491\n",
      "Data columns (total 25 columns):\n",
      "PRIMARY_KEY                     1492 non-null object\n",
      "STATE                           1492 non-null object\n",
      "YEAR                            1492 non-null int64\n",
      "ENROLL                          1456 non-null float64\n",
      "TOTAL_REVENUE                   1492 non-null float64\n",
      "FEDERAL_REVENUE                 1492 non-null float64\n",
      "STATE_REVENUE                   1492 non-null float64\n",
      "LOCAL_REVENUE                   1492 non-null float64\n",
      "TOTAL_EXPENDITURE               1492 non-null float64\n",
      "INSTRUCTION_EXPENDITURE         1492 non-null float64\n",
      "SUPPORT_SERVICES_EXPENDITURE    1492 non-null float64\n",
      "OTHER_EXPENDITURE               1456 non-null float64\n",
      "CAPITAL_OUTLAY_EXPENDITURE      1492 non-null float64\n",
      "GRADES_PK_G                     1492 non-null float64\n",
      "GRADES_KG_G                     1492 non-null float64\n",
      "GRADES_4_G                      1492 non-null float64\n",
      "GRADES_8_G                      1492 non-null float64\n",
      "GRADES_12_G                     1492 non-null float64\n",
      "GRADES_1_8_G                    1492 non-null float64\n",
      "GRADES_9_12_G                   1492 non-null float64\n",
      "GRADES_ALL_G                    1492 non-null float64\n",
      "AVG_MATH_4_SCORE                536 non-null float64\n",
      "AVG_MATH_8_SCORE                532 non-null float64\n",
      "AVG_READING_4_SCORE             533 non-null float64\n",
      "AVG_READING_8_SCORE             498 non-null float64\n",
      "dtypes: float64(22), int64(1), object(2)\n",
      "memory usage: 291.5+ KB\n"
     ]
    }
   ],
   "source": [
    "education4_df.info()"
   ]
  },
  {
   "cell_type": "code",
   "execution_count": 22,
   "metadata": {},
   "outputs": [],
   "source": [
    "education4_df = usaed_df.copy()"
   ]
  },
  {
   "cell_type": "code",
   "execution_count": 23,
   "metadata": {},
   "outputs": [],
   "source": [
    "for col in column_list:\n",
    "    education4_df.loc[:, col] = education4_df.loc[:, col].interpolate(limit_direction = 'both')"
   ]
  },
  {
   "cell_type": "code",
   "execution_count": 24,
   "metadata": {},
   "outputs": [
    {
     "name": "stdout",
     "output_type": "stream",
     "text": [
      "<class 'pandas.core.frame.DataFrame'>\n",
      "RangeIndex: 1492 entries, 0 to 1491\n",
      "Data columns (total 25 columns):\n",
      "PRIMARY_KEY                     1492 non-null object\n",
      "STATE                           1492 non-null object\n",
      "YEAR                            1492 non-null int64\n",
      "ENROLL                          1492 non-null float64\n",
      "TOTAL_REVENUE                   1492 non-null float64\n",
      "FEDERAL_REVENUE                 1492 non-null float64\n",
      "STATE_REVENUE                   1492 non-null float64\n",
      "LOCAL_REVENUE                   1492 non-null float64\n",
      "TOTAL_EXPENDITURE               1492 non-null float64\n",
      "INSTRUCTION_EXPENDITURE         1492 non-null float64\n",
      "SUPPORT_SERVICES_EXPENDITURE    1492 non-null float64\n",
      "OTHER_EXPENDITURE               1492 non-null float64\n",
      "CAPITAL_OUTLAY_EXPENDITURE      1492 non-null float64\n",
      "GRADES_PK_G                     1492 non-null float64\n",
      "GRADES_KG_G                     1492 non-null float64\n",
      "GRADES_4_G                      1492 non-null float64\n",
      "GRADES_8_G                      1492 non-null float64\n",
      "GRADES_12_G                     1492 non-null float64\n",
      "GRADES_1_8_G                    1492 non-null float64\n",
      "GRADES_9_12_G                   1492 non-null float64\n",
      "GRADES_ALL_G                    1492 non-null float64\n",
      "AVG_MATH_4_SCORE                536 non-null float64\n",
      "AVG_MATH_8_SCORE                532 non-null float64\n",
      "AVG_READING_4_SCORE             533 non-null float64\n",
      "AVG_READING_8_SCORE             498 non-null float64\n",
      "dtypes: float64(22), int64(1), object(2)\n",
      "memory usage: 291.5+ KB\n"
     ]
    }
   ],
   "source": [
    "education4_df.info()"
   ]
  },
  {
   "cell_type": "markdown",
   "metadata": {},
   "source": [
    "##  Compare your results for the 2nd, 3rd, and 4th questions. Do you find any meaningful differences?"
   ]
  },
  {
   "cell_type": "code",
   "execution_count": 25,
   "metadata": {},
   "outputs": [
    {
     "name": "stdout",
     "output_type": "stream",
     "text": [
      "              YEAR        ENROLL  TOTAL_REVENUE  FEDERAL_REVENUE  \\\n",
      "count  1492.000000  1.492000e+03   1.492000e+03     1.492000e+03   \n",
      "mean   2004.433646  9.159308e+05   9.092082e+06     7.663723e+05   \n",
      "std       7.393983  9.667725e+05   1.087818e+07     1.060702e+06   \n",
      "min    1992.000000  4.386600e+04   4.656500e+05     3.102000e+04   \n",
      "25%    1998.000000  3.150940e+05   2.546261e+06     2.170200e+05   \n",
      "50%    2004.000000  8.204140e+05   6.359310e+06     5.167410e+05   \n",
      "75%    2011.000000  9.211780e+05   9.276958e+06     7.663723e+05   \n",
      "max    2017.000000  6.307022e+06   8.921726e+07     9.990221e+06   \n",
      "\n",
      "       STATE_REVENUE  LOCAL_REVENUE  TOTAL_EXPENDITURE  \\\n",
      "count   1.492000e+03   1.492000e+03       1.492000e+03   \n",
      "mean    4.216553e+06   4.109157e+06       9.196681e+06   \n",
      "std     5.133895e+06   5.078230e+06       1.109393e+07   \n",
      "min     0.000000e+00   2.209300e+04       4.816650e+05   \n",
      "25%     1.356434e+06   9.447962e+05       2.523968e+06   \n",
      "50%     3.127639e+06   2.697257e+06       6.520224e+06   \n",
      "75%     4.269811e+06   4.109157e+06       9.434922e+06   \n",
      "max     5.090457e+07   3.610526e+07       8.532013e+07   \n",
      "\n",
      "       INSTRUCTION_EXPENDITURE  SUPPORT_SERVICES_EXPENDITURE  \\\n",
      "count             1.492000e+03                  1.492000e+03   \n",
      "mean              4.762966e+06                  2.680331e+06   \n",
      "std               5.828468e+06                  3.105812e+06   \n",
      "min               2.655490e+05                  1.399630e+05   \n",
      "25%               1.343611e+06                  7.673688e+05   \n",
      "50%               3.358142e+06                  1.913844e+06   \n",
      "75%               4.938820e+06                  2.795888e+06   \n",
      "max               4.396452e+07                  2.605802e+07   \n",
      "\n",
      "       OTHER_EXPENDITURE  CAPITAL_OUTLAY_EXPENDITURE    GRADES_PK_G  \\\n",
      "count       1.492000e+03                1.492000e+03    1492.000000   \n",
      "mean        4.292046e+05                9.027693e+05   17601.614102   \n",
      "std         4.846832e+05                1.229564e+06   28221.111094   \n",
      "min         1.154100e+04                1.270800e+04       0.000000   \n",
      "25%         1.354282e+05                2.163398e+05    2449.000000   \n",
      "50%         3.672335e+05                6.482175e+05   10505.000000   \n",
      "75%         4.568915e+05                9.027693e+05   19149.250000   \n",
      "max         3.995951e+06                1.022366e+07  250911.000000   \n",
      "\n",
      "         GRADES_KG_G     GRADES_4_G     GRADES_8_G    GRADES_12_G  \\\n",
      "count    1492.000000    1492.000000    1492.000000    1492.000000   \n",
      "mean    63746.761029   64538.927259   64271.057311   54268.924320   \n",
      "std     76572.547833   76684.998585   75364.301721   64838.328605   \n",
      "min       544.000000     633.000000     437.000000     311.000000   \n",
      "25%     14016.000000   15195.500000   15682.750000   13437.000000   \n",
      "50%     48897.000000   49884.500000   49571.000000   39566.000000   \n",
      "75%     70372.750000   71814.250000   72131.000000   64616.250000   \n",
      "max    530531.000000  493415.000000  500143.000000  498403.000000   \n",
      "\n",
      "       GRADES_1_8_G  GRADES_9_12_G  GRADES_ALL_G  \n",
      "count  1.492000e+03   1.492000e+03  1.492000e+03  \n",
      "mean   5.192140e+05   2.470714e+05  8.024415e+05  \n",
      "std    6.147133e+05   2.938773e+05  9.126522e+05  \n",
      "min    4.878000e+03   1.808000e+03  7.254000e+03  \n",
      "25%    1.211522e+05   5.919750e+04  2.293578e+05  \n",
      "50%    4.015865e+05   1.817010e+05  6.473260e+05  \n",
      "75%    5.749118e+05   2.825390e+05  8.724220e+05  \n",
      "max    3.929869e+06   2.013687e+06  5.944746e+06  \n",
      "              YEAR        ENROLL  TOTAL_REVENUE  FEDERAL_REVENUE  \\\n",
      "count  1492.000000  1.385000e+03   1.441000e+03     1.441000e+03   \n",
      "mean   2004.433646  9.161654e+05   9.084108e+06     7.662749e+05   \n",
      "std       7.393983  1.003532e+06   1.110204e+07     1.085057e+06   \n",
      "min    1992.000000  4.386600e+04   4.656500e+05     3.102000e+04   \n",
      "25%    1998.000000  2.867590e+05   2.425600e+06     2.068530e+05   \n",
      "50%    2004.000000  7.374010e+05   5.778507e+06     4.461800e+05   \n",
      "75%    2011.000000  9.624880e+05   1.116863e+07     8.956420e+05   \n",
      "max    2017.000000  6.307022e+06   8.921726e+07     9.990221e+06   \n",
      "\n",
      "       STATE_REVENUE  LOCAL_REVENUE  TOTAL_EXPENDITURE  \\\n",
      "count   1.441000e+03   1.441000e+03       1.441000e+03   \n",
      "mean    4.213597e+06   4.104236e+06       9.190557e+06   \n",
      "std     5.237195e+06   5.181475e+06       1.132084e+07   \n",
      "min     0.000000e+00   2.209300e+04       4.816650e+05   \n",
      "25%     1.319582e+06   8.747060e+05       2.427316e+06   \n",
      "50%     2.857497e+06   2.398344e+06       5.858385e+06   \n",
      "75%     5.187230e+06   4.995971e+06       1.116970e+07   \n",
      "max     5.090457e+07   3.610526e+07       8.532013e+07   \n",
      "\n",
      "       INSTRUCTION_EXPENDITURE  SUPPORT_SERVICES_EXPENDITURE  \\\n",
      "count             1.441000e+03                  1.441000e+03   \n",
      "mean              4.758243e+06                  2.677770e+06   \n",
      "std               5.947042e+06                  3.170760e+06   \n",
      "min               2.655490e+05                  1.399630e+05   \n",
      "25%               1.306105e+06                  7.350360e+05   \n",
      "50%               3.033016e+06                  1.720824e+06   \n",
      "75%               5.672620e+06                  3.333043e+06   \n",
      "max               4.396452e+07                  2.605802e+07   \n",
      "\n",
      "       OTHER_EXPENDITURE  ...     GRADES_4_G     GRADES_8_G    GRADES_12_G  \\\n",
      "count       1.385000e+03  ...    1390.000000    1390.000000    1390.000000   \n",
      "mean        4.286507e+05  ...   64590.152441   64331.744106   54418.075582   \n",
      "std         5.041013e+05  ...   79451.944548   78083.976028   67187.337112   \n",
      "min         1.154100e+04  ...     633.000000     437.000000     311.000000   \n",
      "25%         1.199340e+05  ...   14190.500000   13698.250000   11161.750000   \n",
      "50%         3.070220e+05  ...   44909.500000   44756.500000   37541.500000   \n",
      "75%         5.223475e+05  ...   75149.750000   75016.250000   67026.000000   \n",
      "max         3.995951e+06  ...  493415.000000  500143.000000  498403.000000   \n",
      "\n",
      "       GRADES_1_8_G  GRADES_9_12_G  GRADES_ALL_G  AVG_MATH_4_SCORE  \\\n",
      "count  1.390000e+03   1.390000e+03  1.390000e+03        536.000000   \n",
      "mean   5.196200e+05   2.474932e+05  8.029178e+05        234.768293   \n",
      "std    6.368932e+05   3.044943e+05  9.456162e+05         10.221511   \n",
      "min    4.878000e+03   1.808000e+03  7.254000e+03        187.134670   \n",
      "25%    1.129712e+05   5.270300e+04  1.939785e+05        229.694352   \n",
      "50%    3.611705e+05   1.706525e+05  5.983920e+05        237.238552   \n",
      "75%    6.052242e+05   2.888522e+05  9.045562e+05        241.995486   \n",
      "max    3.929869e+06   2.013687e+06  5.944746e+06        253.420961   \n",
      "\n",
      "       AVG_MATH_8_SCORE  AVG_READING_4_SCORE  AVG_READING_8_SCORE  \n",
      "count        532.000000           533.000000           498.000000  \n",
      "mean         278.414711           218.866154           263.661132  \n",
      "std           10.159722             7.769616             6.803725  \n",
      "min          232.831510           178.557612           236.379102  \n",
      "25%          272.761598           214.663401           259.533171  \n",
      "50%          280.618803           220.416034           265.010912  \n",
      "75%          285.347428           223.999337           268.190121  \n",
      "max          300.568235           236.773867           280.499130  \n",
      "\n",
      "[8 rows x 23 columns]\n",
      "              YEAR        ENROLL  TOTAL_REVENUE  FEDERAL_REVENUE  \\\n",
      "count  1492.000000  1.456000e+03   1.492000e+03     1.492000e+03   \n",
      "mean   2004.433646  1.005984e+06   1.111164e+07     8.922691e+05   \n",
      "std       7.393983  1.009158e+06   1.200155e+07     1.106788e+06   \n",
      "min    1992.000000  4.386600e+04   4.656500e+05     3.102000e+04   \n",
      "25%    1998.000000  2.973995e+05   2.546261e+06     2.170200e+05   \n",
      "50%    2004.000000  7.540845e+05   6.351760e+06     5.165190e+05   \n",
      "75%    2011.000000  1.595024e+06   1.803650e+07     1.411794e+06   \n",
      "max    2017.000000  6.307022e+06   8.921726e+07     9.990221e+06   \n",
      "\n",
      "       STATE_REVENUE  LOCAL_REVENUE  TOTAL_EXPENDITURE  \\\n",
      "count   1.492000e+03   1.492000e+03       1.492000e+03   \n",
      "mean    4.913351e+06   5.306024e+06       1.114374e+07   \n",
      "std     5.423675e+06   5.900909e+06       1.212433e+07   \n",
      "min     0.000000e+00   2.209300e+04       4.816650e+05   \n",
      "25%     1.356434e+06   9.447962e+05       2.523968e+06   \n",
      "50%     3.119414e+06   2.650904e+06       6.499891e+06   \n",
      "75%     8.020633e+06   8.584803e+06       1.801704e+07   \n",
      "max     5.090457e+07   3.610526e+07       8.532013e+07   \n",
      "\n",
      "       INSTRUCTION_EXPENDITURE  SUPPORT_SERVICES_EXPENDITURE  \\\n",
      "count             1.492000e+03                  1.492000e+03   \n",
      "mean              5.792260e+06                  3.324275e+06   \n",
      "std               6.376549e+06                  3.500830e+06   \n",
      "min               2.655490e+05                  1.399630e+05   \n",
      "25%               1.343611e+06                  7.673688e+05   \n",
      "50%               3.318778e+06                  1.910412e+06   \n",
      "75%               9.130766e+06                  5.435244e+06   \n",
      "max               4.396452e+07                  2.605802e+07   \n",
      "\n",
      "       OTHER_EXPENDITURE  ...     GRADES_4_G     GRADES_8_G    GRADES_12_G  \\\n",
      "count       1.456000e+03  ...    1492.000000    1492.000000    1492.000000   \n",
      "mean        5.004288e+05  ...   59797.646113   59511.380027   50207.239276   \n",
      "std         5.253843e+05  ...   78406.899202   77123.573668   66309.867155   \n",
      "min         1.154100e+04  ...     633.000000     437.000000     311.000000   \n",
      "25%         1.279618e+05  ...   10117.250000   10252.000000    8951.000000   \n",
      "50%         3.415810e+05  ...   38280.500000   38114.500000   33279.000000   \n",
      "75%         8.490842e+05  ...   72310.250000   72598.250000   64920.500000   \n",
      "max         3.995951e+06  ...  493415.000000  500143.000000  498403.000000   \n",
      "\n",
      "       GRADES_1_8_G  GRADES_9_12_G  GRADES_ALL_G  AVG_MATH_4_SCORE  \\\n",
      "count  1.492000e+03   1.492000e+03  1.492000e+03        536.000000   \n",
      "mean   4.810102e+05   2.286678e+05  7.478782e+05        234.768293   \n",
      "std    6.286622e+05   3.005815e+05  9.291585e+05         10.221511   \n",
      "min    4.878000e+03   1.808000e+03  7.254000e+03        187.134670   \n",
      "25%    8.127325e+04   3.950675e+04  1.718665e+05        229.694352   \n",
      "50%    3.097340e+05   1.472355e+05  4.591248e+05        237.238552   \n",
      "75%    5.783400e+05   2.843505e+05  8.860948e+05        241.995486   \n",
      "max    3.929869e+06   2.013687e+06  5.944746e+06        253.420961   \n",
      "\n",
      "       AVG_MATH_8_SCORE  AVG_READING_4_SCORE  AVG_READING_8_SCORE  \n",
      "count        532.000000           533.000000           498.000000  \n",
      "mean         278.414711           218.866154           263.661132  \n",
      "std           10.159722             7.769616             6.803725  \n",
      "min          232.831510           178.557612           236.379102  \n",
      "25%          272.761598           214.663401           259.533171  \n",
      "50%          280.618803           220.416034           265.010912  \n",
      "75%          285.347428           223.999337           268.190121  \n",
      "max          300.568235           236.773867           280.499130  \n",
      "\n",
      "[8 rows x 23 columns]\n"
     ]
    },
    {
     "name": "stdout",
     "output_type": "stream",
     "text": [
      "              YEAR        ENROLL  TOTAL_REVENUE  FEDERAL_REVENUE  \\\n",
      "count  1492.000000  1.492000e+03   1.492000e+03     1.492000e+03   \n",
      "mean   2004.433646  9.838759e+05   1.111164e+07     8.922691e+05   \n",
      "std       7.393983  1.006773e+06   1.200155e+07     1.106788e+06   \n",
      "min    1992.000000  4.386600e+04   4.656500e+05     3.102000e+04   \n",
      "25%    1998.000000  2.821195e+05   2.546261e+06     2.170200e+05   \n",
      "50%    2004.000000  7.373935e+05   6.351760e+06     5.165190e+05   \n",
      "75%    2011.000000  1.595024e+06   1.803650e+07     1.411794e+06   \n",
      "max    2017.000000  6.307022e+06   8.921726e+07     9.990221e+06   \n",
      "\n",
      "       STATE_REVENUE  LOCAL_REVENUE  TOTAL_EXPENDITURE  \\\n",
      "count   1.492000e+03   1.492000e+03       1.492000e+03   \n",
      "mean    4.913351e+06   5.306024e+06       1.114374e+07   \n",
      "std     5.423675e+06   5.900909e+06       1.212433e+07   \n",
      "min     0.000000e+00   2.209300e+04       4.816650e+05   \n",
      "25%     1.356434e+06   9.447962e+05       2.523968e+06   \n",
      "50%     3.119414e+06   2.650904e+06       6.499891e+06   \n",
      "75%     8.020633e+06   8.584803e+06       1.801704e+07   \n",
      "max     5.090457e+07   3.610526e+07       8.532013e+07   \n",
      "\n",
      "       INSTRUCTION_EXPENDITURE  SUPPORT_SERVICES_EXPENDITURE  \\\n",
      "count             1.492000e+03                  1.492000e+03   \n",
      "mean              5.792260e+06                  3.324275e+06   \n",
      "std               6.376549e+06                  3.500830e+06   \n",
      "min               2.655490e+05                  1.399630e+05   \n",
      "25%               1.343611e+06                  7.673688e+05   \n",
      "50%               3.318778e+06                  1.910412e+06   \n",
      "75%               9.130766e+06                  5.435244e+06   \n",
      "max               4.396452e+07                  2.605802e+07   \n",
      "\n",
      "       OTHER_EXPENDITURE  ...     GRADES_4_G     GRADES_8_G    GRADES_12_G  \\\n",
      "count       1.492000e+03  ...    1492.000000    1492.000000    1492.000000   \n",
      "mean        4.889553e+05  ...   59797.646113   59511.380027   50207.239276   \n",
      "std         5.241104e+05  ...   78406.899202   77123.573668   66309.867155   \n",
      "min         1.154100e+04  ...     633.000000     437.000000     311.000000   \n",
      "25%         1.125620e+05  ...   10117.250000   10252.000000    8951.000000   \n",
      "50%         3.301260e+05  ...   38280.500000   38114.500000   33279.000000   \n",
      "75%         8.308385e+05  ...   72310.250000   72598.250000   64920.500000   \n",
      "max         3.995951e+06  ...  493415.000000  500143.000000  498403.000000   \n",
      "\n",
      "       GRADES_1_8_G  GRADES_9_12_G  GRADES_ALL_G  AVG_MATH_4_SCORE  \\\n",
      "count  1.492000e+03   1.492000e+03  1.492000e+03        536.000000   \n",
      "mean   4.810102e+05   2.286678e+05  7.478782e+05        234.768293   \n",
      "std    6.286622e+05   3.005815e+05  9.291585e+05         10.221511   \n",
      "min    4.878000e+03   1.808000e+03  7.254000e+03        187.134670   \n",
      "25%    8.127325e+04   3.950675e+04  1.718665e+05        229.694352   \n",
      "50%    3.097340e+05   1.472355e+05  4.591248e+05        237.238552   \n",
      "75%    5.783400e+05   2.843505e+05  8.860948e+05        241.995486   \n",
      "max    3.929869e+06   2.013687e+06  5.944746e+06        253.420961   \n",
      "\n",
      "       AVG_MATH_8_SCORE  AVG_READING_4_SCORE  AVG_READING_8_SCORE  \n",
      "count        532.000000           533.000000           498.000000  \n",
      "mean         278.414711           218.866154           263.661132  \n",
      "std           10.159722             7.769616             6.803725  \n",
      "min          232.831510           178.557612           236.379102  \n",
      "25%          272.761598           214.663401           259.533171  \n",
      "50%          280.618803           220.416034           265.010912  \n",
      "75%          285.347428           223.999337           268.190121  \n",
      "max          300.568235           236.773867           280.499130  \n",
      "\n",
      "[8 rows x 23 columns]\n"
     ]
    }
   ],
   "source": [
    "datasets = [us_ed_df , educ_df, us2, education4_df]\n",
    "for i in datasets:\n",
    "    print(i.describe())"
   ]
  },
  {
   "cell_type": "code",
   "execution_count": 26,
   "metadata": {},
   "outputs": [
    {
     "data": {
      "text/plain": [
       "Index(['PRIMARY_KEY', 'STATE', 'YEAR', 'ENROLL', 'TOTAL_REVENUE',\n",
       "       'FEDERAL_REVENUE', 'STATE_REVENUE', 'LOCAL_REVENUE',\n",
       "       'TOTAL_EXPENDITURE', 'INSTRUCTION_EXPENDITURE',\n",
       "       'SUPPORT_SERVICES_EXPENDITURE', 'OTHER_EXPENDITURE',\n",
       "       'CAPITAL_OUTLAY_EXPENDITURE', 'GRADES_PK_G', 'GRADES_KG_G',\n",
       "       'GRADES_4_G', 'GRADES_8_G', 'GRADES_12_G', 'GRADES_1_8_G',\n",
       "       'GRADES_9_12_G', 'GRADES_ALL_G', 'AVG_MATH_4_SCORE', 'AVG_MATH_8_SCORE',\n",
       "       'AVG_READING_4_SCORE', 'AVG_READING_8_SCORE'],\n",
       "      dtype='object')"
      ]
     },
     "execution_count": 26,
     "metadata": {},
     "output_type": "execute_result"
    }
   ],
   "source": [
    "us2.columns"
   ]
  },
  {
   "cell_type": "code",
   "execution_count": 27,
   "metadata": {},
   "outputs": [],
   "source": [
    "us2.drop(['AVG_MATH_4_SCORE', 'AVG_MATH_8_SCORE', 'AVG_READING_4_SCORE', 'AVG_READING_8_SCORE'], axis =1, inplace = True)"
   ]
  },
  {
   "cell_type": "code",
   "execution_count": 28,
   "metadata": {},
   "outputs": [
    {
     "data": {
      "text/plain": [
       "Index(['PRIMARY_KEY', 'STATE', 'YEAR', 'ENROLL', 'TOTAL_REVENUE',\n",
       "       'FEDERAL_REVENUE', 'STATE_REVENUE', 'LOCAL_REVENUE',\n",
       "       'TOTAL_EXPENDITURE', 'INSTRUCTION_EXPENDITURE',\n",
       "       'SUPPORT_SERVICES_EXPENDITURE', 'OTHER_EXPENDITURE',\n",
       "       'CAPITAL_OUTLAY_EXPENDITURE', 'GRADES_PK_G', 'GRADES_KG_G',\n",
       "       'GRADES_4_G', 'GRADES_8_G', 'GRADES_12_G', 'GRADES_1_8_G',\n",
       "       'GRADES_9_12_G', 'GRADES_ALL_G'],\n",
       "      dtype='object')"
      ]
     },
     "execution_count": 28,
     "metadata": {},
     "output_type": "execute_result"
    }
   ],
   "source": [
    "us2.columns"
   ]
  },
  {
   "cell_type": "markdown",
   "metadata": {},
   "source": [
    "## Consider the two variables: TOTAL_REVENUE and TOTAL_EXPENDITURE. Do these variables have outlier values?"
   ]
  },
  {
   "cell_type": "code",
   "execution_count": 29,
   "metadata": {},
   "outputs": [],
   "source": [
    "us2.columns = us2.columns.str.lower()"
   ]
  },
  {
   "cell_type": "code",
   "execution_count": 30,
   "metadata": {},
   "outputs": [
    {
     "data": {
      "text/plain": [
       "Index(['primary_key', 'state', 'year', 'enroll', 'total_revenue',\n",
       "       'federal_revenue', 'state_revenue', 'local_revenue',\n",
       "       'total_expenditure', 'instruction_expenditure',\n",
       "       'support_services_expenditure', 'other_expenditure',\n",
       "       'capital_outlay_expenditure', 'grades_pk_g', 'grades_kg_g',\n",
       "       'grades_4_g', 'grades_8_g', 'grades_12_g', 'grades_1_8_g',\n",
       "       'grades_9_12_g', 'grades_all_g'],\n",
       "      dtype='object')"
      ]
     },
     "execution_count": 30,
     "metadata": {},
     "output_type": "execute_result"
    }
   ],
   "source": [
    "us2.columns"
   ]
  },
  {
   "cell_type": "code",
   "execution_count": 31,
   "metadata": {},
   "outputs": [
    {
     "data": {
      "text/plain": [
       "Text(0.5, 1.0, 'Total Expenditure with 1.5 whisker')"
      ]
     },
     "execution_count": 31,
     "metadata": {},
     "output_type": "execute_result"
    },
    {
     "data": {
      "image/png": "[encoded data removed]",
      "text/plain": [
       "<Figure size 720x360 with 2 Axes>"
      ]
     },
     "metadata": {
      "needs_background": "light"
     },
     "output_type": "display_data"
    }
   ],
   "source": [
    "plt.figure(figsize=(10,5))\n",
    "plt.subplot(1,2,1)\n",
    "plt.boxplot(us2.total_revenue)\n",
    "plt.title('Total Revenue with 1.5 whisker')\n",
    "plt.subplot(1,2,2)\n",
    "plt.boxplot(us2.total_expenditure)\n",
    "plt.title('Total Expenditure with 1.5 whisker')"
   ]
  },
  {
   "cell_type": "markdown",
   "metadata": {},
   "source": [
    "## it appears that both the columns have a lot of outliers"
   ]
  },
  {
   "cell_type": "markdown",
   "metadata": {},
   "source": [
    "## 2. f you detect outliers in the TOTAL_REVENUE and TOTAL_EXPENDITURE variables, apply the techniques you learned in this checkpoint to eliminate them and validate that there's no outlier values after you handled them."
   ]
  },
  {
   "cell_type": "code",
   "execution_count": 32,
   "metadata": {},
   "outputs": [],
   "source": [
    "from scipy.stats.mstats import winsorize\n",
    "winsorized_revenue = winsorize(us2['total_revenue'], (0, 0.05))\n",
    "winsorized_exp = winsorize(us2['total_expenditure'], (0, 0.05))"
   ]
  },
  {
   "cell_type": "code",
   "execution_count": 33,
   "metadata": {},
   "outputs": [
    {
     "data": {
      "text/plain": [
       "Text(0.5, 1.0, 'WINSORIZED EXPENDITURE')"
      ]
     },
     "execution_count": 33,
     "metadata": {},
     "output_type": "execute_result"
    },
    {
     "data": {
      "image/png": "[encoded data removed]",
      "text/plain": [
       "<Figure size 720x360 with 2 Axes>"
      ]
     },
     "metadata": {
      "needs_background": "light"
     },
     "output_type": "display_data"
    }
   ],
   "source": [
    "plt.figure(figsize = (10,5))\n",
    "plt.subplot(1,2,1)\n",
    "plt.boxplot(winsorized_revenue)\n",
    "plt.title('WINSORIZED REVENUE')\n",
    "plt.subplot(1,2,2)\n",
    "plt.boxplot(winsorized_exp)\n",
    "plt.title('WINSORIZED EXPENDITURE')"
   ]
  },
  {
   "cell_type": "markdown",
   "metadata": {},
   "source": [
    "## 3.Create another variable by subtracting the original TOTAL_EXPENDITURE from TOTAL_REVENUE (before you eliminated the outliers). You can think of it as a kind of budget deficit in education. Do you find any outlier values in this new variable? If so, eliminate them using the technique you think most suitable."
   ]
  },
  {
   "cell_type": "code",
   "execution_count": 34,
   "metadata": {},
   "outputs": [],
   "source": [
    "us2['budget_deficit'] =  us2['total_revenue']-us2['total_expenditure']"
   ]
  },
  {
   "cell_type": "code",
   "execution_count": 35,
   "metadata": {},
   "outputs": [
    {
     "data": {
      "text/html": [
       "<div>\n",
       "<style scoped>\n",
       "    .dataframe tbody tr th:only-of-type {\n",
       "        vertical-align: middle;\n",
       "    }\n",
       "\n",
       "    .dataframe tbody tr th {\n",
       "        vertical-align: top;\n",
       "    }\n",
       "\n",
       "    .dataframe thead th {\n",
       "        text-align: right;\n",
       "    }\n",
       "</style>\n",
       "<table border=\"1\" class=\"dataframe\">\n",
       "  <thead>\n",
       "    <tr style=\"text-align: right;\">\n",
       "      <th></th>\n",
       "      <th>primary_key</th>\n",
       "      <th>state</th>\n",
       "      <th>year</th>\n",
       "      <th>enroll</th>\n",
       "      <th>total_revenue</th>\n",
       "      <th>federal_revenue</th>\n",
       "      <th>state_revenue</th>\n",
       "      <th>local_revenue</th>\n",
       "      <th>total_expenditure</th>\n",
       "      <th>instruction_expenditure</th>\n",
       "      <th>...</th>\n",
       "      <th>capital_outlay_expenditure</th>\n",
       "      <th>grades_pk_g</th>\n",
       "      <th>grades_kg_g</th>\n",
       "      <th>grades_4_g</th>\n",
       "      <th>grades_8_g</th>\n",
       "      <th>grades_12_g</th>\n",
       "      <th>grades_1_8_g</th>\n",
       "      <th>grades_9_12_g</th>\n",
       "      <th>grades_all_g</th>\n",
       "      <th>budget_deficit</th>\n",
       "    </tr>\n",
       "  </thead>\n",
       "  <tbody>\n",
       "    <tr>\n",
       "      <th>0</th>\n",
       "      <td>1992_ALABAMA</td>\n",
       "      <td>ALABAMA</td>\n",
       "      <td>1992</td>\n",
       "      <td>NaN</td>\n",
       "      <td>2678885.0</td>\n",
       "      <td>304177.0</td>\n",
       "      <td>1659028.0</td>\n",
       "      <td>715680.0</td>\n",
       "      <td>2653798.0</td>\n",
       "      <td>1481703.0</td>\n",
       "      <td>...</td>\n",
       "      <td>174053.0</td>\n",
       "      <td>8224.0</td>\n",
       "      <td>55460.0</td>\n",
       "      <td>57948.0</td>\n",
       "      <td>58025.0</td>\n",
       "      <td>41167.0</td>\n",
       "      <td>471564.0</td>\n",
       "      <td>196386.0</td>\n",
       "      <td>676174.0</td>\n",
       "      <td>25087.0</td>\n",
       "    </tr>\n",
       "    <tr>\n",
       "      <th>1</th>\n",
       "      <td>1992_ALASKA</td>\n",
       "      <td>ALASKA</td>\n",
       "      <td>1992</td>\n",
       "      <td>NaN</td>\n",
       "      <td>1049591.0</td>\n",
       "      <td>106780.0</td>\n",
       "      <td>720711.0</td>\n",
       "      <td>222100.0</td>\n",
       "      <td>972488.0</td>\n",
       "      <td>498362.0</td>\n",
       "      <td>...</td>\n",
       "      <td>37451.0</td>\n",
       "      <td>2371.0</td>\n",
       "      <td>10152.0</td>\n",
       "      <td>9748.0</td>\n",
       "      <td>8789.0</td>\n",
       "      <td>6714.0</td>\n",
       "      <td>79117.0</td>\n",
       "      <td>30847.0</td>\n",
       "      <td>112335.0</td>\n",
       "      <td>77103.0</td>\n",
       "    </tr>\n",
       "    <tr>\n",
       "      <th>2</th>\n",
       "      <td>1992_ARIZONA</td>\n",
       "      <td>ARIZONA</td>\n",
       "      <td>1992</td>\n",
       "      <td>NaN</td>\n",
       "      <td>3258079.0</td>\n",
       "      <td>297888.0</td>\n",
       "      <td>1369815.0</td>\n",
       "      <td>1590376.0</td>\n",
       "      <td>3401580.0</td>\n",
       "      <td>1435908.0</td>\n",
       "      <td>...</td>\n",
       "      <td>609114.0</td>\n",
       "      <td>2544.0</td>\n",
       "      <td>53497.0</td>\n",
       "      <td>55433.0</td>\n",
       "      <td>49081.0</td>\n",
       "      <td>37410.0</td>\n",
       "      <td>437127.0</td>\n",
       "      <td>175210.0</td>\n",
       "      <td>614881.0</td>\n",
       "      <td>-143501.0</td>\n",
       "    </tr>\n",
       "    <tr>\n",
       "      <th>3</th>\n",
       "      <td>1992_ARKANSAS</td>\n",
       "      <td>ARKANSAS</td>\n",
       "      <td>1992</td>\n",
       "      <td>NaN</td>\n",
       "      <td>1711959.0</td>\n",
       "      <td>178571.0</td>\n",
       "      <td>958785.0</td>\n",
       "      <td>574603.0</td>\n",
       "      <td>1743022.0</td>\n",
       "      <td>964323.0</td>\n",
       "      <td>...</td>\n",
       "      <td>145212.0</td>\n",
       "      <td>808.0</td>\n",
       "      <td>33511.0</td>\n",
       "      <td>34632.0</td>\n",
       "      <td>36011.0</td>\n",
       "      <td>27651.0</td>\n",
       "      <td>281338.0</td>\n",
       "      <td>123113.0</td>\n",
       "      <td>405259.0</td>\n",
       "      <td>-31063.0</td>\n",
       "    </tr>\n",
       "    <tr>\n",
       "      <th>4</th>\n",
       "      <td>1992_CALIFORNIA</td>\n",
       "      <td>CALIFORNIA</td>\n",
       "      <td>1992</td>\n",
       "      <td>NaN</td>\n",
       "      <td>26260025.0</td>\n",
       "      <td>2072470.0</td>\n",
       "      <td>16546514.0</td>\n",
       "      <td>7641041.0</td>\n",
       "      <td>27138832.0</td>\n",
       "      <td>14358922.0</td>\n",
       "      <td>...</td>\n",
       "      <td>2044688.0</td>\n",
       "      <td>59067.0</td>\n",
       "      <td>431763.0</td>\n",
       "      <td>418418.0</td>\n",
       "      <td>363296.0</td>\n",
       "      <td>270675.0</td>\n",
       "      <td>3286034.0</td>\n",
       "      <td>1372011.0</td>\n",
       "      <td>4717112.0</td>\n",
       "      <td>-878807.0</td>\n",
       "    </tr>\n",
       "  </tbody>\n",
       "</table>\n",
       "<p>5 rows × 22 columns</p>\n",
       "</div>"
      ],
      "text/plain": [
       "       primary_key       state  year  enroll  total_revenue  federal_revenue  \\\n",
       "0     1992_ALABAMA     ALABAMA  1992     NaN      2678885.0         304177.0   \n",
       "1      1992_ALASKA      ALASKA  1992     NaN      1049591.0         106780.0   \n",
       "2     1992_ARIZONA     ARIZONA  1992     NaN      3258079.0         297888.0   \n",
       "3    1992_ARKANSAS    ARKANSAS  1992     NaN      1711959.0         178571.0   \n",
       "4  1992_CALIFORNIA  CALIFORNIA  1992     NaN     26260025.0        2072470.0   \n",
       "\n",
       "   state_revenue  local_revenue  total_expenditure  instruction_expenditure  \\\n",
       "0      1659028.0       715680.0          2653798.0                1481703.0   \n",
       "1       720711.0       222100.0           972488.0                 498362.0   \n",
       "2      1369815.0      1590376.0          3401580.0                1435908.0   \n",
       "3       958785.0       574603.0          1743022.0                 964323.0   \n",
       "4     16546514.0      7641041.0         27138832.0               14358922.0   \n",
       "\n",
       "   ...  capital_outlay_expenditure  grades_pk_g  grades_kg_g  grades_4_g  \\\n",
       "0  ...                    174053.0       8224.0      55460.0     57948.0   \n",
       "1  ...                     37451.0       2371.0      10152.0      9748.0   \n",
       "2  ...                    609114.0       2544.0      53497.0     55433.0   \n",
       "3  ...                    145212.0        808.0      33511.0     34632.0   \n",
       "4  ...                   2044688.0      59067.0     431763.0    418418.0   \n",
       "\n",
       "   grades_8_g  grades_12_g  grades_1_8_g  grades_9_12_g  grades_all_g  \\\n",
       "0     58025.0      41167.0      471564.0       196386.0      676174.0   \n",
       "1      8789.0       6714.0       79117.0        30847.0      112335.0   \n",
       "2     49081.0      37410.0      437127.0       175210.0      614881.0   \n",
       "3     36011.0      27651.0      281338.0       123113.0      405259.0   \n",
       "4    363296.0     270675.0     3286034.0      1372011.0     4717112.0   \n",
       "\n",
       "   budget_deficit  \n",
       "0         25087.0  \n",
       "1         77103.0  \n",
       "2       -143501.0  \n",
       "3        -31063.0  \n",
       "4       -878807.0  \n",
       "\n",
       "[5 rows x 22 columns]"
      ]
     },
     "execution_count": 35,
     "metadata": {},
     "output_type": "execute_result"
    }
   ],
   "source": [
    "us2.head()"
   ]
  },
  {
   "cell_type": "code",
   "execution_count": 36,
   "metadata": {},
   "outputs": [
    {
     "data": {
      "text/plain": [
       "{'whiskers': [<matplotlib.lines.Line2D at 0x1a18467c50>,\n",
       "  <matplotlib.lines.Line2D at 0x1a18467da0>],\n",
       " 'caps': [<matplotlib.lines.Line2D at 0x1a18473390>,\n",
       "  <matplotlib.lines.Line2D at 0x1a184736d8>],\n",
       " 'boxes': [<matplotlib.lines.Line2D at 0x1a18467860>],\n",
       " 'medians': [<matplotlib.lines.Line2D at 0x1a18473a20>],\n",
       " 'fliers': [<matplotlib.lines.Line2D at 0x1a18473d68>],\n",
       " 'means': []}"
      ]
     },
     "execution_count": 36,
     "metadata": {},
     "output_type": "execute_result"
    },
    {
     "data": {
      "image/png": "[encoded data removed]",
      "text/plain": [
       "<Figure size 432x288 with 1 Axes>"
      ]
     },
     "metadata": {
      "needs_background": "light"
     },
     "output_type": "display_data"
    }
   ],
   "source": [
    "plt.boxplot(us2['budget_deficit'])"
   ]
  },
  {
   "cell_type": "code",
   "execution_count": 37,
   "metadata": {},
   "outputs": [],
   "source": [
    "winsorized_budgetdeficit = winsorize(us2['budget_deficit'], (0.05,0.05))\n"
   ]
  },
  {
   "cell_type": "code",
   "execution_count": 38,
   "metadata": {},
   "outputs": [
    {
     "data": {
      "text/plain": [
       "{'whiskers': [<matplotlib.lines.Line2D at 0x1a18531940>,\n",
       "  <matplotlib.lines.Line2D at 0x1a18531c88>],\n",
       " 'caps': [<matplotlib.lines.Line2D at 0x1a18531fd0>,\n",
       "  <matplotlib.lines.Line2D at 0x1a18531f60>],\n",
       " 'boxes': [<matplotlib.lines.Line2D at 0x1a18531550>],\n",
       " 'medians': [<matplotlib.lines.Line2D at 0x1a1853d6a0>],\n",
       " 'fliers': [<matplotlib.lines.Line2D at 0x1a1853d9e8>],\n",
       " 'means': []}"
      ]
     },
     "execution_count": 38,
     "metadata": {},
     "output_type": "execute_result"
    },
    {
     "data": {
      "image/png": "[encoded data removed]",
      "text/plain": [
       "<Figure size 432x288 with 1 Axes>"
      ]
     },
     "metadata": {
      "needs_background": "light"
     },
     "output_type": "display_data"
    }
   ],
   "source": [
    "plt.boxplot(winsorized_budgetdeficit, whis =5)"
   ]
  },
  {
   "cell_type": "code",
   "execution_count": 39,
   "metadata": {},
   "outputs": [],
   "source": [
    "new_bud = winsorized_revenue - winsorized_exp"
   ]
  },
  {
   "cell_type": "code",
   "execution_count": 40,
   "metadata": {},
   "outputs": [
    {
     "data": {
      "text/plain": [
       "{'whiskers': [<matplotlib.lines.Line2D at 0x1a18597be0>,\n",
       "  <matplotlib.lines.Line2D at 0x1a18597f98>],\n",
       " 'caps': [<matplotlib.lines.Line2D at 0x1a18597f28>,\n",
       "  <matplotlib.lines.Line2D at 0x1a185a1668>],\n",
       " 'boxes': [<matplotlib.lines.Line2D at 0x1a185977f0>],\n",
       " 'medians': [<matplotlib.lines.Line2D at 0x1a185a19b0>],\n",
       " 'fliers': [<matplotlib.lines.Line2D at 0x1a185a1cf8>],\n",
       " 'means': []}"
      ]
     },
     "execution_count": 40,
     "metadata": {},
     "output_type": "execute_result"
    },
    {
     "data": {
      "image/png": "[encoded data removed]",
      "text/plain": [
       "<Figure size 432x288 with 1 Axes>"
      ]
     },
     "metadata": {
      "needs_background": "light"
     },
     "output_type": "display_data"
    }
   ],
   "source": [
    "plt.boxplot(new_bud)"
   ]
  },
  {
   "cell_type": "code",
   "execution_count": 41,
   "metadata": {},
   "outputs": [],
   "source": [
    "wins_new_bud = winsorize(new_bud, (0.05, 0.05))"
   ]
  },
  {
   "cell_type": "code",
   "execution_count": 42,
   "metadata": {},
   "outputs": [
    {
     "data": {
      "text/plain": [
       "{'whiskers': [<matplotlib.lines.Line2D at 0x1a186e3630>,\n",
       "  <matplotlib.lines.Line2D at 0x1a186e39e8>],\n",
       " 'caps': [<matplotlib.lines.Line2D at 0x1a186e3d30>,\n",
       "  <matplotlib.lines.Line2D at 0x1a186e3e10>],\n",
       " 'boxes': [<matplotlib.lines.Line2D at 0x1a186e3240>],\n",
       " 'medians': [<matplotlib.lines.Line2D at 0x1a186ed400>],\n",
       " 'fliers': [<matplotlib.lines.Line2D at 0x1a186ed748>],\n",
       " 'means': []}"
      ]
     },
     "execution_count": 42,
     "metadata": {},
     "output_type": "execute_result"
    },
    {
     "data": {
      "image/png": "[encoded data removed]",
      "text/plain": [
       "<Figure size 432x288 with 1 Axes>"
      ]
     },
     "metadata": {
      "needs_background": "light"
     },
     "output_type": "display_data"
    }
   ],
   "source": [
    "plt.boxplot(wins_new_bud, whis = 5)"
   ]
  },
  {
   "cell_type": "markdown",
   "metadata": {},
   "source": [
    "## 5. Compare some basic descriptive statistics of the budget variables you end up with in the 3rd and the 4th questions. Do you see any differences?"
   ]
  },
  {
   "cell_type": "code",
   "execution_count": 43,
   "metadata": {},
   "outputs": [],
   "source": [
    "budget_deficit = us2['budget_deficit']"
   ]
  },
  {
   "cell_type": "code",
   "execution_count": 44,
   "metadata": {},
   "outputs": [
    {
     "data": {
      "text/html": [
       "<div>\n",
       "<style scoped>\n",
       "    .dataframe tbody tr th:only-of-type {\n",
       "        vertical-align: middle;\n",
       "    }\n",
       "\n",
       "    .dataframe tbody tr th {\n",
       "        vertical-align: top;\n",
       "    }\n",
       "\n",
       "    .dataframe thead th {\n",
       "        text-align: right;\n",
       "    }\n",
       "</style>\n",
       "<table border=\"1\" class=\"dataframe\">\n",
       "  <thead>\n",
       "    <tr style=\"text-align: right;\">\n",
       "      <th></th>\n",
       "      <th>original_budget</th>\n",
       "      <th>winsorized_budget1</th>\n",
       "      <th>winsorized_budget2</th>\n",
       "    </tr>\n",
       "  </thead>\n",
       "  <tbody>\n",
       "    <tr>\n",
       "      <th>count</th>\n",
       "      <td>1.492000e+03</td>\n",
       "      <td>1492.000000</td>\n",
       "      <td>1492.000000</td>\n",
       "    </tr>\n",
       "    <tr>\n",
       "      <th>mean</th>\n",
       "      <td>-3.209622e+04</td>\n",
       "      <td>-5852.697051</td>\n",
       "      <td>5979.659517</td>\n",
       "    </tr>\n",
       "    <tr>\n",
       "      <th>std</th>\n",
       "      <td>5.607748e+05</td>\n",
       "      <td>315970.963721</td>\n",
       "      <td>268064.378117</td>\n",
       "    </tr>\n",
       "    <tr>\n",
       "      <th>min</th>\n",
       "      <td>-5.487742e+06</td>\n",
       "      <td>-803208.000000</td>\n",
       "      <td>-509360.000000</td>\n",
       "    </tr>\n",
       "    <tr>\n",
       "      <th>25%</th>\n",
       "      <td>-1.368148e+05</td>\n",
       "      <td>-136814.750000</td>\n",
       "      <td>-152551.500000</td>\n",
       "    </tr>\n",
       "    <tr>\n",
       "      <th>50%</th>\n",
       "      <td>-5.355000e+02</td>\n",
       "      <td>-535.500000</td>\n",
       "      <td>-3443.500000</td>\n",
       "    </tr>\n",
       "    <tr>\n",
       "      <th>75%</th>\n",
       "      <td>1.876285e+05</td>\n",
       "      <td>187628.500000</td>\n",
       "      <td>168423.500000</td>\n",
       "    </tr>\n",
       "    <tr>\n",
       "      <th>max</th>\n",
       "      <td>3.897129e+06</td>\n",
       "      <td>442351.000000</td>\n",
       "      <td>414013.000000</td>\n",
       "    </tr>\n",
       "  </tbody>\n",
       "</table>\n",
       "</div>"
      ],
      "text/plain": [
       "       original_budget  winsorized_budget1  winsorized_budget2\n",
       "count     1.492000e+03         1492.000000         1492.000000\n",
       "mean     -3.209622e+04        -5852.697051         5979.659517\n",
       "std       5.607748e+05       315970.963721       268064.378117\n",
       "min      -5.487742e+06      -803208.000000      -509360.000000\n",
       "25%      -1.368148e+05      -136814.750000      -152551.500000\n",
       "50%      -5.355000e+02         -535.500000        -3443.500000\n",
       "75%       1.876285e+05       187628.500000       168423.500000\n",
       "max       3.897129e+06       442351.000000       414013.000000"
      ]
     },
     "execution_count": 44,
     "metadata": {},
     "output_type": "execute_result"
    }
   ],
   "source": [
    "pd.DataFrame({'original_budget': budget_deficit, 'winsorized_budget1': winsorized_budgetdeficit, 'winsorized_budget2': wins_new_bud}).describe()"
   ]
  },
  {
   "cell_type": "markdown",
   "metadata": {},
   "source": [
    "## 6. If our variable of interest is the budget deficit variable, which method do you think is the appropriate in dealing with the outliers in this variable: the method in the 3rd question or the one in the 4th question?"
   ]
  },
  {
   "cell_type": "markdown",
   "metadata": {},
   "source": [
    "### Sometimes, differencing may help us to eliminate the outliers. So, it's better to first create a variable from the originals and then to apply outlier elimination techniques next. Hence, the approach in the third question is more desirable in most of the cases.\n"
   ]
  },
  {
   "cell_type": "markdown",
   "metadata": {},
   "source": [
    "# DATA EXPLORATION 1"
   ]
  },
  {
   "cell_type": "code",
   "execution_count": 45,
   "metadata": {},
   "outputs": [],
   "source": [
    "us2 = usaed_df.copy()"
   ]
  },
  {
   "cell_type": "code",
   "execution_count": 46,
   "metadata": {},
   "outputs": [],
   "source": [
    "states= us2['STATE'].unique()"
   ]
  },
  {
   "cell_type": "code",
   "execution_count": 47,
   "metadata": {},
   "outputs": [],
   "source": [
    "for state in states:\n",
    "    us2.loc[us2['STATE'] == state, column_list] = us2.loc[us2['STATE'] == state, column_list].interpolate()"
   ]
  },
  {
   "cell_type": "code",
   "execution_count": 48,
   "metadata": {},
   "outputs": [
    {
     "name": "stdout",
     "output_type": "stream",
     "text": [
      "<class 'pandas.core.frame.DataFrame'>\n",
      "Int64Index: 466 entries, 209 to 1491\n",
      "Data columns (total 25 columns):\n",
      "PRIMARY_KEY                     466 non-null object\n",
      "STATE                           466 non-null object\n",
      "YEAR                            466 non-null int64\n",
      "ENROLL                          466 non-null float64\n",
      "TOTAL_REVENUE                   466 non-null float64\n",
      "FEDERAL_REVENUE                 466 non-null float64\n",
      "STATE_REVENUE                   466 non-null float64\n",
      "LOCAL_REVENUE                   466 non-null float64\n",
      "TOTAL_EXPENDITURE               466 non-null float64\n",
      "INSTRUCTION_EXPENDITURE         466 non-null float64\n",
      "SUPPORT_SERVICES_EXPENDITURE    466 non-null float64\n",
      "OTHER_EXPENDITURE               466 non-null float64\n",
      "CAPITAL_OUTLAY_EXPENDITURE      466 non-null float64\n",
      "GRADES_PK_G                     466 non-null float64\n",
      "GRADES_KG_G                     466 non-null float64\n",
      "GRADES_4_G                      466 non-null float64\n",
      "GRADES_8_G                      466 non-null float64\n",
      "GRADES_12_G                     466 non-null float64\n",
      "GRADES_1_8_G                    466 non-null float64\n",
      "GRADES_9_12_G                   466 non-null float64\n",
      "GRADES_ALL_G                    466 non-null float64\n",
      "AVG_MATH_4_SCORE                466 non-null float64\n",
      "AVG_MATH_8_SCORE                466 non-null float64\n",
      "AVG_READING_4_SCORE             466 non-null float64\n",
      "AVG_READING_8_SCORE             466 non-null float64\n",
      "dtypes: float64(22), int64(1), object(2)\n",
      "memory usage: 94.7+ KB\n"
     ]
    }
   ],
   "source": [
    "us5 = us2.dropna()\n",
    "us5.info()"
   ]
  },
  {
   "cell_type": "markdown",
   "metadata": {},
   "source": [
    "## 1. Derive the descriptive statistics of the data and discuss the points you find remarkable."
   ]
  },
  {
   "cell_type": "code",
   "execution_count": 49,
   "metadata": {},
   "outputs": [
    {
     "data": {
      "text/html": [
       "<div>\n",
       "<style scoped>\n",
       "    .dataframe tbody tr th:only-of-type {\n",
       "        vertical-align: middle;\n",
       "    }\n",
       "\n",
       "    .dataframe tbody tr th {\n",
       "        vertical-align: top;\n",
       "    }\n",
       "\n",
       "    .dataframe thead th {\n",
       "        text-align: right;\n",
       "    }\n",
       "</style>\n",
       "<table border=\"1\" class=\"dataframe\">\n",
       "  <thead>\n",
       "    <tr style=\"text-align: right;\">\n",
       "      <th></th>\n",
       "      <th>YEAR</th>\n",
       "      <th>ENROLL</th>\n",
       "      <th>TOTAL_REVENUE</th>\n",
       "      <th>FEDERAL_REVENUE</th>\n",
       "      <th>STATE_REVENUE</th>\n",
       "      <th>LOCAL_REVENUE</th>\n",
       "      <th>TOTAL_EXPENDITURE</th>\n",
       "      <th>INSTRUCTION_EXPENDITURE</th>\n",
       "      <th>SUPPORT_SERVICES_EXPENDITURE</th>\n",
       "      <th>OTHER_EXPENDITURE</th>\n",
       "      <th>...</th>\n",
       "      <th>GRADES_4_G</th>\n",
       "      <th>GRADES_8_G</th>\n",
       "      <th>GRADES_12_G</th>\n",
       "      <th>GRADES_1_8_G</th>\n",
       "      <th>GRADES_9_12_G</th>\n",
       "      <th>GRADES_ALL_G</th>\n",
       "      <th>AVG_MATH_4_SCORE</th>\n",
       "      <th>AVG_MATH_8_SCORE</th>\n",
       "      <th>AVG_READING_4_SCORE</th>\n",
       "      <th>AVG_READING_8_SCORE</th>\n",
       "    </tr>\n",
       "  </thead>\n",
       "  <tbody>\n",
       "    <tr>\n",
       "      <th>count</th>\n",
       "      <td>466.000000</td>\n",
       "      <td>4.660000e+02</td>\n",
       "      <td>4.660000e+02</td>\n",
       "      <td>4.660000e+02</td>\n",
       "      <td>4.660000e+02</td>\n",
       "      <td>4.660000e+02</td>\n",
       "      <td>4.660000e+02</td>\n",
       "      <td>4.660000e+02</td>\n",
       "      <td>4.660000e+02</td>\n",
       "      <td>4.660000e+02</td>\n",
       "      <td>...</td>\n",
       "      <td>466.00000</td>\n",
       "      <td>466.00000</td>\n",
       "      <td>466.000000</td>\n",
       "      <td>4.660000e+02</td>\n",
       "      <td>4.660000e+02</td>\n",
       "      <td>4.660000e+02</td>\n",
       "      <td>466.000000</td>\n",
       "      <td>466.000000</td>\n",
       "      <td>466.000000</td>\n",
       "      <td>466.000000</td>\n",
       "    </tr>\n",
       "    <tr>\n",
       "      <th>mean</th>\n",
       "      <td>2008.577253</td>\n",
       "      <td>9.442125e+05</td>\n",
       "      <td>1.078853e+07</td>\n",
       "      <td>9.568659e+05</td>\n",
       "      <td>4.999548e+06</td>\n",
       "      <td>4.832112e+06</td>\n",
       "      <td>1.086947e+07</td>\n",
       "      <td>5.638251e+06</td>\n",
       "      <td>3.181222e+06</td>\n",
       "      <td>4.913261e+05</td>\n",
       "      <td>...</td>\n",
       "      <td>72515.82618</td>\n",
       "      <td>72917.07618</td>\n",
       "      <td>64773.880901</td>\n",
       "      <td>5.836186e+05</td>\n",
       "      <td>2.867026e+05</td>\n",
       "      <td>8.933042e+05</td>\n",
       "      <td>236.909728</td>\n",
       "      <td>279.802668</td>\n",
       "      <td>219.508638</td>\n",
       "      <td>263.789943</td>\n",
       "    </tr>\n",
       "    <tr>\n",
       "      <th>std</th>\n",
       "      <td>5.779779</td>\n",
       "      <td>1.122051e+06</td>\n",
       "      <td>1.356335e+07</td>\n",
       "      <td>1.330702e+06</td>\n",
       "      <td>6.405481e+06</td>\n",
       "      <td>6.325995e+06</td>\n",
       "      <td>1.373667e+07</td>\n",
       "      <td>7.255903e+06</td>\n",
       "      <td>3.840941e+06</td>\n",
       "      <td>6.009649e+05</td>\n",
       "      <td>...</td>\n",
       "      <td>86463.95300</td>\n",
       "      <td>85835.16237</td>\n",
       "      <td>77557.604833</td>\n",
       "      <td>6.925615e+05</td>\n",
       "      <td>3.408161e+05</td>\n",
       "      <td>1.060080e+06</td>\n",
       "      <td>8.695903</td>\n",
       "      <td>9.381511</td>\n",
       "      <td>7.426546</td>\n",
       "      <td>6.875627</td>\n",
       "    </tr>\n",
       "    <tr>\n",
       "      <th>min</th>\n",
       "      <td>1996.000000</td>\n",
       "      <td>4.417900e+04</td>\n",
       "      <td>6.788740e+05</td>\n",
       "      <td>5.787000e+04</td>\n",
       "      <td>0.000000e+00</td>\n",
       "      <td>2.853100e+04</td>\n",
       "      <td>7.032450e+05</td>\n",
       "      <td>3.182600e+05</td>\n",
       "      <td>2.041170e+05</td>\n",
       "      <td>2.310700e+04</td>\n",
       "      <td>...</td>\n",
       "      <td>3423.00000</td>\n",
       "      <td>2860.00000</td>\n",
       "      <td>2188.000000</td>\n",
       "      <td>2.676200e+04</td>\n",
       "      <td>9.970000e+03</td>\n",
       "      <td>3.682300e+04</td>\n",
       "      <td>187.134670</td>\n",
       "      <td>232.831510</td>\n",
       "      <td>181.626990</td>\n",
       "      <td>236.379102</td>\n",
       "    </tr>\n",
       "    <tr>\n",
       "      <th>25%</th>\n",
       "      <td>2005.000000</td>\n",
       "      <td>2.794832e+05</td>\n",
       "      <td>2.712660e+06</td>\n",
       "      <td>2.614470e+05</td>\n",
       "      <td>1.491747e+06</td>\n",
       "      <td>9.513430e+05</td>\n",
       "      <td>2.670300e+06</td>\n",
       "      <td>1.416288e+06</td>\n",
       "      <td>8.472295e+05</td>\n",
       "      <td>1.296515e+05</td>\n",
       "      <td>...</td>\n",
       "      <td>20489.75000</td>\n",
       "      <td>20880.25000</td>\n",
       "      <td>18527.750000</td>\n",
       "      <td>1.666395e+05</td>\n",
       "      <td>8.194400e+04</td>\n",
       "      <td>2.596278e+05</td>\n",
       "      <td>232.760641</td>\n",
       "      <td>274.707118</td>\n",
       "      <td>215.338956</td>\n",
       "      <td>259.661771</td>\n",
       "    </tr>\n",
       "    <tr>\n",
       "      <th>50%</th>\n",
       "      <td>2009.000000</td>\n",
       "      <td>6.639415e+05</td>\n",
       "      <td>6.106834e+06</td>\n",
       "      <td>5.544340e+05</td>\n",
       "      <td>3.021544e+06</td>\n",
       "      <td>2.442983e+06</td>\n",
       "      <td>6.249671e+06</td>\n",
       "      <td>3.186679e+06</td>\n",
       "      <td>1.899310e+06</td>\n",
       "      <td>3.271845e+05</td>\n",
       "      <td>...</td>\n",
       "      <td>50918.00000</td>\n",
       "      <td>50114.50000</td>\n",
       "      <td>41543.000000</td>\n",
       "      <td>4.067475e+05</td>\n",
       "      <td>1.868900e+05</td>\n",
       "      <td>6.264775e+05</td>\n",
       "      <td>238.394124</td>\n",
       "      <td>281.531587</td>\n",
       "      <td>221.130461</td>\n",
       "      <td>265.217081</td>\n",
       "    </tr>\n",
       "    <tr>\n",
       "      <th>75%</th>\n",
       "      <td>2013.000000</td>\n",
       "      <td>1.018588e+06</td>\n",
       "      <td>1.222407e+07</td>\n",
       "      <td>1.033414e+06</td>\n",
       "      <td>6.240349e+06</td>\n",
       "      <td>5.488079e+06</td>\n",
       "      <td>1.195951e+07</td>\n",
       "      <td>6.154768e+06</td>\n",
       "      <td>3.667420e+06</td>\n",
       "      <td>5.609385e+05</td>\n",
       "      <td>...</td>\n",
       "      <td>79929.50000</td>\n",
       "      <td>80949.75000</td>\n",
       "      <td>75641.250000</td>\n",
       "      <td>6.424952e+05</td>\n",
       "      <td>3.234915e+05</td>\n",
       "      <td>9.758625e+05</td>\n",
       "      <td>242.602566</td>\n",
       "      <td>286.197041</td>\n",
       "      <td>224.531280</td>\n",
       "      <td>268.307884</td>\n",
       "    </tr>\n",
       "    <tr>\n",
       "      <th>max</th>\n",
       "      <td>2017.000000</td>\n",
       "      <td>6.307022e+06</td>\n",
       "      <td>8.921726e+07</td>\n",
       "      <td>9.990221e+06</td>\n",
       "      <td>5.090457e+07</td>\n",
       "      <td>3.610526e+07</td>\n",
       "      <td>8.532013e+07</td>\n",
       "      <td>4.396452e+07</td>\n",
       "      <td>2.605802e+07</td>\n",
       "      <td>3.995951e+06</td>\n",
       "      <td>...</td>\n",
       "      <td>493415.00000</td>\n",
       "      <td>500143.00000</td>\n",
       "      <td>498403.000000</td>\n",
       "      <td>3.929869e+06</td>\n",
       "      <td>2.011865e+06</td>\n",
       "      <td>5.926631e+06</td>\n",
       "      <td>253.420961</td>\n",
       "      <td>300.568235</td>\n",
       "      <td>236.773867</td>\n",
       "      <td>280.499130</td>\n",
       "    </tr>\n",
       "  </tbody>\n",
       "</table>\n",
       "<p>8 rows × 23 columns</p>\n",
       "</div>"
      ],
      "text/plain": [
       "              YEAR        ENROLL  TOTAL_REVENUE  FEDERAL_REVENUE  \\\n",
       "count   466.000000  4.660000e+02   4.660000e+02     4.660000e+02   \n",
       "mean   2008.577253  9.442125e+05   1.078853e+07     9.568659e+05   \n",
       "std       5.779779  1.122051e+06   1.356335e+07     1.330702e+06   \n",
       "min    1996.000000  4.417900e+04   6.788740e+05     5.787000e+04   \n",
       "25%    2005.000000  2.794832e+05   2.712660e+06     2.614470e+05   \n",
       "50%    2009.000000  6.639415e+05   6.106834e+06     5.544340e+05   \n",
       "75%    2013.000000  1.018588e+06   1.222407e+07     1.033414e+06   \n",
       "max    2017.000000  6.307022e+06   8.921726e+07     9.990221e+06   \n",
       "\n",
       "       STATE_REVENUE  LOCAL_REVENUE  TOTAL_EXPENDITURE  \\\n",
       "count   4.660000e+02   4.660000e+02       4.660000e+02   \n",
       "mean    4.999548e+06   4.832112e+06       1.086947e+07   \n",
       "std     6.405481e+06   6.325995e+06       1.373667e+07   \n",
       "min     0.000000e+00   2.853100e+04       7.032450e+05   \n",
       "25%     1.491747e+06   9.513430e+05       2.670300e+06   \n",
       "50%     3.021544e+06   2.442983e+06       6.249671e+06   \n",
       "75%     6.240349e+06   5.488079e+06       1.195951e+07   \n",
       "max     5.090457e+07   3.610526e+07       8.532013e+07   \n",
       "\n",
       "       INSTRUCTION_EXPENDITURE  SUPPORT_SERVICES_EXPENDITURE  \\\n",
       "count             4.660000e+02                  4.660000e+02   \n",
       "mean              5.638251e+06                  3.181222e+06   \n",
       "std               7.255903e+06                  3.840941e+06   \n",
       "min               3.182600e+05                  2.041170e+05   \n",
       "25%               1.416288e+06                  8.472295e+05   \n",
       "50%               3.186679e+06                  1.899310e+06   \n",
       "75%               6.154768e+06                  3.667420e+06   \n",
       "max               4.396452e+07                  2.605802e+07   \n",
       "\n",
       "       OTHER_EXPENDITURE  ...    GRADES_4_G    GRADES_8_G    GRADES_12_G  \\\n",
       "count       4.660000e+02  ...     466.00000     466.00000     466.000000   \n",
       "mean        4.913261e+05  ...   72515.82618   72917.07618   64773.880901   \n",
       "std         6.009649e+05  ...   86463.95300   85835.16237   77557.604833   \n",
       "min         2.310700e+04  ...    3423.00000    2860.00000    2188.000000   \n",
       "25%         1.296515e+05  ...   20489.75000   20880.25000   18527.750000   \n",
       "50%         3.271845e+05  ...   50918.00000   50114.50000   41543.000000   \n",
       "75%         5.609385e+05  ...   79929.50000   80949.75000   75641.250000   \n",
       "max         3.995951e+06  ...  493415.00000  500143.00000  498403.000000   \n",
       "\n",
       "       GRADES_1_8_G  GRADES_9_12_G  GRADES_ALL_G  AVG_MATH_4_SCORE  \\\n",
       "count  4.660000e+02   4.660000e+02  4.660000e+02        466.000000   \n",
       "mean   5.836186e+05   2.867026e+05  8.933042e+05        236.909728   \n",
       "std    6.925615e+05   3.408161e+05  1.060080e+06          8.695903   \n",
       "min    2.676200e+04   9.970000e+03  3.682300e+04        187.134670   \n",
       "25%    1.666395e+05   8.194400e+04  2.596278e+05        232.760641   \n",
       "50%    4.067475e+05   1.868900e+05  6.264775e+05        238.394124   \n",
       "75%    6.424952e+05   3.234915e+05  9.758625e+05        242.602566   \n",
       "max    3.929869e+06   2.011865e+06  5.926631e+06        253.420961   \n",
       "\n",
       "       AVG_MATH_8_SCORE  AVG_READING_4_SCORE  AVG_READING_8_SCORE  \n",
       "count        466.000000           466.000000           466.000000  \n",
       "mean         279.802668           219.508638           263.789943  \n",
       "std            9.381511             7.426546             6.875627  \n",
       "min          232.831510           181.626990           236.379102  \n",
       "25%          274.707118           215.338956           259.661771  \n",
       "50%          281.531587           221.130461           265.217081  \n",
       "75%          286.197041           224.531280           268.307884  \n",
       "max          300.568235           236.773867           280.499130  \n",
       "\n",
       "[8 rows x 23 columns]"
      ]
     },
     "execution_count": 49,
     "metadata": {},
     "output_type": "execute_result"
    }
   ],
   "source": [
    "us5.describe()"
   ]
  },
  {
   "cell_type": "markdown",
   "metadata": {},
   "source": [
    "### Mean Total Expenditure is greater than Mean Total Revenue\n",
    "### Mean of Local Revenue is almost same as State revenue\n",
    "### Mean of all the variables is a lot higher than the median. "
   ]
  },
  {
   "cell_type": "markdown",
   "metadata": {},
   "source": [
    "# 2.Choose a state (e.g. California) and draw a line graph of its total revenues and total expenditures along the years. How do these 2 variables evolve during the years? Try to explain the peaks and troughs with some state-wise news and information around those dates."
   ]
  },
  {
   "cell_type": "code",
   "execution_count": 50,
   "metadata": {},
   "outputs": [
    {
     "data": {
      "text/plain": [
       "<matplotlib.legend.Legend at 0x1a18821da0>"
      ]
     },
     "execution_count": 50,
     "metadata": {},
     "output_type": "execute_result"
    },
    {
     "data": {
      "image/png": "[encoded data removed]",
      "text/plain": [
       "<Figure size 432x288 with 1 Axes>"
      ]
     },
     "metadata": {
      "needs_background": "light"
     },
     "output_type": "display_data"
    }
   ],
   "source": [
    "plt.plot(us5.loc[us5['STATE']== 'WASHINGTON', 'YEAR'], us5.loc[us5.STATE == 'WASHINGTON', 'TOTAL_REVENUE'],\n",
    "        label = 'REVENUE')\n",
    "plt.plot(us5.loc[us5.STATE == 'WASHINGTON', 'YEAR'], us5.loc[us5.STATE == 'WASHINGTON', 'TOTAL_EXPENDITURE'], label = 'EXPENDITURE')\n",
    "plt.title('EXPENDITURE VS REVENUE')\n",
    "plt.legend()"
   ]
  },
  {
   "cell_type": "markdown",
   "metadata": {},
   "source": [
    "### It appears that the expenditure was more than revenue from 1995 to 2012, then revenue was higher from 2012 till 2017"
   ]
  },
  {
   "cell_type": "markdown",
   "metadata": {},
   "source": [
    "## 3. In your chosen state, which of the lessons are the students more successful, math or reading?"
   ]
  },
  {
   "cell_type": "code",
   "execution_count": 51,
   "metadata": {},
   "outputs": [
    {
     "data": {
      "text/plain": [
       "Text(0.5, 1.0, 'MATH 4 VS READING 4')"
      ]
     },
     "execution_count": 51,
     "metadata": {},
     "output_type": "execute_result"
    },
    {
     "data": {
      "image/png": "[encoded data removed]",
      "text/plain": [
       "<Figure size 432x288 with 1 Axes>"
      ]
     },
     "metadata": {
      "needs_background": "light"
     },
     "output_type": "display_data"
    }
   ],
   "source": [
    "plt.hist(us5.loc[us5.STATE == 'WASHINGTON', 'AVG_MATH_4_SCORE'], color = 'g', label = 'MATH')\n",
    "plt.hist(us5.loc[us5.STATE == 'WASHINGTON', 'AVG_READING_4_SCORE'], color = 'r', label = 'READING')\n",
    "plt.legend()\n",
    "plt.title('MATH 4 VS READING 4', color = 'blue')"
   ]
  },
  {
   "cell_type": "markdown",
   "metadata": {},
   "source": [
    "## it is clear that the students are more succesfull in Math than reading "
   ]
  },
  {
   "cell_type": "code",
   "execution_count": 52,
   "metadata": {},
   "outputs": [
    {
     "data": {
      "text/plain": [
       "256      8.206331\n",
       "620     17.196144\n",
       "723     18.198277\n",
       "828     18.542895\n",
       "936     20.926981\n",
       "1040    22.654097\n",
       "1144    21.239475\n",
       "1246    19.088533\n",
       "1488    18.577592\n",
       "dtype: float64"
      ]
     },
     "execution_count": 52,
     "metadata": {},
     "output_type": "execute_result"
    }
   ],
   "source": [
    "us5.loc[us5.STATE == 'WASHINGTON', 'AVG_MATH_4_SCORE']-us5.loc[us5.STATE == 'WASHINGTON', 'AVG_READING_4_SCORE']"
   ]
  },
  {
   "cell_type": "code",
   "execution_count": 53,
   "metadata": {},
   "outputs": [
    {
     "data": {
      "text/plain": [
       "Text(0.5, 1.0, 'MATH 8 VS READING 8')"
      ]
     },
     "execution_count": 53,
     "metadata": {},
     "output_type": "execute_result"
    },
    {
     "data": {
      "image/png": "[encoded data removed]",
      "text/plain": [
       "<Figure size 432x288 with 1 Axes>"
      ]
     },
     "metadata": {
      "needs_background": "light"
     },
     "output_type": "display_data"
    }
   ],
   "source": [
    "plt.hist(us5.loc[us5.STATE == 'WASHINGTON', 'AVG_MATH_8_SCORE'], color = 'g', label = 'MATH')\n",
    "plt.hist(us5.loc[us5.STATE == 'WASHINGTON', 'AVG_READING_8_SCORE'], color = 'r', label = 'READING')\n",
    "plt.legend()\n",
    "plt.title('MATH 8 VS READING 8', color = 'b')"
   ]
  },
  {
   "cell_type": "markdown",
   "metadata": {},
   "source": [
    "## 4. What are the distributions of the math and reading scores in the sample?"
   ]
  },
  {
   "cell_type": "code",
   "execution_count": 54,
   "metadata": {},
   "outputs": [
    {
     "data": {
      "text/plain": [
       "<matplotlib.legend.Legend at 0x1a18c2f0f0>"
      ]
     },
     "execution_count": 54,
     "metadata": {},
     "output_type": "execute_result"
    },
    {
     "data": {
      "image/png": "[encoded data removed]",
      "text/plain": [
       "<Figure size 1440x720 with 4 Axes>"
      ]
     },
     "metadata": {
      "needs_background": "light"
     },
     "output_type": "display_data"
    }
   ],
   "source": [
    "plt.figure(figsize= (20,10))\n",
    "plt.subplot(2,2,1)\n",
    "plt.hist(us5.AVG_MATH_4_SCORE, label = 'MATH 4', color = 'b')\n",
    "plt.legend()\n",
    "plt.subplot(2,2,2)\n",
    "plt.hist(us5.AVG_MATH_8_SCORE, label = 'MATH 8', color = 'g')\n",
    "plt.legend()\n",
    "plt.subplot(2,2,3)\n",
    "plt.hist(us5.AVG_READING_4_SCORE, label = 'READING 4', color = 'b')\n",
    "plt.legend()\n",
    "plt.subplot(2,2,4)\n",
    "plt.hist(us5.AVG_READING_8_SCORE, label = 'READING 8', color = 'g')\n",
    "plt.legend()"
   ]
  },
  {
   "cell_type": "code",
   "execution_count": 55,
   "metadata": {},
   "outputs": [
    {
     "data": {
      "text/plain": [
       "<matplotlib.legend.Legend at 0x1a194b0c18>"
      ]
     },
     "execution_count": 55,
     "metadata": {},
     "output_type": "execute_result"
    },
    {
     "data": {
      "image/png": "[encoded data removed]",
      "text/plain": [
       "<Figure size 1440x720 with 4 Axes>"
      ]
     },
     "metadata": {
      "needs_background": "light"
     },
     "output_type": "display_data"
    }
   ],
   "source": [
    "plt.figure(figsize= (20,10))\n",
    "plt.subplot(2,2,1)\n",
    "plt.hist(us5.AVG_MATH_4_SCORE.dropna(), label = 'MATH 4', color = 'b')\n",
    "plt.legend()\n",
    "plt.subplot(2,2,2)\n",
    "plt.hist(us5.AVG_MATH_8_SCORE.dropna(), label = 'MATH 8', color = 'g')\n",
    "plt.legend()\n",
    "plt.subplot(2,2,3)\n",
    "plt.hist(us5.AVG_READING_4_SCORE.dropna(), label = 'READING 4', color = 'b')\n",
    "plt.legend()\n",
    "plt.subplot(2,2,4)\n",
    "plt.hist(us5.AVG_READING_8_SCORE.dropna(), label = 'READING 8', color = 'g')\n",
    "plt.legend()"
   ]
  },
  {
   "cell_type": "markdown",
   "metadata": {},
   "source": [
    "## 5. Notice there are too many missing values for math and reading scores. Fill out the missing values using mean, median, and linear interpolation. Then compare the effects of these techniques on the distributions of the score variables."
   ]
  },
  {
   "cell_type": "code",
   "execution_count": 56,
   "metadata": {},
   "outputs": [],
   "source": [
    "us6_mean = usaed_df.copy()"
   ]
  },
  {
   "cell_type": "code",
   "execution_count": 57,
   "metadata": {},
   "outputs": [],
   "source": [
    "column_list1 = ['ENROLL',\n",
    " 'TOTAL_REVENUE',\n",
    " 'FEDERAL_REVENUE',\n",
    " 'STATE_REVENUE',\n",
    " 'LOCAL_REVENUE',\n",
    " 'TOTAL_EXPENDITURE',\n",
    " 'INSTRUCTION_EXPENDITURE',\n",
    " 'SUPPORT_SERVICES_EXPENDITURE',\n",
    " 'OTHER_EXPENDITURE',\n",
    " 'CAPITAL_OUTLAY_EXPENDITURE',\n",
    " 'GRADES_PK_G',\n",
    " 'GRADES_KG_G',\n",
    " 'GRADES_4_G',\n",
    " 'GRADES_8_G',\n",
    " 'GRADES_12_G',\n",
    " 'GRADES_1_8_G',\n",
    " 'GRADES_9_12_G',\n",
    " 'GRADES_ALL_G', 'AVG_MATH_4_SCORE', 'AVG_MATH_8_SCORE', 'AVG_READING_4_SCORE', 'AVG_READING_8_SCORE']"
   ]
  },
  {
   "cell_type": "code",
   "execution_count": 58,
   "metadata": {},
   "outputs": [],
   "source": [
    "for col in column_list1:\n",
    "    us6_mean.loc[:, col] = us6_mean.loc[:, col].fillna(us6_mean.loc[:, col].mean())"
   ]
  },
  {
   "cell_type": "code",
   "execution_count": 59,
   "metadata": {},
   "outputs": [
    {
     "data": {
      "text/plain": [
       "<matplotlib.legend.Legend at 0x1a199941d0>"
      ]
     },
     "execution_count": 59,
     "metadata": {},
     "output_type": "execute_result"
    },
    {
     "data": {
      "image/png": "[encoded data removed]",
      "text/plain": [
       "<Figure size 1440x720 with 4 Axes>"
      ]
     },
     "metadata": {
      "needs_background": "light"
     },
     "output_type": "display_data"
    }
   ],
   "source": [
    "plt.figure(figsize= (20,10))\n",
    "plt.subplot(2,2,1)\n",
    "plt.hist(us6_mean.AVG_MATH_4_SCORE, label = 'MATH 4', color = 'b')\n",
    "plt.legend()\n",
    "plt.subplot(2,2,2)\n",
    "plt.hist(us6_mean.AVG_MATH_8_SCORE, label = 'MATH 8', color = 'g')\n",
    "plt.legend()\n",
    "plt.subplot(2,2,3)\n",
    "plt.hist(us6_mean.AVG_READING_4_SCORE, label = 'READING 4', color = 'b')\n",
    "plt.legend()\n",
    "plt.subplot(2,2,4)\n",
    "plt.hist(us6_mean.AVG_READING_8_SCORE, label = 'READING 8', color = 'g')\n",
    "plt.legend()"
   ]
  },
  {
   "cell_type": "code",
   "execution_count": 60,
   "metadata": {},
   "outputs": [],
   "source": [
    "us6_median = usaed_df.copy()"
   ]
  },
  {
   "cell_type": "code",
   "execution_count": 61,
   "metadata": {},
   "outputs": [],
   "source": [
    "for col in column_list1:\n",
    "    us6_median.loc[:, col] = us6_median.loc[:, col].fillna(us6_median.loc[:, col].median())"
   ]
  },
  {
   "cell_type": "code",
   "execution_count": 62,
   "metadata": {},
   "outputs": [
    {
     "data": {
      "text/plain": [
       "<matplotlib.legend.Legend at 0x1a19e50208>"
      ]
     },
     "execution_count": 62,
     "metadata": {},
     "output_type": "execute_result"
    },
    {
     "data": {
      "image/png": "[encoded data removed]",
      "text/plain": [
       "<Figure size 1440x720 with 4 Axes>"
      ]
     },
     "metadata": {
      "needs_background": "light"
     },
     "output_type": "display_data"
    }
   ],
   "source": [
    "plt.figure(figsize= (20,10))\n",
    "plt.subplot(2,2,1)\n",
    "plt.hist(us6_median.AVG_MATH_4_SCORE, label = 'MATH 4', color = 'b')\n",
    "plt.legend()\n",
    "plt.subplot(2,2,2)\n",
    "plt.hist(us6_median.AVG_MATH_8_SCORE, label = 'MATH 8', color = 'g')\n",
    "plt.legend()\n",
    "plt.subplot(2,2,3)\n",
    "plt.hist(us6_median.AVG_READING_4_SCORE, label = 'READING 4', color = 'b')\n",
    "plt.legend()\n",
    "plt.subplot(2,2,4)\n",
    "plt.hist(us6_median.AVG_READING_8_SCORE, label = 'READING 8', color = 'g')\n",
    "plt.legend()"
   ]
  },
  {
   "cell_type": "code",
   "execution_count": 63,
   "metadata": {},
   "outputs": [],
   "source": [
    "us6_inter = usaed_df.copy()"
   ]
  },
  {
   "cell_type": "code",
   "execution_count": 64,
   "metadata": {},
   "outputs": [],
   "source": [
    "for col in column_list1:\n",
    "    us6_inter.loc[:, col] = us6_inter.loc[:, col].interpolate()"
   ]
  },
  {
   "cell_type": "code",
   "execution_count": 65,
   "metadata": {},
   "outputs": [
    {
     "name": "stdout",
     "output_type": "stream",
     "text": [
      "<class 'pandas.core.frame.DataFrame'>\n",
      "RangeIndex: 1492 entries, 0 to 1491\n",
      "Data columns (total 25 columns):\n",
      "PRIMARY_KEY                     1492 non-null object\n",
      "STATE                           1492 non-null object\n",
      "YEAR                            1492 non-null int64\n",
      "ENROLL                          1456 non-null float64\n",
      "TOTAL_REVENUE                   1492 non-null float64\n",
      "FEDERAL_REVENUE                 1492 non-null float64\n",
      "STATE_REVENUE                   1492 non-null float64\n",
      "LOCAL_REVENUE                   1492 non-null float64\n",
      "TOTAL_EXPENDITURE               1492 non-null float64\n",
      "INSTRUCTION_EXPENDITURE         1492 non-null float64\n",
      "SUPPORT_SERVICES_EXPENDITURE    1492 non-null float64\n",
      "OTHER_EXPENDITURE               1456 non-null float64\n",
      "CAPITAL_OUTLAY_EXPENDITURE      1492 non-null float64\n",
      "GRADES_PK_G                     1492 non-null float64\n",
      "GRADES_KG_G                     1492 non-null float64\n",
      "GRADES_4_G                      1492 non-null float64\n",
      "GRADES_8_G                      1492 non-null float64\n",
      "GRADES_12_G                     1492 non-null float64\n",
      "GRADES_1_8_G                    1492 non-null float64\n",
      "GRADES_9_12_G                   1492 non-null float64\n",
      "GRADES_ALL_G                    1492 non-null float64\n",
      "AVG_MATH_4_SCORE                1492 non-null float64\n",
      "AVG_MATH_8_SCORE                1492 non-null float64\n",
      "AVG_READING_4_SCORE             1492 non-null float64\n",
      "AVG_READING_8_SCORE             1491 non-null float64\n",
      "dtypes: float64(22), int64(1), object(2)\n",
      "memory usage: 291.5+ KB\n"
     ]
    }
   ],
   "source": [
    "us6_inter.info()"
   ]
  },
  {
   "cell_type": "code",
   "execution_count": 66,
   "metadata": {},
   "outputs": [
    {
     "data": {
      "text/plain": [
       "<matplotlib.legend.Legend at 0x1a1a312a90>"
      ]
     },
     "execution_count": 66,
     "metadata": {},
     "output_type": "execute_result"
    },
    {
     "data": {
      "image/png": "[encoded data removed]",
      "text/plain": [
       "<Figure size 1440x720 with 4 Axes>"
      ]
     },
     "metadata": {
      "needs_background": "light"
     },
     "output_type": "display_data"
    }
   ],
   "source": [
    "plt.figure(figsize= (20,10))\n",
    "plt.subplot(2,2,1)\n",
    "plt.hist(us6_inter.AVG_MATH_4_SCORE, label = 'MATH 4', color = 'b')\n",
    "plt.legend()\n",
    "plt.subplot(2,2,2)\n",
    "plt.hist(us6_inter.AVG_MATH_8_SCORE, label = 'MATH 8', color = 'g')\n",
    "plt.legend()\n",
    "plt.subplot(2,2,3)\n",
    "plt.hist(us6_inter.AVG_READING_4_SCORE, label = 'READING 4', color = 'b')\n",
    "plt.legend()\n",
    "plt.subplot(2,2,4)\n",
    "plt.hist(us6_inter.AVG_READING_8_SCORE, label = 'READING 8', color = 'g')\n",
    "plt.legend()"
   ]
  },
  {
   "cell_type": "code",
   "execution_count": 67,
   "metadata": {},
   "outputs": [
    {
     "name": "stdout",
     "output_type": "stream",
     "text": [
      "<class 'pandas.core.frame.DataFrame'>\n",
      "RangeIndex: 1492 entries, 0 to 1491\n",
      "Data columns (total 25 columns):\n",
      "PRIMARY_KEY                     1492 non-null object\n",
      "STATE                           1492 non-null object\n",
      "YEAR                            1492 non-null int64\n",
      "ENROLL                          1456 non-null float64\n",
      "TOTAL_REVENUE                   1492 non-null float64\n",
      "FEDERAL_REVENUE                 1492 non-null float64\n",
      "STATE_REVENUE                   1492 non-null float64\n",
      "LOCAL_REVENUE                   1492 non-null float64\n",
      "TOTAL_EXPENDITURE               1492 non-null float64\n",
      "INSTRUCTION_EXPENDITURE         1492 non-null float64\n",
      "SUPPORT_SERVICES_EXPENDITURE    1492 non-null float64\n",
      "OTHER_EXPENDITURE               1456 non-null float64\n",
      "CAPITAL_OUTLAY_EXPENDITURE      1492 non-null float64\n",
      "GRADES_PK_G                     1492 non-null float64\n",
      "GRADES_KG_G                     1492 non-null float64\n",
      "GRADES_4_G                      1492 non-null float64\n",
      "GRADES_8_G                      1492 non-null float64\n",
      "GRADES_12_G                     1492 non-null float64\n",
      "GRADES_1_8_G                    1492 non-null float64\n",
      "GRADES_9_12_G                   1492 non-null float64\n",
      "GRADES_ALL_G                    1492 non-null float64\n",
      "AVG_MATH_4_SCORE                1492 non-null float64\n",
      "AVG_MATH_8_SCORE                1492 non-null float64\n",
      "AVG_READING_4_SCORE             1492 non-null float64\n",
      "AVG_READING_8_SCORE             1491 non-null float64\n",
      "dtypes: float64(22), int64(1), object(2)\n",
      "memory usage: 291.5+ KB\n"
     ]
    }
   ],
   "source": [
    "us6_inter.info()"
   ]
  },
  {
   "cell_type": "code",
   "execution_count": 69,
   "metadata": {},
   "outputs": [],
   "source": [
    "education_df = us6_inter.copy()"
   ]
  },
  {
   "cell_type": "markdown",
   "metadata": {},
   "source": [
    "## 1.Create a new score variable from the weighted averages of all score variables in the datasets. Notice that the number of students in the 4th grade isn't the same as the number of students in the 8th grade. So, you should appropriately weigh the scores!."
   ]
  },
  {
   "cell_type": "code",
   "execution_count": 71,
   "metadata": {},
   "outputs": [],
   "source": [
    "education_df[\"overall_score\"] = (education_df[\"GRADES_4_G\"]*((education_df[\"AVG_MATH_4_SCORE\"] + education_df[\"AVG_READING_4_SCORE\"])*0.5) + education_df[\"GRADES_8_G\"]\n",
    "                                 * ((education_df[\"AVG_MATH_8_SCORE\"] + education_df[\"AVG_READING_8_SCORE\"])*0.5))/(education_df[\"GRADES_4_G\"] + education_df[\"GRADES_8_G\"])\n"
   ]
  },
  {
   "cell_type": "markdown",
   "metadata": {},
   "source": [
    "## 2. What are the correlations between this newly created score variable and the expenditure types? Which 1 of the expenditure types is more correlated than the others?"
   ]
  },
  {
   "cell_type": "code",
   "execution_count": 74,
   "metadata": {},
   "outputs": [
    {
     "data": {
      "text/html": [
       "<div>\n",
       "<style scoped>\n",
       "    .dataframe tbody tr th:only-of-type {\n",
       "        vertical-align: middle;\n",
       "    }\n",
       "\n",
       "    .dataframe tbody tr th {\n",
       "        vertical-align: top;\n",
       "    }\n",
       "\n",
       "    .dataframe thead th {\n",
       "        text-align: right;\n",
       "    }\n",
       "</style>\n",
       "<table border=\"1\" class=\"dataframe\">\n",
       "  <thead>\n",
       "    <tr style=\"text-align: right;\">\n",
       "      <th></th>\n",
       "      <th>overall_score</th>\n",
       "      <th>TOTAL_EXPENDITURE</th>\n",
       "      <th>INSTRUCTION_EXPENDITURE</th>\n",
       "      <th>SUPPORT_SERVICES_EXPENDITURE</th>\n",
       "      <th>OTHER_EXPENDITURE</th>\n",
       "      <th>CAPITAL_OUTLAY_EXPENDITURE</th>\n",
       "    </tr>\n",
       "  </thead>\n",
       "  <tbody>\n",
       "    <tr>\n",
       "      <th>overall_score</th>\n",
       "      <td>1.000000</td>\n",
       "      <td>0.210299</td>\n",
       "      <td>0.212710</td>\n",
       "      <td>0.227378</td>\n",
       "      <td>0.169775</td>\n",
       "      <td>0.136603</td>\n",
       "    </tr>\n",
       "    <tr>\n",
       "      <th>TOTAL_EXPENDITURE</th>\n",
       "      <td>0.210299</td>\n",
       "      <td>1.000000</td>\n",
       "      <td>0.992757</td>\n",
       "      <td>0.992496</td>\n",
       "      <td>0.951726</td>\n",
       "      <td>0.928443</td>\n",
       "    </tr>\n",
       "    <tr>\n",
       "      <th>INSTRUCTION_EXPENDITURE</th>\n",
       "      <td>0.212710</td>\n",
       "      <td>0.992757</td>\n",
       "      <td>1.000000</td>\n",
       "      <td>0.979327</td>\n",
       "      <td>0.920297</td>\n",
       "      <td>0.896026</td>\n",
       "    </tr>\n",
       "    <tr>\n",
       "      <th>SUPPORT_SERVICES_EXPENDITURE</th>\n",
       "      <td>0.227378</td>\n",
       "      <td>0.992496</td>\n",
       "      <td>0.979327</td>\n",
       "      <td>1.000000</td>\n",
       "      <td>0.953411</td>\n",
       "      <td>0.905785</td>\n",
       "    </tr>\n",
       "    <tr>\n",
       "      <th>OTHER_EXPENDITURE</th>\n",
       "      <td>0.169775</td>\n",
       "      <td>0.951726</td>\n",
       "      <td>0.920297</td>\n",
       "      <td>0.953411</td>\n",
       "      <td>1.000000</td>\n",
       "      <td>0.923468</td>\n",
       "    </tr>\n",
       "    <tr>\n",
       "      <th>CAPITAL_OUTLAY_EXPENDITURE</th>\n",
       "      <td>0.136603</td>\n",
       "      <td>0.928443</td>\n",
       "      <td>0.896026</td>\n",
       "      <td>0.905785</td>\n",
       "      <td>0.923468</td>\n",
       "      <td>1.000000</td>\n",
       "    </tr>\n",
       "  </tbody>\n",
       "</table>\n",
       "</div>"
      ],
      "text/plain": [
       "                              overall_score  TOTAL_EXPENDITURE  \\\n",
       "overall_score                      1.000000           0.210299   \n",
       "TOTAL_EXPENDITURE                  0.210299           1.000000   \n",
       "INSTRUCTION_EXPENDITURE            0.212710           0.992757   \n",
       "SUPPORT_SERVICES_EXPENDITURE       0.227378           0.992496   \n",
       "OTHER_EXPENDITURE                  0.169775           0.951726   \n",
       "CAPITAL_OUTLAY_EXPENDITURE         0.136603           0.928443   \n",
       "\n",
       "                              INSTRUCTION_EXPENDITURE  \\\n",
       "overall_score                                0.212710   \n",
       "TOTAL_EXPENDITURE                            0.992757   \n",
       "INSTRUCTION_EXPENDITURE                      1.000000   \n",
       "SUPPORT_SERVICES_EXPENDITURE                 0.979327   \n",
       "OTHER_EXPENDITURE                            0.920297   \n",
       "CAPITAL_OUTLAY_EXPENDITURE                   0.896026   \n",
       "\n",
       "                              SUPPORT_SERVICES_EXPENDITURE  OTHER_EXPENDITURE  \\\n",
       "overall_score                                     0.227378           0.169775   \n",
       "TOTAL_EXPENDITURE                                 0.992496           0.951726   \n",
       "INSTRUCTION_EXPENDITURE                           0.979327           0.920297   \n",
       "SUPPORT_SERVICES_EXPENDITURE                      1.000000           0.953411   \n",
       "OTHER_EXPENDITURE                                 0.953411           1.000000   \n",
       "CAPITAL_OUTLAY_EXPENDITURE                        0.905785           0.923468   \n",
       "\n",
       "                              CAPITAL_OUTLAY_EXPENDITURE  \n",
       "overall_score                                   0.136603  \n",
       "TOTAL_EXPENDITURE                               0.928443  \n",
       "INSTRUCTION_EXPENDITURE                         0.896026  \n",
       "SUPPORT_SERVICES_EXPENDITURE                    0.905785  \n",
       "OTHER_EXPENDITURE                               0.923468  \n",
       "CAPITAL_OUTLAY_EXPENDITURE                      1.000000  "
      ]
     },
     "execution_count": 74,
     "metadata": {},
     "output_type": "execute_result"
    }
   ],
   "source": [
    "education_df[[\"overall_score\", \"TOTAL_EXPENDITURE\", \"INSTRUCTION_EXPENDITURE\", \"SUPPORT_SERVICES_EXPENDITURE\", \"OTHER_EXPENDITURE\", \"CAPITAL_OUTLAY_EXPENDITURE\"]].corr()"
   ]
  },
  {
   "cell_type": "markdown",
   "metadata": {},
   "source": [
    "## 3. Now, apply PCA to the 4 expenditure types. How much of the total variance is explained by the 1st component?"
   ]
  },
  {
   "cell_type": "code",
   "execution_count": 75,
   "metadata": {},
   "outputs": [],
   "source": [
    "from sklearn.decomposition import PCA\n",
    "from sklearn.preprocessing import StandardScaler\n",
    "\n",
    "X = education4_df[[\"INSTRUCTION_EXPENDITURE\", \"SUPPORT_SERVICES_EXPENDITURE\", \"OTHER_EXPENDITURE\", \"CAPITAL_OUTLAY_EXPENDITURE\"]]"
   ]
  },
  {
   "cell_type": "code",
   "execution_count": 76,
   "metadata": {},
   "outputs": [],
   "source": [
    "X = StandardScaler().fit_transform(X)"
   ]
  },
  {
   "cell_type": "code",
   "execution_count": 77,
   "metadata": {},
   "outputs": [],
   "source": [
    "sklearn_pca = PCA(n_components=1)\n",
    "education_df['pca_1'] = sklearn_pca.fit_transform(X)"
   ]
  },
  {
   "cell_type": "code",
   "execution_count": 79,
   "metadata": {},
   "outputs": [
    {
     "name": "stdout",
     "output_type": "stream",
     "text": [
      "The percentage of Total Variance in the dataset explained by each component from SKlearn PCA.\n",
      " [0.94618368]\n"
     ]
    }
   ],
   "source": [
    "print(\"The percentage of Total Variance in the dataset explained by each component from SKlearn PCA.\\n\", \n",
    "     sklearn_pca.explained_variance_ratio_)"
   ]
  },
  {
   "cell_type": "markdown",
   "metadata": {},
   "source": [
    "## 4. What is the correlation between the overall score variable and the 1st principal component?"
   ]
  },
  {
   "cell_type": "code",
   "execution_count": 80,
   "metadata": {},
   "outputs": [
    {
     "data": {
      "text/html": [
       "<div>\n",
       "<style scoped>\n",
       "    .dataframe tbody tr th:only-of-type {\n",
       "        vertical-align: middle;\n",
       "    }\n",
       "\n",
       "    .dataframe tbody tr th {\n",
       "        vertical-align: top;\n",
       "    }\n",
       "\n",
       "    .dataframe thead th {\n",
       "        text-align: right;\n",
       "    }\n",
       "</style>\n",
       "<table border=\"1\" class=\"dataframe\">\n",
       "  <thead>\n",
       "    <tr style=\"text-align: right;\">\n",
       "      <th></th>\n",
       "      <th>overall_score</th>\n",
       "      <th>pca_1</th>\n",
       "      <th>TOTAL_EXPENDITURE</th>\n",
       "      <th>INSTRUCTION_EXPENDITURE</th>\n",
       "      <th>SUPPORT_SERVICES_EXPENDITURE</th>\n",
       "      <th>OTHER_EXPENDITURE</th>\n",
       "      <th>CAPITAL_OUTLAY_EXPENDITURE</th>\n",
       "    </tr>\n",
       "  </thead>\n",
       "  <tbody>\n",
       "    <tr>\n",
       "      <th>overall_score</th>\n",
       "      <td>1.000000</td>\n",
       "      <td>0.197356</td>\n",
       "      <td>0.210299</td>\n",
       "      <td>0.212710</td>\n",
       "      <td>0.227378</td>\n",
       "      <td>0.169775</td>\n",
       "      <td>0.136603</td>\n",
       "    </tr>\n",
       "    <tr>\n",
       "      <th>pca_1</th>\n",
       "      <td>0.197356</td>\n",
       "      <td>1.000000</td>\n",
       "      <td>0.992724</td>\n",
       "      <td>0.974930</td>\n",
       "      <td>0.985919</td>\n",
       "      <td>0.975379</td>\n",
       "      <td>0.956322</td>\n",
       "    </tr>\n",
       "    <tr>\n",
       "      <th>TOTAL_EXPENDITURE</th>\n",
       "      <td>0.210299</td>\n",
       "      <td>0.992724</td>\n",
       "      <td>1.000000</td>\n",
       "      <td>0.992757</td>\n",
       "      <td>0.992496</td>\n",
       "      <td>0.951726</td>\n",
       "      <td>0.928443</td>\n",
       "    </tr>\n",
       "    <tr>\n",
       "      <th>INSTRUCTION_EXPENDITURE</th>\n",
       "      <td>0.212710</td>\n",
       "      <td>0.974930</td>\n",
       "      <td>0.992757</td>\n",
       "      <td>1.000000</td>\n",
       "      <td>0.979327</td>\n",
       "      <td>0.920297</td>\n",
       "      <td>0.896026</td>\n",
       "    </tr>\n",
       "    <tr>\n",
       "      <th>SUPPORT_SERVICES_EXPENDITURE</th>\n",
       "      <td>0.227378</td>\n",
       "      <td>0.985919</td>\n",
       "      <td>0.992496</td>\n",
       "      <td>0.979327</td>\n",
       "      <td>1.000000</td>\n",
       "      <td>0.953411</td>\n",
       "      <td>0.905785</td>\n",
       "    </tr>\n",
       "    <tr>\n",
       "      <th>OTHER_EXPENDITURE</th>\n",
       "      <td>0.169775</td>\n",
       "      <td>0.975379</td>\n",
       "      <td>0.951726</td>\n",
       "      <td>0.920297</td>\n",
       "      <td>0.953411</td>\n",
       "      <td>1.000000</td>\n",
       "      <td>0.923468</td>\n",
       "    </tr>\n",
       "    <tr>\n",
       "      <th>CAPITAL_OUTLAY_EXPENDITURE</th>\n",
       "      <td>0.136603</td>\n",
       "      <td>0.956322</td>\n",
       "      <td>0.928443</td>\n",
       "      <td>0.896026</td>\n",
       "      <td>0.905785</td>\n",
       "      <td>0.923468</td>\n",
       "      <td>1.000000</td>\n",
       "    </tr>\n",
       "  </tbody>\n",
       "</table>\n",
       "</div>"
      ],
      "text/plain": [
       "                              overall_score     pca_1  TOTAL_EXPENDITURE  \\\n",
       "overall_score                      1.000000  0.197356           0.210299   \n",
       "pca_1                              0.197356  1.000000           0.992724   \n",
       "TOTAL_EXPENDITURE                  0.210299  0.992724           1.000000   \n",
       "INSTRUCTION_EXPENDITURE            0.212710  0.974930           0.992757   \n",
       "SUPPORT_SERVICES_EXPENDITURE       0.227378  0.985919           0.992496   \n",
       "OTHER_EXPENDITURE                  0.169775  0.975379           0.951726   \n",
       "CAPITAL_OUTLAY_EXPENDITURE         0.136603  0.956322           0.928443   \n",
       "\n",
       "                              INSTRUCTION_EXPENDITURE  \\\n",
       "overall_score                                0.212710   \n",
       "pca_1                                        0.974930   \n",
       "TOTAL_EXPENDITURE                            0.992757   \n",
       "INSTRUCTION_EXPENDITURE                      1.000000   \n",
       "SUPPORT_SERVICES_EXPENDITURE                 0.979327   \n",
       "OTHER_EXPENDITURE                            0.920297   \n",
       "CAPITAL_OUTLAY_EXPENDITURE                   0.896026   \n",
       "\n",
       "                              SUPPORT_SERVICES_EXPENDITURE  OTHER_EXPENDITURE  \\\n",
       "overall_score                                     0.227378           0.169775   \n",
       "pca_1                                             0.985919           0.975379   \n",
       "TOTAL_EXPENDITURE                                 0.992496           0.951726   \n",
       "INSTRUCTION_EXPENDITURE                           0.979327           0.920297   \n",
       "SUPPORT_SERVICES_EXPENDITURE                      1.000000           0.953411   \n",
       "OTHER_EXPENDITURE                                 0.953411           1.000000   \n",
       "CAPITAL_OUTLAY_EXPENDITURE                        0.905785           0.923468   \n",
       "\n",
       "                              CAPITAL_OUTLAY_EXPENDITURE  \n",
       "overall_score                                   0.136603  \n",
       "pca_1                                           0.956322  \n",
       "TOTAL_EXPENDITURE                               0.928443  \n",
       "INSTRUCTION_EXPENDITURE                         0.896026  \n",
       "SUPPORT_SERVICES_EXPENDITURE                    0.905785  \n",
       "OTHER_EXPENDITURE                               0.923468  \n",
       "CAPITAL_OUTLAY_EXPENDITURE                      1.000000  "
      ]
     },
     "execution_count": 80,
     "metadata": {},
     "output_type": "execute_result"
    }
   ],
   "source": [
    "education_df[[\"overall_score\", \"pca_1\", \"TOTAL_EXPENDITURE\", \"INSTRUCTION_EXPENDITURE\",\n",
    "              \"SUPPORT_SERVICES_EXPENDITURE\", \"OTHER_EXPENDITURE\", \"CAPITAL_OUTLAY_EXPENDITURE\"]].corr()"
   ]
  },
  {
   "cell_type": "markdown",
   "metadata": {},
   "source": [
    "## 5. If you were to choose the best variables for your model, would you prefer using the 1st principal component instead of the expenditure variables? Why?"
   ]
  },
  {
   "cell_type": "markdown",
   "metadata": {},
   "source": [
    "## It is not a good idea to use PCA for highly correlated variables"
   ]
  },
  {
   "cell_type": "code",
   "execution_count": null,
   "metadata": {},
   "outputs": [],
   "source": []
  }
 ],
 "metadata": {
  "kernelspec": {
   "display_name": "Python 3",
   "language": "python",
   "name": "python3"
  },
  "language_info": {
   "codemirror_mode": {
    "name": "ipython",
    "version": 3
   },
   "file_extension": ".py",
   "mimetype": "text/x-python",
   "name": "python",
   "nbconvert_exporter": "python",
   "pygments_lexer": "ipython3",
   "version": "3.7.3"
  }
 },
 "nbformat": 4,
 "nbformat_minor": 2
}
